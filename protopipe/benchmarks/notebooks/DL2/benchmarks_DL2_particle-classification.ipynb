{
 "cells": [
  {
   "cell_type": "code",
   "execution_count": null,
   "metadata": {},
   "outputs": [],
   "source": [
    "# Remove input cells at runtime (nbsphinx)\n",
    "import IPython.core.display as d\n",
    "d.display_html('<script>jQuery(function() {if (jQuery(\"body.notebook_app\").length == 0) { jQuery(\".input_area\").toggle(); jQuery(\".prompt\").toggle();}});</script>', raw=True)"
   ]
  },
  {
   "cell_type": "markdown",
   "metadata": {},
   "source": [
    "# Particle classification (DL2)"
   ]
  },
  {
   "cell_type": "markdown",
   "metadata": {},
   "source": [
    "**Recommended datasample(s):**\n",
    "Datasets of fully-analyzed showers used to obtain Instrument Response Functions, which in the default pipeline workflow are called `gamma3`, `proton2` and `electron`.\n",
    "\n",
    "**Data level(s):** DL2 (shower geometry + estimated energy + estimated particle classification)\n",
    "\n",
    "**Description:**\n",
    "\n",
    "This notebook contains benchmarks for the _protopipe_ pipeline regarding particle classification of events which have been completely analyzed.  \n",
    "In the standard analysis workflow (see documentation), the performance of the separation depends on the energy, so we test it in bins of _reconstructed_ energy.\n",
    "\n",
    "**Requirements:**\n",
    "\n",
    "- get a TRAINING file generated using `protopipe-DL2` or the equivalent command from the DIRAC Grid interface\n",
    "\n",
    "- execute the notebook with `protopipe-BENCHMARK`,\n",
    "\n",
    "`protopipe-BENCHMARK launch --config_file configs/benchmarks.yaml -n DL2/benchmarks_DL2_particle-classification`\n",
    "\n",
    "To obtain the list of all available parameters add `--help-notebook`.\n",
    "\n",
    "**Development and testing:**  \n",
    "  \n",
    "As with any other part of _protopipe_ and being part of the official repository, this notebook can be further developed by any interested contributor.   \n",
    "The execution of this notebook is not currently automatic, it must be done locally by the user _before_ pushing a pull-request.  \n",
    "Please, strip the output before pushing."
   ]
  },
  {
   "cell_type": "markdown",
   "metadata": {},
   "source": [
    "## Table of contents\n",
    "   - [Estimate distribution](#Estimate-distribution)\n",
    "   - [ROC curve](#ROC-curve)\n",
    "   - [AUC value as a function of energy](#AUC-value-as-a-function-of-energy)\n",
    "   - [Cut efficiency](#Cut-efficiency)\n",
    "       - [Fraction of surviving particles as a function of applied gammaness cut](#Fraction-of-surviving-particles-as-a-function-of-applied-gammaness-cut)\n",
    "       - [Efficiencies correlation](#Efficiencies-correlation)\n",
    "       - [Efficiency protons cut with fixed gamma efficiency](#Efficiency-protons-cut-with-fixed-gamma-efficiency)"
   ]
  },
  {
   "cell_type": "markdown",
   "metadata": {
    "nbsphinx": "hidden",
    "tags": [
     "remove_input"
    ]
   },
   "source": [
    "## Imports\n",
    "[back to top](#Table-of-contents)"
   ]
  },
  {
   "cell_type": "code",
   "execution_count": null,
   "metadata": {},
   "outputs": [],
   "source": [
    "import os\n",
    "from pathlib import Path\n",
    "import yaml\n",
    "\n",
    "import pandas as pd\n",
    "import numpy as np\n",
    "from sklearn.metrics import auc, roc_curve\n",
    "import astropy.units as u\n",
    "\n",
    "import matplotlib.pyplot as plt\n",
    "from matplotlib.pyplot import rc\n",
    "import matplotlib.style as style\n",
    "from cycler import cycler\n",
    "%matplotlib inline\n",
    "\n",
    "from protopipe.pipeline.io import load_config"
   ]
  },
  {
   "cell_type": "markdown",
   "metadata": {
    "nbsphinx": "hidden",
    "tags": [
     "remove_input"
    ]
   },
   "source": [
    "## Functions\n",
    "[back to top](#Table-of-contents)"
   ]
  },
  {
   "cell_type": "code",
   "execution_count": null,
   "metadata": {},
   "outputs": [],
   "source": [
    "def plot_hist(ax, data, nbin, limit, norm=False, yerr=False, hist_kwargs={}, error_kw={}):\n",
    "    \"\"\"Utility function to plot histogram\"\"\"\n",
    "    bin_edges = np.linspace(limit[0], limit[-1], nbin + 1, True)\n",
    "    y, tmp = np.histogram(data, bins=bin_edges)\n",
    "    weights = np.ones_like(y)\n",
    "    if norm is True:\n",
    "        weights = weights / float(np.sum(y))\n",
    "    if yerr is True:\n",
    "        yerr = np.sqrt(y) * weights\n",
    "    else:\n",
    "        yerr = np.zeros(len(y))\n",
    "\n",
    "    centers = 0.5 * (bin_edges[1:] + bin_edges[:-1])\n",
    "    width = bin_edges[1:] - bin_edges[:-1]\n",
    "    ax.bar(centers, y * weights, width=width, yerr=yerr, error_kw=error_kw, **hist_kwargs)\n",
    "\n",
    "    return ax\n",
    "\n",
    "def plot_roc_curve(ax, model_output, y, **kwargs):\n",
    "    \"\"\"Plot ROC curve for a given set of model outputs and labels\"\"\"\n",
    "    fpr, tpr, _ = roc_curve(y_score=model_output, y_true=y)\n",
    "    roc_auc = auc(fpr, tpr)\n",
    "    label = '{} (area={:.2f})'.format(kwargs.pop('label'), roc_auc)  # Remove label\n",
    "    ax.plot(fpr, tpr, label=label, **kwargs)\n",
    "    return ax\n",
    "\n",
    "def plot_evt_roc_curve_variation(ax, data_test, cut_list, model_output_name):\n",
    "    \"\"\"\n",
    "\n",
    "    Parameters\n",
    "    ----------\n",
    "    ax: `~matplotlib.axes.Axes`\n",
    "        Axis\n",
    "    data_test: `~pd.DataFrame`\n",
    "        Test data\n",
    "    cut_list: `list`\n",
    "         Cut list\n",
    "\n",
    "    Returns\n",
    "    -------\n",
    "    ax:  `~matplotlib.axes.Axes`\n",
    "        Axis\n",
    "    \"\"\"\n",
    "    color = 1.\n",
    "    step_color = 1. / (len(cut_list))\n",
    "    for i, cut in enumerate(cut_list):\n",
    "        c = color - (i + 1) * step_color\n",
    "\n",
    "        data = data_test.query(cut)\n",
    "        if len(data) == 0:\n",
    "            continue\n",
    "\n",
    "        opt = dict(color=str(c), lw=2, label='{}'.format(cut.replace('reco_energy', 'E')))\n",
    "        plot_roc_curve(ax, data[model_output_name], data['label'], **opt)\n",
    "    ax.plot([0, 1], [0, 1], color='navy', lw=2, linestyle='--')\n",
    "\n",
    "    return ax\n",
    "\n",
    "# TODO: move to protopipe.benchmarks.utils\n",
    "def get_fig_size(ratio=None, scale=None):\n",
    "    ratio = 4/3. if ratio is None else ratio\n",
    "    scale = 1.0 if scale is None else scale\n",
    "    height = 5\n",
    "    width = height * ratio\n",
    "    return (width*scale, height*scale)"
   ]
  },
  {
   "cell_type": "markdown",
   "metadata": {
    "nbsphinx": "hidden",
    "tags": [
     "remove_input"
    ]
   },
   "source": [
    "## Load data\n",
    "[back to top](#Table-of-contents)"
   ]
  },
  {
   "cell_type": "code",
   "execution_count": null,
   "metadata": {
    "tags": [
     "parameters"
    ]
   },
   "outputs": [],
   "source": [
    "# Parametrized cell\n",
    "# Modify these variables according to your local setup outside of the Vagrant Box\n",
    "analyses_directory = None\n",
    "output_directory = Path.cwd() # default output directory for plots\n",
    "analysis_name = None\n",
    "load_CTAMARS = False # Enable to compare the CTAN analysis done with CTAMARS (Release 2019)\n",
    "indir_CTAMARS = None\n",
    "configuration_file_name = \"RandomForestClassifier.yaml\"\n",
    "DL2_gamma = \"DL2_tail_gamma_merged.h5\"\n",
    "DL2_proton = \"DL2_tail_proton_merged.h5\"\n",
    "DL2_electron = \"DL2_tail_electron_merged.h5\"\n",
    "use_seaborn=True\n",
    "plots_scale = None"
   ]
  },
  {
   "cell_type": "code",
   "execution_count": null,
   "metadata": {},
   "outputs": [],
   "source": [
    "input_configuration_file = Path(analyses_directory) / analysis_name / Path(\"configs\") / configuration_file_name\n",
    "cfg = load_config(input_configuration_file)\n",
    "\n",
    "if cfg[\"Method\"][\"use_proba\"] is True:\n",
    "    model_output = 'gammaness'\n",
    "    output_range = [0, 1]\n",
    "else:\n",
    "    model_output = 'score'\n",
    "    output_range = [-1, 1]"
   ]
  },
  {
   "cell_type": "code",
   "execution_count": null,
   "metadata": {},
   "outputs": [],
   "source": [
    "input_directory = Path(analyses_directory) / analysis_name / Path(\"data/DL2\")\n",
    "\n",
    "data_selection = 'NTels_reco >= 2'\n",
    "\n",
    "data_gamma = pd.read_hdf(os.path.join(input_directory, DL2_gamma), \"/reco_events\").query(data_selection)\n",
    "data_electron = pd.read_hdf(os.path.join(input_directory, DL2_electron), \"/reco_events\").query(data_selection)\n",
    "data_proton = pd.read_hdf(os.path.join(input_directory, DL2_proton), \"/reco_events\").query(data_selection)\n",
    "\n",
    "data_gamma['label'] = np.ones(len(data_gamma))\n",
    "data_electron['label'] = np.zeros(len(data_electron))\n",
    "data_proton['label'] = np.zeros(len(data_proton))"
   ]
  },
  {
   "cell_type": "code",
   "execution_count": null,
   "metadata": {},
   "outputs": [],
   "source": [
    "if load_CTAMARS:\n",
    "    \n",
    "    if not indir_CTAMARS:\n",
    "        try:\n",
    "            indir_CTAMARS = Path(input_data_CTAMARS[\"parent_directory\"]) / Path(input_data_CTAMARS[\"DL2\"])\n",
    "        except (NameError, KeyError):\n",
    "            print(\"WARNING: CTAMARS data undefined! Please, check the documentation of protopipe-BENCHMARKS.\")\n",
    "    \n",
    "    input_file_name_CTAMARS = \"AUC_vs_Ereco.csv\"\n",
    "    path_mars_AUC_vs_Ereco = indir_CTAMARS / input_file_name_CTAMARS\n",
    "    \n",
    "    from numpy import genfromtxt\n",
    "\n",
    "    CTAMARS_AUC_vs_Ereco = np.genfromtxt(path_mars_AUC_vs_Ereco, \n",
    "                                  delimiter=', ', \n",
    "                                  dtype=float,\n",
    "                                  encoding=None)\n",
    "    CTAMARS_AUC_vs_Ereco = np.stack(CTAMARS_AUC_vs_Ereco, axis=1)"
   ]
  },
  {
   "cell_type": "code",
   "execution_count": null,
   "metadata": {},
   "outputs": [],
   "source": [
    "# First we check if a _plots_ folder exists already.  \n",
    "# If not, we create it.\n",
    "plots_folder = Path(output_directory) / \"plots\"\n",
    "plots_folder.mkdir(parents=True, exist_ok=True)"
   ]
  },
  {
   "cell_type": "code",
   "execution_count": null,
   "metadata": {},
   "outputs": [],
   "source": [
    "# Plot aesthetics settings\n",
    "\n",
    "scale = matplotlib_settings[\"scale\"] if plots_scale is None else float(plots_scale)\n",
    "\n",
    "style.use(matplotlib_settings[\"style\"])\n",
    "cmap = matplotlib_settings[\"cmap\"]\n",
    "rc('font', size=matplotlib_settings[\"rc\"][\"font_size\"])\n",
    "\n",
    "if matplotlib_settings[\"style\"] == \"seaborn-colorblind\":\n",
    "    \n",
    "    # Change color order to have first ones more readable\n",
    "    colors_order = ['#0072B2', '#D55E00', '#009E73', '#CC79A7', '#56B4E9', '#F0E442']\n",
    "    rc('axes', prop_cycle=cycler(color=colors_order))\n",
    "\n",
    "if use_seaborn:\n",
    "    import seaborn as sns\n",
    "    \n",
    "    sns.set_theme(context=seaborn_settings[\"theme\"][\"context\"] if \"context\" in seaborn_settings[\"theme\"] else \"talk\",\n",
    "                  style=seaborn_settings[\"theme\"][\"style\"] if \"style\" in seaborn_settings[\"theme\"] else \"whitegrid\",\n",
    "                  palette=seaborn_settings[\"theme\"][\"palette\"] if \"palette\" in seaborn_settings[\"theme\"] else None,\n",
    "                  font=seaborn_settings[\"theme\"][\"font\"] if \"font\" in seaborn_settings[\"theme\"] else \"Fira Sans\",\n",
    "                  font_scale=seaborn_settings[\"theme\"][\"font_scale\"] if \"font_scale\" in seaborn_settings[\"theme\"] else 1.0,\n",
    "                  color_codes=seaborn_settings[\"theme\"][\"color_codes\"] if \"color_codes\" in seaborn_settings[\"theme\"] else True\n",
    "                  )\n",
    "    \n",
    "    sns.set_style(seaborn_settings[\"theme\"][\"style\"], rc=seaborn_settings[\"rc_style\"])\n",
    "    sns.set_context(seaborn_settings[\"theme\"][\"context\"],\n",
    "                    font_scale=seaborn_settings[\"theme\"][\"font_scale\"] if \"font_scale\" in seaborn_settings[\"theme\"] else 1.0)"
   ]
  },
  {
   "cell_type": "markdown",
   "metadata": {},
   "source": [
    "## Estimate distribution\n",
    "[back to top](#Table-of-contents)"
   ]
  },
  {
   "cell_type": "markdown",
   "metadata": {},
   "source": [
    "Only events reconstructed within 1 degree from the center of the camera are selected (point-source analysis) "
   ]
  },
  {
   "cell_type": "code",
   "execution_count": null,
   "metadata": {},
   "outputs": [],
   "source": [
    "energy_bounds = np.logspace(np.log10(cfg[\"Diagnostic\"][\"energy\"][\"min\"]),\n",
    "                            np.log10(cfg[\"Diagnostic\"][\"energy\"][\"max\"]),\n",
    "                            cfg[\"Diagnostic\"][\"energy\"][\"nbins\"] + 1)\n",
    "angular_cut = 1.0 # degrees\n",
    "\n",
    "\n",
    "ncols = int(cfg[\"Diagnostic\"][\"energy\"][\"nbins\"] / 2)\n",
    "n_ax = len(energy_bounds) - 1\n",
    "nrows = int(n_ax / ncols) if n_ax % ncols == 0 else int((n_ax + 1) / ncols)\n",
    "nrows = nrows\n",
    "\n",
    "fig, axes = plt.subplots(nrows=nrows, ncols=ncols, figsize=(6 * ncols, 4 * nrows))\n",
    "if nrows == 1 and ncols == 1:\n",
    "    axes = [axes]\n",
    "else:\n",
    "    axes = axes.flatten()\n",
    "\n",
    "for idx in range(len(energy_bounds) - 1):\n",
    "    ax = axes[idx]\n",
    "\n",
    "    # Data selection\n",
    "    query = 'reco_energy >= {} and reco_energy < {}'.format(energy_bounds[idx], energy_bounds[idx + 1])\n",
    "    gamma = data_gamma.query(query + ' and offset < {}'.format(angular_cut))\n",
    "    proton = data_proton.query(query + ' and offset < {}'.format(angular_cut))\n",
    "    electron = data_electron.query(query + ' and offset < {}'.format(angular_cut))\n",
    "    data_list = [gamma, proton, electron]\n",
    "    \n",
    "    # Graphical stuff\n",
    "    color_list = ['blue', 'red', 'green']\n",
    "    edgecolor_list = ['black', 'black', 'green']\n",
    "    fill_list = [True, True, False]\n",
    "    ls_list = ['-', '-', '--']\n",
    "    lw_list = [2, 2, 2]\n",
    "    alpha_list = [0.2, 0.2, 1]\n",
    "    label_list = ['Gamma', 'Proton', 'Electron']\n",
    "    \n",
    "    opt_list = []\n",
    "    err_list = []\n",
    "    for jdx, data in enumerate(data_list):\n",
    "        opt_list.append(dict(edgecolor=edgecolor_list[jdx], color=color_list[jdx], fill=fill_list[jdx], ls=ls_list[jdx], lw=lw_list[jdx], alpha=alpha_list[jdx], label=label_list[jdx]))\n",
    "        err_list.append(dict(ecolor=color_list[jdx], lw=lw_list[jdx], alpha=alpha_list[jdx], capsize=3, capthick=2,))\n",
    "    \n",
    "    for jdx, data in enumerate(data_list):\n",
    "        ax = plot_hist(\n",
    "            ax=ax, data=data[model_output], nbin=50, limit=output_range,\n",
    "            norm=True, yerr=False,\n",
    "            hist_kwargs=opt_list[jdx],\n",
    "            error_kw=err_list[jdx],\n",
    "        )\n",
    "    ax.set_title('E_reco=[{:.3f},{:.3f}] TeV'.format(energy_bounds[idx], energy_bounds[idx + 1]), fontdict={'weight': 'bold'})\n",
    "    ax.set_xlabel(model_output)\n",
    "    ax.set_ylabel('Arbitrary units')\n",
    "    ax.set_xlim(output_range)\n",
    "    ax.legend(loc='upper center')\n",
    "    ax.grid(visible=True)\n",
    "    \n",
    "plt.tight_layout()\n",
    "\n",
    "fig.savefig(plots_folder / f\"DL2_particle_classification_estimate_distribution_vs_reco_energy_protopipe_{analysis_name}.png\")\n",
    "\n",
    "plt.show()"
   ]
  },
  {
   "cell_type": "markdown",
   "metadata": {},
   "source": [
    "## ROC curve\n",
    "[back to top](#Table-of-contents)"
   ]
  },
  {
   "cell_type": "markdown",
   "metadata": {},
   "source": [
    "Bins in reconstructed energy"
   ]
  },
  {
   "cell_type": "code",
   "execution_count": null,
   "metadata": {},
   "outputs": [],
   "source": [
    "data = pd.concat([data_gamma, data_electron, data_proton])\n",
    "\n",
    "plt.figure(figsize=(8,8))\n",
    "\n",
    "ax = plt.gca()\n",
    "\n",
    "cut_list = ['reco_energy >= {:.2f} and reco_energy <= {:.2f}'.format(\n",
    "    energy_bounds[i], # should be fixed in master\n",
    "    energy_bounds[i+1] # should be fixed in master\n",
    ") for i in range(len(energy_bounds) - 1)]\n",
    "\n",
    "plot_evt_roc_curve_variation(ax, data, cut_list, model_output)\n",
    "\n",
    "ax.legend(loc='lower right', fontsize='small')\n",
    "ax.set_xlabel('False positive rate')\n",
    "ax.set_ylabel('True positive rate')\n",
    "plt.tight_layout()\n",
    "\n",
    "fig.savefig(plots_folder / f\"DL2_particle_classification_roc_curve_protopipe_{analysis_name}.png\")\n",
    "\n",
    "plt.show()"
   ]
  },
  {
   "cell_type": "markdown",
   "metadata": {},
   "source": [
    "## AUC value as a function of energy\n",
    "[back to top](#Table-of-contents)"
   ]
  },
  {
   "cell_type": "code",
   "execution_count": null,
   "metadata": {},
   "outputs": [],
   "source": [
    "plt.figure(figsize=get_fig_size(ratio=4./3., scale=scale))\n",
    "\n",
    "aucs = []\n",
    "reco_energy = []\n",
    "\n",
    "reconstructed_energy_bins_edges = np.logspace(np.log10(cfg[\"Diagnostic\"][\"energy\"][\"min\"]),\n",
    "                            np.log10(cfg[\"Diagnostic\"][\"energy\"][\"max\"]),\n",
    "                            21) * u.TeV\n",
    "\n",
    "for i in range(len(reconstructed_energy_bins_edges)-1):\n",
    "\n",
    "    cut_in_energy = f\"(reco_energy > {reconstructed_energy_bins_edges[i].value:.2f}) & (reco_energy < {reconstructed_energy_bins_edges[i+1].value:.2f})\"\n",
    "    reco_energy.append( 0.5 * (reconstructed_energy_bins_edges[i].value + reconstructed_energy_bins_edges[i+1].value) )\n",
    "\n",
    "    selected_showers = data.query(cut_in_energy)\n",
    "\n",
    "    fpr, tpr, _ = roc_curve(y_score=selected_showers[\"gammaness\"],\n",
    "                            y_true=selected_showers[\"label\"])\n",
    "    roc_auc = auc(fpr, tpr)\n",
    "\n",
    "    aucs.append(roc_auc)\n",
    "\n",
    "\n",
    "plt.hlines(1,\n",
    "           xmin=plt.gca().get_xlim()[0],\n",
    "           xmax=plt.gca().get_xlim()[1],\n",
    "           linestyles=\"dashed\")\n",
    "plt.ylim(0,1.2)\n",
    "plt.xscale(\"log\")\n",
    "plt.xlabel(\"log10(Reconstructed energy [TeV])\")\n",
    "plt.ylabel(\"AUC\")\n",
    "plt.grid(visible=True)\n",
    "\n",
    "if load_CTAMARS:\n",
    "    plt.plot((10**CTAMARS_AUC_vs_Ereco[0])/10**3,\n",
    "             CTAMARS_AUC_vs_Ereco[1],\n",
    "             label=f\"{input_data_CTAMARS['label']}\")\n",
    "    plt.plot(reco_energy, aucs, label=\"protopipe\")\n",
    "    plt.legend()\n",
    "else:\n",
    "    plt.plot(reco_energy, aucs)\n",
    "\n",
    "fig.savefig(plots_folder / f\"DL2_particle_classification_AUC_vs_Ereco_protopipe_{analysis_name}.png\")"
   ]
  },
  {
   "cell_type": "markdown",
   "metadata": {},
   "source": [
    "## Cut efficiency\n",
    "[back to top](#Table-of-contents)"
   ]
  },
  {
   "cell_type": "markdown",
   "metadata": {},
   "source": [
    "For assessing the quality of the separation we plot the fraction of surviving gammas and protons as a function of the applied gammaness cut.\n",
    "\n",
    "We use the ``gamma-3`` and the ``proton-2`` samples (those used also to calculate the final performance), and keeping only events reconstructed within 1 degree of the FoV center (since the source is at the center, we restrict the test to the protons which are actually be reconstructed around it, which are those we need to suppress to improve the sensitivity of the array).\n",
    "\n",
    "The performance of the separation depends on the energy, so we test it in bins of **reconstructed** energy around 1 TeV."
   ]
  },
  {
   "cell_type": "markdown",
   "metadata": {},
   "source": [
    "### Fraction of surviving particles as a function of applied gammaness cut\n",
    "[back to top](#Table-of-contents)"
   ]
  },
  {
   "cell_type": "code",
   "execution_count": null,
   "metadata": {},
   "outputs": [],
   "source": [
    "plt.figure(figsize=(8,8))\n",
    "\n",
    "opt = {\"bins\":100,\n",
    "       \"density\":True,\n",
    "       \"histtype\":'step',\n",
    "       \"cumulative\":True,\n",
    "       \"align\": \"right\",\n",
    "       \"lw\": 2,\n",
    "       \"range\": [0,1]}\n",
    "\n",
    "min_energy = (10**2.9 * u.GeV).to(\"TeV\")\n",
    "max_energy = (10**3.1 * u.GeV).to(\"TeV\")\n",
    "\n",
    "max_distance_center_FoV = 1 * u.deg\n",
    "energy_cut = f\"reco_energy > {min_energy.value} and reco_energy < {max_energy.value}\"\n",
    "angular_cut = f\" and offset < {max_distance_center_FoV.value}\"\n",
    "total_cut = energy_cut + angular_cut\n",
    "\n",
    "if load_CTAMARS: # use \"hadronness\" definition\n",
    "    print(\"CTAMARS comparison enabled: using 'hadronness' definition instead of 'gammaness'.\")\n",
    "    gamma_efficiencies = plt.hist(1 - data_gamma.query(total_cut)[\"gammaness\"], label=\"gammas\", **opt)\n",
    "    proton_efficiencies = plt.hist(1 - data_proton.query(total_cut)[\"gammaness\"], label=\"protons\", **opt)\n",
    "    plt.xlabel(\"Hadronness\")\n",
    "else:\n",
    "    gamma_efficiencies = plt.hist(data_gamma.query(total_cut)[\"gammaness\"], label=\"gammas\", **opt)\n",
    "    proton_efficiencies = plt.hist(data_proton.query(total_cut)[\"gammaness\"], label=\"protons\", **opt)\n",
    "    plt.xlabel(\"Gammaness\")\n",
    "plt.xlim(0.,1.)\n",
    "plt.ylim(0.,1.)\n",
    "plt.ylabel(\"Efficiency\")\n",
    "\n",
    "plt.grid(visible=True)\n",
    "plt.title(f\"{min_energy:.2f} < E_reco < {max_energy:.2f} and offset  < {max_distance_center_FoV.value}\")\n",
    "plt.legend(loc=\"upper left\")\n",
    "None"
   ]
  },
  {
   "cell_type": "markdown",
   "metadata": {},
   "source": [
    "### Efficiencies correlation\n",
    "[back to top](#Table-of-contents)"
   ]
  },
  {
   "cell_type": "code",
   "execution_count": null,
   "metadata": {},
   "outputs": [],
   "source": [
    "plt.figure(figsize=get_fig_size(ratio=4./3., scale=scale))\n",
    "plt.plot(proton_efficiencies[0],gamma_efficiencies[0])\n",
    "plt.xscale(\"log\")\n",
    "plt.ylabel(\"Gamma efficiency\")\n",
    "plt.xlabel(\"Proton efficiency\")\n",
    "plt.grid(visible=True)\n",
    "if load_CTAMARS:\n",
    "    plt.xlim(1.e-3, 1)\n",
    "None"
   ]
  },
  {
   "cell_type": "markdown",
   "metadata": {},
   "source": [
    "### Efficiency protons cut with fixed gamma efficiency\n",
    "[back to top](#Table-of-contents)"
   ]
  },
  {
   "cell_type": "markdown",
   "metadata": {},
   "source": [
    "We apply a gamma efficiency cut of 90%."
   ]
  },
  {
   "cell_type": "code",
   "execution_count": null,
   "metadata": {},
   "outputs": [],
   "source": [
    "plt.figure(figsize=(8,8))\n",
    "\n",
    "reco_energy = []\n",
    "efficiency_protons = []\n",
    "for i in range(len(reconstructed_energy_bins_edges)-1):\n",
    "    \n",
    "    cut_in_energy = f\"(reco_energy > {reconstructed_energy_bins_edges[i].value:.2f}) & (reco_energy < {reconstructed_energy_bins_edges[i+1].value:.2f})\"\n",
    "    reco_energy.append( 0.5 * (reconstructed_energy_bins_edges[i].value + reconstructed_energy_bins_edges[i+1].value) )\n",
    "    \n",
    "    efficiency_cut = np.quantile(data_gamma.query(cut_in_energy + angular_cut)[\"gammaness\"], 0.9)\n",
    "    efficiency_protons.append(len(data_proton.query(cut_in_energy + angular_cut + \" and gammaness > 0.9\"))/len(data_proton.query(cut_in_energy + angular_cut)))\n",
    "\n",
    "plt.plot(reco_energy, efficiency_protons, \"o\")\n",
    "plt.xscale(\"log\")\n",
    "plt.yscale(\"log\")\n",
    "plt.xlabel(\"Reconstructed energy [TeV]\")\n",
    "plt.ylabel(\"Proton efficiency for 90% gamma efficiency\")\n",
    "plt.grid(which=\"both\", visible=True)\n",
    "plt.ylim(1.e-5, 1)\n",
    "if load_CTAMARS:\n",
    "    plt.xlim(0.01, 200)\n",
    "None"
   ]
  },
  {
   "cell_type": "code",
   "execution_count": null,
   "metadata": {},
   "outputs": [],
   "source": []
  }
 ],
 "metadata": {
  "kernelspec": {
   "display_name": "Python 3 (ipykernel)",
   "language": "python",
   "name": "python3"
  },
  "language_info": {
   "codemirror_mode": {
    "name": "ipython",
    "version": 3
   },
   "file_extension": ".py",
   "mimetype": "text/x-python",
   "name": "python",
   "nbconvert_exporter": "python",
   "pygments_lexer": "ipython3",
   "version": "3.8.11"
  }
 },
 "nbformat": 4,
 "nbformat_minor": 4
}
