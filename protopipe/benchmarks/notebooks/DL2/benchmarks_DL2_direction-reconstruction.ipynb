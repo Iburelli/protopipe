{
 "cells": [
  {
   "cell_type": "code",
   "execution_count": null,
   "metadata": {},
   "outputs": [],
   "source": [
    "# Remove input cells at runtime (nbsphinx)\n",
    "import IPython.core.display as d\n",
    "d.display_html('<script>jQuery(function() {if (jQuery(\"body.notebook_app\").length == 0) { jQuery(\".input_area\").toggle(); jQuery(\".prompt\").toggle();}});</script>', raw=True)"
   ]
  },
  {
   "cell_type": "markdown",
   "metadata": {},
   "source": [
    "# Direction recontruction (DL2)"
   ]
  },
  {
   "cell_type": "markdown",
   "metadata": {},
   "source": [
    "**Recommended datasample(s):**\n",
    "Datasets of fully-analyzed showers used to obtain Instrument Response Functions, which in the default pipeline workflow are called ``gamma3``, ``proton2`` and ``electron``.\n",
    "\n",
    "**Data level(s):** DL2 (shower geometry + estimated energy + estimated particle classification)\n",
    "\n",
    "**Description:**\n",
    "\n",
    "This notebook contains benchmarks for the _protopipe_ pipeline regarding the shower geometry of events which have been completely analyzed.\n",
    "\n",
    "**Requirements and steps to reproduce:**\n",
    "\n",
    "- get a TRAINING file generated using ``protopipe-DL2`` or the equivalent command from the DIRAC Grid interface\n",
    "\n",
    "- execute the notebook with ``protopipe-BENCHMARK``,\n",
    "\n",
    "``protopipe-BENCHMARK launch --config_file configs/benchmarks.yaml -n DL2/benchmarks_DL2_direction-reconstruction``\n",
    "\n",
    "To obtain the list of all available parameters add ``--help-notebook``.\n",
    "\n",
    "**Development and testing:**  \n",
    "  \n",
    "As with any other part of _protopipe_ and being part of the official repository, this notebook can be further developed by any interested contributor.   \n",
    "The execution of this notebook is not currently automatic, it must be done locally by the user _before_ pushing a pull-request.  \n",
    "Please, strip the output before pushing.\n",
    "\n",
    "**TODO:**\n",
    "\n",
    "* ..."
   ]
  },
  {
   "cell_type": "markdown",
   "metadata": {},
   "source": [
    "## Table of contents\n",
    "   - [Energy-dependent offset distribution](#Energy-dependent-offset-distribution)\n",
    "   - [Angular resolution](#Angular-resolution)\n",
    "   - [PSF asymmetry](#PSF-asymmetry)\n",
    "   - [True energy distributions](#True-energy-distributions)"
   ]
  },
  {
   "cell_type": "markdown",
   "metadata": {
    "nbsphinx": "hidden",
    "tags": [
     "remove_input"
    ]
   },
   "source": [
    "## Imports"
   ]
  },
  {
   "cell_type": "code",
   "execution_count": null,
   "metadata": {},
   "outputs": [],
   "source": [
    "import os\n",
    "from pathlib import Path\n",
    "\n",
    "%matplotlib inline\n",
    "import matplotlib.pyplot as plt\n",
    "from matplotlib.colors import LogNorm\n",
    "import matplotlib.style as style\n",
    "\n",
    "import numpy as np\n",
    "import pandas as pd\n",
    "\n",
    "import astropy.units as u\n",
    "from astropy.coordinates import SkyCoord\n",
    "from ctapipe.coordinates import NominalFrame\n",
    "from pyirf.binning import (\n",
    "    add_overflow_bins,\n",
    "    create_bins_per_decade\n",
    ")"
   ]
  },
  {
   "cell_type": "markdown",
   "metadata": {
    "nbsphinx": "hidden",
    "tags": [
     "remove_input"
    ]
   },
   "source": [
    "## Functions"
   ]
  },
  {
   "cell_type": "code",
   "execution_count": null,
   "metadata": {},
   "outputs": [],
   "source": [
    "# TODO: move to protopipe.benchmarks.utils\n",
    "def raise_(ex):\n",
    "    \"\"\"Raise an exception as a statement.\n",
    "    \n",
    "    This is a general purpose raiser for cases such as a lambda function.\n",
    "    \n",
    "    Parameters\n",
    "    ----------\n",
    "    ex: exception\n",
    "        Python built-in exception to raise.\n",
    "    \"\"\"\n",
    "    raise ex\n",
    "\n",
    "# TODO: move to protopipe.benchmarks.utils\n",
    "def string_to_boolean(variables):\n",
    "    \"\"\"Convert True/False strings to booleans.\n",
    "    \n",
    "    Useful in case a specific use of the CLI doesn't allow to read booleans as booleans.\n",
    "    \n",
    "    Parameters\n",
    "    ----------\n",
    "    variables: list of str\n",
    "        Variables to check.\n",
    "    \"\"\"\n",
    "    \n",
    "    def check_str(x): return x if type(x) == bool \\\n",
    "        else True if x == \"True\" \\\n",
    "        else False if x == \"False\" \\\n",
    "        else raise_(ValueError(f\"{x} is not a valid boolean.\"))\n",
    "    \n",
    "    return list(map(check_str, variables))"
   ]
  },
  {
   "cell_type": "code",
   "execution_count": null,
   "metadata": {},
   "outputs": [],
   "source": [
    "def compute_psf(data, ebins, radius):\n",
    "    nbin = len(ebins) - 1\n",
    "    psf = np.zeros(nbin)\n",
    "    psf_err = np.zeros(nbin)\n",
    "    for idx in range(nbin):\n",
    "        emin = ebins[idx]\n",
    "        emax = ebins[idx+1]\n",
    "        sel = data.loc[(data['true_energy'] >= emin) & (data['true_energy'] < emax), ['xi']]\n",
    "        if len(sel) != 0:\n",
    "            psf[idx] = np.percentile(sel['xi'], radius)\n",
    "            psf_err[idx] = psf[idx] / np.sqrt(len(sel))\n",
    "        else:\n",
    "            psf[idx] = 0.\n",
    "            psf_err[idx] = 0.\n",
    "    return psf, psf_err\n",
    "\n",
    "def plot_psf(ax, x, y, err, **kwargs):\n",
    "    color = kwargs.get('color', 'red')\n",
    "    label = kwargs.get('label', '')\n",
    "    xlabel = kwargs.get('xlabel', '')\n",
    "    xlim = kwargs.get('xlim', None)\n",
    "    \n",
    "    ax.errorbar(x, y, yerr=err, fmt='o', label=label, color=color) #, yerr=err, fmt='o') #, color=color, label=label)\n",
    "    ax.set_ylabel('PSF (68% containment)')\n",
    "    ax.set_xlabel('True energy [TeV]')\n",
    "    if xlim is not None:\n",
    "        ax.set_xlim(xlim)\n",
    "    return ax"
   ]
  },
  {
   "cell_type": "markdown",
   "metadata": {
    "nbsphinx": "hidden",
    "tags": [
     "remove_input"
    ]
   },
   "source": [
    "## Load data"
   ]
  },
  {
   "cell_type": "code",
   "execution_count": null,
   "metadata": {
    "tags": [
     "parameters"
    ]
   },
   "outputs": [],
   "source": [
    "# Parametrized cell\n",
    "analyses_directory = None\n",
    "output_directory = Path.cwd() # default output directory for plots\n",
    "analysis_name = None\n",
    "analysis_name_2 = None\n",
    "gammas_infile_name = \"DL2_tail_gamma_merged.h5\"\n",
    "protons_infile_name = \"DL2_tail_proton_merged.h5\"\n",
    "electrons_infile_name = \"DL2_tail_electron_merged.h5\"\n",
    "export_data = False\n",
    "superimpose_analysis_2 = False\n",
    "use_seaborn = True"
   ]
  },
  {
   "cell_type": "code",
   "execution_count": null,
   "metadata": {},
   "outputs": [],
   "source": [
    "# Handle boolean variables (papermill reads them as strings)\n",
    "[use_seaborn,\n",
    " export_data,\n",
    " superimpose_analysis_2] = string_to_boolean([use_seaborn,\n",
    "                                              export_data,\n",
    "                                              superimpose_analysis_2])"
   ]
  },
  {
   "cell_type": "code",
   "execution_count": null,
   "metadata": {},
   "outputs": [],
   "source": [
    "input_directory = Path(analyses_directory) / analysis_name / Path(\"data/DL2\")\n",
    "gammas = pd.read_hdf(os.path.join(input_directory, gammas_infile_name), \"/reco_events\")\n",
    "protons = pd.read_hdf(os.path.join(input_directory, protons_infile_name), \"/reco_events\")\n",
    "electrons = pd.read_hdf(os.path.join(input_directory, electrons_infile_name), \"/reco_events\")"
   ]
  },
  {
   "cell_type": "code",
   "execution_count": null,
   "metadata": {},
   "outputs": [],
   "source": [
    "selected_gammas = gammas[(gammas[\"is_valid\"]==True) & (gammas[\"NTels_reco\"] >= 2) & (gammas[\"gammaness\"] >= 0.90)]"
   ]
  },
  {
   "cell_type": "code",
   "execution_count": null,
   "metadata": {},
   "outputs": [],
   "source": [
    "# First we check if a _plots_ folder exists already.  \n",
    "# If not, we create it.\n",
    "plots_folder = Path(output_directory) / \"plots\"\n",
    "plots_folder.mkdir(parents=True, exist_ok=True)\n",
    "\n",
    "# Next we check if a _data_ folder exists already.  \n",
    "# If not, we create it.\n",
    "data_folder = Path(output_directory) / \"data\"\n",
    "data_folder.mkdir(parents=True, exist_ok=True)\n",
    "\n",
    "input_directory_data_2 = Path(analyses_directory) / analysis_name_2/ \"benchmarks_results/TRAINING\""
   ]
  },
  {
   "cell_type": "code",
   "execution_count": null,
   "metadata": {},
   "outputs": [],
   "source": [
    "# Plot aesthetics settings\n",
    "\n",
    "style.use(matplotlib_settings[\"style\"])\n",
    "cmap = matplotlib_settings[\"cmap\"]\n",
    "\n",
    "if use_seaborn:\n",
    "    import seaborn as sns\n",
    "\n",
    "    sns.set_style(seaborn_settings[\"style\"], seaborn_settings[\"rc\"])\n",
    "    sns.set_context(seaborn_settings[\"context\"])"
   ]
  },
  {
   "cell_type": "markdown",
   "metadata": {
    "nbsphinx": "hidden"
   },
   "source": [
    "## Benchmarks"
   ]
  },
  {
   "cell_type": "markdown",
   "metadata": {},
   "source": [
    "Here we use events with the following cuts:\n",
    "- valid reconstructed events\n",
    "- at least 2 reconstructed images, regardless of the camera (on top of any other hardware trigger)\n",
    "- gammaness > 0.75 (mostly a conservative choice)"
   ]
  },
  {
   "cell_type": "markdown",
   "metadata": {},
   "source": [
    "### Energy-dependent offset distribution\n",
    "[back to top](#Table-of-contents)"
   ]
  },
  {
   "cell_type": "code",
   "execution_count": null,
   "metadata": {},
   "outputs": [],
   "source": [
    "min_true_energy = [0.02, 0.2, 2, 20]\n",
    "max_true_energy = [0.2, 2, 20, 200]\n",
    "\n",
    "plt.figure(figsize=(10,5))\n",
    "plt.xlabel(\"Offset [deg]\")\n",
    "plt.ylabel(\"Number of events\")\n",
    "\n",
    "for low_E, high_E in zip(min_true_energy, max_true_energy):\n",
    "    \n",
    "    selected_events = selected_gammas[(selected_gammas[\"true_energy\"]>low_E) & (selected_gammas[\"true_energy\"]<high_E)]\n",
    "    \n",
    "    plt.hist(selected_events[\"offset\"], \n",
    "             bins=100,\n",
    "             range = [0,10],\n",
    "             label=f\"{low_E} < E_true [TeV] < {high_E}\",\n",
    "             histtype=\"step\",\n",
    "             linewidth=2)\n",
    "\n",
    "plt.yscale(\"log\")\n",
    "plt.legend(loc=\"best\")\n",
    "plt.grid(which=\"both\")\n",
    "\n",
    "plt.savefig(plots_folder / f\"DL2_offsets_{analysis_name}.png\")\n",
    "\n",
    "plt.show()"
   ]
  },
  {
   "cell_type": "markdown",
   "metadata": {},
   "source": [
    "### Angular resolution\n",
    "[back to top](#Table-of-contents)"
   ]
  },
  {
   "cell_type": "markdown",
   "metadata": {},
   "source": [
    "Here we compare how the multiplicity influences the performance of reconstructed events with a 90% gamma efficiency."
   ]
  },
  {
   "cell_type": "code",
   "execution_count": null,
   "metadata": {},
   "outputs": [],
   "source": [
    "r_containment = 68\n",
    "\n",
    "min_true_energy = 0.003\n",
    "max_true_energy = 330\n",
    "n_true_energy_bins = 21\n",
    "true_energy_bin_edges = np.logspace(np.log10(min_true_energy), np.log10(max_true_energy), n_true_energy_bins)\n",
    "true_energy_bin_centers = 0.5 * (true_energy_bin_edges[:-1]+true_energy_bin_edges[1:])\n",
    "\n",
    "multiplicity_cuts = ['NTels_reco == 2',\n",
    "                     'NTels_reco == 3',\n",
    "                     'NTels_reco == 4',\n",
    "                     'NTels_reco >= 2']\n",
    "\n",
    "fig, axes = plt.subplots(nrows=1, ncols=2, figsize=(16, 8))\n",
    "axes = axes.flatten()\n",
    "\n",
    "for cut_idx, cut in enumerate(multiplicity_cuts):\n",
    "    data_mult = selected_gammas.query(cut)\n",
    "    psf, err_psf = compute_psf(data_mult, true_energy_bin_edges, 68)\n",
    "    plot_psf(axes[0], true_energy_bin_centers, psf, err_psf, label=multiplicity_cuts[cut_idx])\n",
    "    \n",
    "    y, tmp = np.histogram(data_mult['true_energy'], bins=true_energy_bin_edges)\n",
    "    weights = np.ones_like(y)\n",
    "    #weights = weights / float(np.sum(y))\n",
    "    yerr = np.sqrt(y) * weights\n",
    "    width = np.diff(true_energy_bin_edges)\n",
    "    axes[1].bar(true_energy_bin_centers, y * weights, width=width, yerr=yerr, **{'label': multiplicity_cuts[cut_idx], 'lw': 2, 'fill': False})\n",
    "    axes[1].set_ylabel('Number of events')\n",
    "    \n",
    "for ax in axes:\n",
    "    #ax.set_xlim(limit)\n",
    "    ax.set_xscale('log')\n",
    "    ax.legend(loc='best')\n",
    "    ax.grid(which='both', visible=True)\n",
    "    ax.set_xlabel('True energy [TeV]')\n",
    "\n",
    "plt.tight_layout()\n",
    "\n",
    "fig.savefig(plots_folder / f\"DL2_PSF_{analysis_name}.png\")"
   ]
  },
  {
   "cell_type": "markdown",
   "metadata": {},
   "source": [
    "Apply fixed signal efficiency cut (requires well defined ML separator and ML train-ing)\n",
    "\n",
    "Calculate angular resolution for 68%, 80%, and 95% containment radius."
   ]
  },
  {
   "cell_type": "code",
   "execution_count": null,
   "metadata": {},
   "outputs": [],
   "source": [
    "scale=0.75\n",
    "plt.figure(figsize=(16*scale,9*scale))\n",
    "\n",
    "true_energy_bins = create_bins_per_decade(10**-1.9 * u.TeV, 10**2.31 * u.TeV, 5).value\n",
    "\n",
    "gamma_efficiency = 0.9\n",
    "reconstructed_gammas = gammas.query(\"is_valid == True\")\n",
    "gammaness = reconstructed_gammas[\"gammaness\"]\n",
    "gammaness_cut = np.quantile(gammaness, gamma_efficiency)\n",
    "selected_events = reconstructed_gammas.query(f\"gammaness > {gammaness_cut}\")\n",
    "\n",
    "ax = plt.gca()\n",
    "\n",
    "def angular_resolution_vs_true_energy(ax, events, true_energy_bins, containment):\n",
    "    \n",
    "    ang_res = []\n",
    "    for i in range(len(true_energy_bins)-1):\n",
    "        true_energy_mask = f\"true_energy > {true_energy_bins[i]} & true_energy < {true_energy_bins[i+1]}\"\n",
    "        selected_offsets = events.query(true_energy_mask)[\"offset\"]\n",
    "        ang_res.append(np.quantile(selected_offsets, containment/100.))\n",
    "\n",
    "    ax.errorbar(\n",
    "        0.5 * (true_energy_bins[:-1] + true_energy_bins[1:]),\n",
    "        ang_res,\n",
    "        xerr=0.5 * (true_energy_bins[:-1] - true_energy_bins[1:]),\n",
    "        label=f'{containment}% containment radius',\n",
    "        fmt='o',\n",
    "    )\n",
    "    \n",
    "    return ax\n",
    "\n",
    "angular_resolution_vs_true_energy(ax, selected_events, true_energy_bins, 68)\n",
    "angular_resolution_vs_true_energy(ax, selected_events, true_energy_bins, 80)\n",
    "angular_resolution_vs_true_energy(ax, selected_events, true_energy_bins, 95)\n",
    "\n",
    "plt.xlabel(\"True energy [TeV]\")\n",
    "plt.xscale(\"log\")\n",
    "plt.ylabel(\"Angular resolution [deg]\")\n",
    "plt.legend()\n",
    "plt.title(f\"Reconstructed gammas with {gamma_efficiency*100}% signal efficiency\")\n",
    "plt.grid()"
   ]
  },
  {
   "cell_type": "markdown",
   "metadata": {},
   "source": [
    "### H_max as a function of energy for gammas and protons"
   ]
  },
  {
   "cell_type": "markdown",
   "metadata": {},
   "source": [
    "Fixed gamma efficiency at 90%"
   ]
  },
  {
   "cell_type": "code",
   "execution_count": null,
   "metadata": {},
   "outputs": [],
   "source": [
    "reconstructed_gammas = gammas.query(\"is_valid == True\")\n",
    "reconstructed_protons = protons.query(\"is_valid == True\")\n",
    "\n",
    "plt.figure(figsize=(12,6))\n",
    "\n",
    "mask_gammaness = f\"gammaness > 0.9\"\n",
    "\n",
    "plt.subplot(1, 2, 1)\n",
    "\n",
    "hist_opt = {\"bins\":[100,100],\n",
    "            \"range\": [[0.003, 300],[1,8]],\n",
    "            \"norm\": LogNorm(vmin=1,vmax=1.e6),\n",
    "            \"cmap\": cmap}\n",
    "\n",
    "plt.hist2d(reconstructed_gammas.query(mask_gammaness)[\"reco_energy\"],\n",
    "           np.log10(reconstructed_gammas.query(mask_gammaness)[\"h_max\"]),\n",
    "           **hist_opt\n",
    "          )\n",
    "plt.xlabel(\"Reconstructed energy [TeV]\")\n",
    "plt.ylabel(\"log10(H max)\")\n",
    "plt.colorbar()\n",
    "plt.title(\"DL2 gammas\")\n",
    "\n",
    "plt.subplot(1, 2, 2)\n",
    "\n",
    "plt.hist2d(reconstructed_protons.query(mask_gammaness)[\"reco_energy\"],\n",
    "           np.log10(reconstructed_protons.query(mask_gammaness)[\"h_max\"]),\n",
    "           **hist_opt\n",
    "          )\n",
    "plt.xlabel(\"Reconstructed energy [TeV]\")\n",
    "plt.ylabel(\"log10(H max)\")\n",
    "plt.colorbar()\n",
    "plt.title(\"DL2 protons\")\n",
    "None"
   ]
  },
  {
   "cell_type": "markdown",
   "metadata": {},
   "source": [
    "### PSF asymmetry\n",
    "[back to top](#Table-of-contents)"
   ]
  },
  {
   "cell_type": "code",
   "execution_count": null,
   "metadata": {},
   "outputs": [],
   "source": [
    "reco_alt = selected_gammas.reco_alt\n",
    "reco_az = selected_gammas.reco_az\n",
    "\n",
    "# right now all reco_az for a 180° deg simualtion turn out to be all around -180°\n",
    "#if ~np.count_nonzero(np.sign(reco_az) + 1):\n",
    "reco_az = np.abs(reco_az)\n",
    "\n",
    "# this is needed for projecting the angle onto the sky\n",
    "reco_az_corr = reco_az * np.cos(np.deg2rad(selected_gammas.reco_alt))\n",
    "\n",
    "true_alt = selected_gammas.iloc[0].true_alt\n",
    "true_az = selected_gammas.iloc[0].true_az\n",
    "\n",
    "daz = reco_az - true_az\n",
    "daz_corr = daz * np.cos(np.deg2rad(reco_alt))\n",
    "dalt = reco_alt - true_alt\n",
    "\n",
    "plt.figure(figsize=(5, 5))\n",
    "\n",
    "plt.xlabel(\"Mis-recontruction [deg]\")\n",
    "plt.ylabel(\"Number of events\")\n",
    "\n",
    "plt.hist(daz_corr, bins=100, alpha=0.5, label = \"azimuth\")\n",
    "plt.hist(dalt, bins=100, alpha=0.5, label = \"altitude\")\n",
    "\n",
    "plt.legend()\n",
    "plt.yscale(\"log\")\n",
    "plt.grid()\n",
    "\n",
    "print(\"Mean and STDs of sky-projected mis-reconstruction axes\")\n",
    "print('daz = {:.4f} +/- {:.4f} deg'.format(daz_corr.mean(), daz_corr.std()))\n",
    "print('dalt = {:.4f} +/- {:.4f} deg'.format(dalt.mean(), dalt.std()))\n",
    "\n",
    "plt.show()"
   ]
  },
  {
   "cell_type": "markdown",
   "metadata": {},
   "source": [
    "2D representation with **orange** events being those with **offset < 1 deg** and **E_true > 20 TeV**"
   ]
  },
  {
   "cell_type": "code",
   "execution_count": null,
   "metadata": {},
   "outputs": [],
   "source": [
    "angcut = (selected_gammas['offset'] < 1) & (selected_gammas['true_energy'] > 20)\n",
    "\n",
    "plt.figure(figsize=(5,5))\n",
    "ax = plt.gca()\n",
    "FOV_size = 2.5 # deg\n",
    "\n",
    "ax.scatter(daz_corr, dalt, alpha=0.1, s=1, label='no angular cut')\n",
    "ax.scatter(daz_corr[angcut], dalt[angcut], alpha=0.05, s=1, label='offset < 1 deg & E_true > 20 TeV')\n",
    "\n",
    "ax.set_aspect('equal')\n",
    "ax.set_xlabel('cent. Az [deg]')\n",
    "ax.set_ylabel('cent. Alt [deg]')\n",
    "ax.set_xlim(-FOV_size,FOV_size)\n",
    "ax.set_ylim(-FOV_size,FOV_size)\n",
    "plt.tight_layout()\n",
    "plt.grid(which=\"both\")\n",
    "\n",
    "fig.savefig(plots_folder / f\"PSFasymmetry_2D_altaz_{analysis_name}.png\")"
   ]
  },
  {
   "cell_type": "markdown",
   "metadata": {},
   "source": [
    "### True energy distributions\n",
    "[back to top](#Table-of-contents)"
   ]
  },
  {
   "cell_type": "code",
   "execution_count": null,
   "metadata": {},
   "outputs": [],
   "source": [
    "min_true_energy = 0.003\n",
    "max_true_energy = 330\n",
    "true_energy_bins_edges = np.logspace(np.log10(min_true_energy), np.log10(max_true_energy), 6 + 1)\n",
    "\n",
    "if len(np.unique(gammas[\"true_az\"]))==1:\n",
    "    true_az = np.unique(gammas[\"true_az\"]) * u.deg\n",
    "    true_alt = np.unique(gammas[\"true_alt\"]) * u.deg\n",
    "else:\n",
    "    print(\"WARNING: diffuse simulations not yet supported.\")\n",
    "\n",
    "print(f\"true AZ = {true_az}\")\n",
    "print(f\"true ALT = {true_alt}\")"
   ]
  },
  {
   "cell_type": "code",
   "execution_count": null,
   "metadata": {},
   "outputs": [],
   "source": [
    "plt.figure(figsize=(15,15))\n",
    "plt.subplots_adjust(wspace=0.3, hspace=0.3)\n",
    "\n",
    "center = SkyCoord(az=true_az, alt=true_alt, frame=\"altaz\")\n",
    "nominal_frame = NominalFrame(origin=center)\n",
    "\n",
    "for i in range(len(true_energy_bins_edges)-1):\n",
    "    \n",
    "    plt.subplot(3,2,i+1)\n",
    "    \n",
    "    ax = plt.gca()\n",
    "    ax.set_aspect(\"equal\")\n",
    "\n",
    "    reconstruction_mask = \"is_valid == True and \"\n",
    "    true_energy_mask = f\"true_energy > {true_energy_bins_edges[i]} and true_energy < {true_energy_bins_edges[i+1]}\"\n",
    "    selected_gammas = gammas.query(reconstruction_mask + true_energy_mask)\n",
    "\n",
    "    reconstructed_coordinates = SkyCoord(az=selected_gammas.reco_az.values * u.degree,\n",
    "                                         alt=selected_gammas.reco_alt.values * u.degree,\n",
    "                                         frame=\"altaz\")\n",
    "\n",
    "    reconstructed_coordinates_nominal_frame = reconstructed_coordinates.transform_to(nominal_frame)\n",
    "\n",
    "    hist_opt = {\"bins\":[100,100],\n",
    "                \"range\":[[-10, 10], [-10, 10]],\n",
    "                \"norm\":LogNorm(),\n",
    "                \"cmap\":cmap}\n",
    "    plt.hist2d(reconstructed_coordinates_nominal_frame.fov_lon.value,\n",
    "               reconstructed_coordinates_nominal_frame.fov_lat.value,\n",
    "               **hist_opt)\n",
    "    plt.plot(0, 0, \"*\", markersize=20, color=\"red\")\n",
    "    plt.colorbar()\n",
    "    plt.xlabel(\"FOV Longitude [deg]\")\n",
    "    plt.ylabel(\"FOV Latitude [deg]\")\n",
    "    plt.title(f\"{true_energy_bins_edges[i]:.2f} TeV < True energy < {true_energy_bins_edges[i+1]:.2f} TeV\")\n",
    "None"
   ]
  },
  {
   "cell_type": "markdown",
   "metadata": {},
   "source": [
    "Same, but with a fixed gamma efficiency cut of 90%"
   ]
  },
  {
   "cell_type": "code",
   "execution_count": null,
   "metadata": {},
   "outputs": [],
   "source": [
    "plt.figure(figsize=(15,15))\n",
    "plt.subplots_adjust(wspace=0.3, hspace=0.3)\n",
    "\n",
    "center = SkyCoord(az=true_az, alt=true_alt, frame=\"altaz\")\n",
    "nominal_frame = NominalFrame(origin=center)\n",
    "\n",
    "for i in range(len(true_energy_bins_edges)-1):\n",
    "    \n",
    "    plt.subplot(3,2,i+1)\n",
    "    \n",
    "    ax = plt.gca()\n",
    "    ax.set_aspect(\"equal\")\n",
    "\n",
    "    reconstruction_mask = \"is_valid == True and \"\n",
    "    true_energy_mask = f\"true_energy > {true_energy_bins_edges[i]} and true_energy < {true_energy_bins_edges[i+1]}\"\n",
    "    reconstructed_gammas_per_true_energy = gammas.query(reconstruction_mask + true_energy_mask)\n",
    "    gammaness = reconstructed_gammas_per_true_energy[\"gammaness\"]\n",
    "    gammaness_cut = np.quantile(gammaness, gamma_efficiency)\n",
    "    selected_gammas = reconstructed_gammas_per_true_energy.query(f\"gammaness > {gammaness_cut}\")\n",
    "\n",
    "    reconstructed_coordinates = SkyCoord(az=selected_gammas.reco_az.values * u.degree,\n",
    "                                         alt=selected_gammas.reco_alt.values * u.degree,\n",
    "                                         frame=\"altaz\")\n",
    "\n",
    "    reconstructed_coordinates_nominal_frame = reconstructed_coordinates.transform_to(nominal_frame)\n",
    "\n",
    "    hist_opt = {\"bins\":[100,100],\n",
    "                \"range\":[[-10, 10], [-10, 10]],\n",
    "                \"norm\":LogNorm(),\n",
    "                \"cmap\":cmap}\n",
    "    plt.hist2d(reconstructed_coordinates_nominal_frame.fov_lon.value,\n",
    "               reconstructed_coordinates_nominal_frame.fov_lat.value,\n",
    "               **hist_opt)\n",
    "    plt.plot(0, 0, \"*\", markersize=20, color=\"red\")\n",
    "    plt.colorbar()\n",
    "    plt.xlabel(\"FOV Longitude [deg]\")\n",
    "    plt.ylabel(\"FOV Latitude [deg]\")\n",
    "    plt.title(f\"{true_energy_bins_edges[i]:.2f} TeV < True energy < {true_energy_bins_edges[i+1]:.2f} TeV\")\n",
    "None"
   ]
  }
 ],
 "metadata": {
  "celltoolbar": "Edit Metadata",
  "kernelspec": {
   "display_name": "Python 3 (ipykernel)",
   "language": "python",
   "name": "python3"
  },
  "language_info": {
   "codemirror_mode": {
    "name": "ipython",
    "version": 3
   },
   "file_extension": ".py",
   "mimetype": "text/x-python",
   "name": "python",
   "nbconvert_exporter": "python",
   "pygments_lexer": "ipython3",
   "version": "3.8.11"
  }
 },
 "nbformat": 4,
 "nbformat_minor": 4
}
