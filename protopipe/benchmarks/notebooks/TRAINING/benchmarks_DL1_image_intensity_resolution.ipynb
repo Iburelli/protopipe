{
 "cells": [
  {
   "cell_type": "code",
   "execution_count": null,
   "id": "3c799c47-1e43-4506-8678-ad66246a12be",
   "metadata": {},
   "outputs": [],
   "source": [
    "# Remove input cells at runtime (nbsphinx)\n",
    "import IPython.core.display as d\n",
    "d.display_html('<script>jQuery(function() {if (jQuery(\"body.notebook_app\").length == 0) { jQuery(\".input_area\").toggle(); jQuery(\".prompt\").toggle();}});</script>', raw=True)"
   ]
  },
  {
   "cell_type": "markdown",
   "id": "95913abe",
   "metadata": {},
   "source": [
    "# Image intensity resolution (TRAINING)"
   ]
  },
  {
   "cell_type": "markdown",
   "id": "19294a4b",
   "metadata": {},
   "source": [
    "**Recommended datasample(s):** ``gamma-1`` (used to build the energy model)\n",
    "\n",
    "**Data level(s):** DL1b (telescope-wise image parameters) + DL2a (only shower geometry)\n",
    "\n",
    "**Description:**\n",
    "\n",
    "This benchmark checks how well the intensity parameter (total reconstructed charge in pixels surviving cleaning, i.e. the parameter traditionally known as image \"Size\") correlates with the true number of photoelectrons from Cherenkov photons in the whole camera (that is, in all pixels, regardless whether or not they survive cleaning).\n",
    "\n",
    "This correlation is relevant, above all, for the energy reconstruction.\n",
    "\n",
    "We do this check for the images which survive the following cuts:\n",
    "- intensity > 50 phe,\n",
    "- image c.o.g. within 80% of the camera radius,\n",
    "- maximum impact parameter of 200 m.\n",
    "\n",
    "**Data level:** DL1a + DL1b (telescope-wise true/reconstructed images and image parameters)\n",
    "\n",
    "**Notes:**\n",
    "\n",
    "Any bias present at calibration level (due for example to CALIB_SCALE and/or charge integration correction) as well as the fact that the charge in pixels rejected by the cleaning is not counted in the calculation of intensity will cause the intensity parameter to be systematically smaller than the actual number of photoelectrons.\n",
    "\n",
    "The impact parameter cut takes into account charges which arrive after the end of the readout window due to large impact parameters.\n",
    "\n",
    "The stronger bias seen for intensity values around ~2e4 is due to saturation at the pixel level.\n",
    "\n",
    "**Requirements and steps to reproduce**\n",
    "\n",
    "This notebook can be used with any file produced by ``protopipe-TRAINING`` (or its equivalent from the DIRAC Grid interface) with recorded images.\n",
    "\n",
    "To get a filled notebook and reproduce these results,\n",
    "\n",
    "- get the necessary input files using ``protopipe-TRAINING`` using the gamma1 sample and saving the images (see documentation)\n",
    "- execute the notebook with ``protopipe-BENCHMARK``,\n",
    "\n",
    "``protopipe-BENCHMARK launch --config_file benchmarks.yaml -n TRAINING/benchmarks_DL1_image_intensity_resolution``\n",
    "\n",
    "To obtain the list of all available parameters add ``--help-notebook``.\n",
    "\n",
    "**Comparison against CTAMARS:**\n",
    "\n",
    "- use the whole ``gamma-1`` sample\n",
    "- reference simtel-files, plots, values and settings can be found [here (please, always refer to the latest version)](https://forge.in2p3.fr/projects/benchmarks-reference-analysis/wiki/Comparisons_between_pipelines).\n",
    "\n",
    "**Development and testing:**  \n",
    "\n",
    "As with any other part of _protopipe_ and being part of the official repository, this notebook can be further developed by any interested contributor.   \n",
    "The execution of this notebook is not currently automatic, it must be done locally by the user _before_ pushing a pull-request.  \n",
    "Please, strip the output before pushing."
   ]
  },
  {
   "cell_type": "markdown",
   "id": "d8a162e4-95ea-4fcc-907a-9f6a56343310",
   "metadata": {},
   "source": [
    "## Table of contents"
   ]
  },
  {
   "cell_type": "markdown",
   "id": "6be199de",
   "metadata": {},
   "source": [
    "- [Distributions](#Distributions)\n",
    "- [Mean and RMS as error bar of intensity profile](#Mean-and-RMS-as-error-bar-of-intensity-profile)\n",
    "- [RMS/Mean](#RMS/Mean)"
   ]
  },
  {
   "cell_type": "markdown",
   "id": "abd71cfa",
   "metadata": {
    "nbsphinx": "hidden",
    "tags": [
     "remove_input"
    ]
   },
   "source": [
    "## Imports"
   ]
  },
  {
   "cell_type": "code",
   "execution_count": null,
   "id": "6dda3c9a",
   "metadata": {},
   "outputs": [],
   "source": [
    "from pathlib import Path\n",
    "\n",
    "import tables\n",
    "import numpy as np\n",
    "from scipy.stats import binned_statistic\n",
    "from astropy.table import join\n",
    "import astropy.units as u\n",
    "import matplotlib.pyplot as plt\n",
    "from matplotlib.colors import LogNorm\n",
    "from matplotlib.pyplot import rc\n",
    "import matplotlib.style as style\n",
    "from cycler import cycler\n",
    "\n",
    "from ctapipe.io import read_table\n",
    "\n",
    "from protopipe.pipeline.utils import CTAMARS_radii, load_config\n",
    "from protopipe.benchmarks.operations import sum_of_squares, OnlineBinnedStats"
   ]
  },
  {
   "cell_type": "markdown",
   "id": "92c3568c",
   "metadata": {
    "nbsphinx": "hidden",
    "tags": [
     "remove_input"
    ]
   },
   "source": [
    "## Input data\n",
    "[back to top](#Table-of-contents)"
   ]
  },
  {
   "cell_type": "code",
   "execution_count": null,
   "id": "5228d2cc",
   "metadata": {
    "tags": [
     "parameters"
    ]
   },
   "outputs": [],
   "source": [
    "analyses_directory = \"\"  # path to the 'analyses' folder\n",
    "output_directory = Path.cwd() # default output directory for plots\n",
    "analysis_name = \"\" # Name of the analysis stored in 'analyses_folder'\n",
    "input_filename = \"TRAINING_energy_tail_gamma_merged.h5\"  # Name of the file produced with protopipe\n",
    "nth_chunk = None # int, read up to the first chunk of 10l images (default: None, full dataset)\n",
    "load_CTAMARS = True # Enable to compare the CTAN analysis done with CTAMARS (Release 2019)\n",
    "use_seaborn = True"
   ]
  },
  {
   "cell_type": "code",
   "execution_count": null,
   "id": "da6c3e13-34b9-47d1-ab83-068fe0af9507",
   "metadata": {},
   "outputs": [],
   "source": [
    "# Handle boolean variables (papermill reads them as strings)\n",
    "[load_CTAMARS, use_seaborn] = string_to_boolean([load_CTAMARS, use_seaborn])"
   ]
  },
  {
   "cell_type": "code",
   "execution_count": null,
   "id": "8fdd1ece",
   "metadata": {},
   "outputs": [],
   "source": [
    "if not input_filename:\n",
    "    try:\n",
    "        input_filename = input_filenames[\"TRAINING_energy_gamma\"]\n",
    "    except (NameError, KeyError):\n",
    "        raise ValueError(\"ERROR: input_filename undefined.\")\n",
    "\n",
    "if not Path(analyses_directory).is_dir():\n",
    "    raise ValueError(\"ERROR: analyses_directory undefined or not existent.\")\n",
    "\n",
    "input_directory = Path(analyses_directory) / analysis_name / Path(\"data/TRAINING/for_energy_estimation\")\n",
    "input_file = input_directory / input_filename"
   ]
  },
  {
   "cell_type": "code",
   "execution_count": null,
   "id": "3bf399ec",
   "metadata": {},
   "outputs": [],
   "source": [
    "if load_CTAMARS:\n",
    "    \n",
    "    import uproot\n",
    "    \n",
    "    # Get input file path\n",
    "    if (input_directory_CTAMARS[\"parent_directory\"] is None) or (input_directory_CTAMARS[\"TRAINING/DL1\"] is None):\n",
    "        raise ValueError(\"ERROR: CTAMARS data undefined. Please, check the documentation of protopipe-BENCHMARKS.\")\n",
    "    else:\n",
    "\n",
    "        mars_dl1b_fileName = \"check_dl1b.root\"\n",
    "\n",
    "        path_mars_dl1b = Path(input_directory_CTAMARS[\"parent_directory\"]) / input_directory_CTAMARS[\"TRAINING/DL1\"] / mars_dl1b_fileName\n",
    "        ctamars_dl1b = uproot.open(path_mars_dl1b)\n",
    "\n",
    "        CTAMARS_data = {}\n",
    "        with uproot.open(path_mars_dl1b) as file:\n",
    "\n",
    "            for key in file.keys():\n",
    "                CTAMARS_data[key[:-2]] = file[key[:-2]]"
   ]
  },
  {
   "cell_type": "code",
   "execution_count": null,
   "id": "13b73350",
   "metadata": {},
   "outputs": [],
   "source": [
    "# get camera names\n",
    "with tables.open_file(input_file, 'r') as f:\n",
    "    \n",
    "    cameras = [cam.name for cam in f.root]"
   ]
  },
  {
   "cell_type": "code",
   "execution_count": null,
   "id": "70bbe54a",
   "metadata": {},
   "outputs": [],
   "source": [
    "# setup the initial data\n",
    "\n",
    "H = dict.fromkeys(cameras)\n",
    "stats = dict.fromkeys(cameras)\n",
    "\n",
    "for i, camera in enumerate(cameras):\n",
    "    \n",
    "    # Counts histogram\n",
    "    \n",
    "    if load_CTAMARS:\n",
    "    \n",
    "        x_bin_edges_counts = CTAMARS_data[f\"PheOverSize_vs_Size_type{i}\"].to_numpy()[1]\n",
    "        y_bin_edges_counts = CTAMARS_data[f\"PheOverSize_vs_Size_type{i}\"].to_numpy()[2]\n",
    "\n",
    "    else:\n",
    "\n",
    "        x_bin_edges_counts = np.linspace(1.298, 5.298, 200)\n",
    "        y_bin_edges_counts = np.linspace(0., 4., 200)\n",
    "        \n",
    "    x = np.zeros(len(x_bin_edges_counts)-1)\n",
    "    y = np.zeros(len(x_bin_edges_counts)-1)\n",
    "    \n",
    "    H[camera], _, _ = np.histogram2d(x, y, bins=(x_bin_edges_counts, y_bin_edges_counts))\n",
    "    \n",
    "    # Profiled histogram\n",
    "    \n",
    "    if load_CTAMARS:\n",
    "        x_bin_edges_profile = CTAMARS_data[f\"relative_rms_{i}\"].to_numpy()[1]\n",
    "    else:\n",
    "        x_bin_edges_profile = np.arange(1.298, 5.498, 0.2)\n",
    "    \n",
    "    stats[camera] = OnlineBinnedStats(x_bin_edges_profile)"
   ]
  },
  {
   "cell_type": "code",
   "execution_count": null,
   "id": "24ca7723",
   "metadata": {},
   "outputs": [],
   "source": [
    "with tables.open_file(input_file, 'r') as f:\n",
    "\n",
    "    n_rows = {cam: len(f.root[cam]) for cam in cameras}\n",
    "    print(f\"Total number of images at input per camera = {n_rows}\")\n",
    "    \n",
    "    chunksize = 10000\n",
    "    \n",
    "    for camera in cameras:\n",
    "    \n",
    "        n_chunks = int(np.ceil(n_rows[camera] / chunksize))\n",
    "        \n",
    "        for chunk in range(n_chunks):\n",
    "            \n",
    "            start = chunk * chunksize\n",
    "            stop = (chunk + 1) * chunksize\n",
    "            t = read_table(f, f'/{camera}', start=start, stop=stop)\n",
    "\n",
    "            if load_CTAMARS:\n",
    "                selected_images = t[(t[\"hillas_intensity\"]>50.) & \n",
    "                                    (t[\"hillas_r\"]<0.8*CTAMARS_radii(camera)) &\n",
    "                                    (t[\"impact_dist\"]<200.) &\n",
    "                                    (t[\"image_extraction\"]==1)]\n",
    "                hillas_intensity = selected_images[\"hillas_intensity\"]\n",
    "                tot_true_phe = np.sum(selected_images[\"true_image\"], axis=1)\n",
    "            else:\n",
    "                hillas_intensity = t[\"hillas_intensity\"]\n",
    "                tot_true_phe = np.sum(t[\"true_image\"], axis=1)\n",
    "\n",
    "            X = np.log10(hillas_intensity)\n",
    "            Y = tot_true_phe / hillas_intensity\n",
    "            \n",
    "            ###### 2D histogram\n",
    "\n",
    "            H[camera] += np.histogram2d(x = X, \n",
    "                                        y = Y,\n",
    "                                        bins=(x_bin_edges_counts, y_bin_edges_counts))[0]\n",
    "            \n",
    "            ###### Profiled histogram\n",
    "            \n",
    "            stats[camera].update(X, Y)\n",
    "            \n",
    "            if nth_chunk and (chunk > int(n_chunks/nth_chunk)):\n",
    "                break"
   ]
  },
  {
   "cell_type": "code",
   "execution_count": null,
   "id": "71621192",
   "metadata": {},
   "outputs": [],
   "source": [
    "# First we check if a _plots_ folder exists already.  \n",
    "# If not, we create it.\n",
    "plots_folder = Path(output_directory) / \"plots\"\n",
    "plots_folder.mkdir(parents=True, exist_ok=True)"
   ]
  },
  {
   "cell_type": "code",
   "execution_count": null,
   "id": "7f55ac92-ee0c-4873-882c-79804d29ad68",
   "metadata": {},
   "outputs": [],
   "source": [
    "# Plot aesthetics settings\n",
    "\n",
    "style.use(matplotlib_settings[\"style\"])\n",
    "cmap = matplotlib_settings[\"cmap\"]\n",
    "\n",
    "if matplotlib_settings[\"style\"] == \"seaborn-colorblind\":\n",
    "    \n",
    "    colors_order = ['#0072B2', '#D55E00', '#F0E442', '#009E73', '#CC79A7', '#56B4E9']\n",
    "    rc('axes', prop_cycle=cycler(color=colors_order))\n",
    "\n",
    "if use_seaborn:\n",
    "    import seaborn as sns\n",
    "\n",
    "    sns.set_theme(context=seaborn_settings[\"theme\"][\"context\"] if \"context\" in seaborn_settings[\"theme\"] else \"talk\",\n",
    "                  style=seaborn_settings[\"theme\"][\"style\"] if \"style\" in seaborn_settings[\"theme\"] else \"whitegrid\",\n",
    "                  palette=seaborn_settings[\"theme\"][\"palette\"] if \"palette\" in seaborn_settings[\"theme\"] else None,\n",
    "                  font=seaborn_settings[\"theme\"][\"font\"] if \"font\" in seaborn_settings[\"theme\"] else \"Fira Sans\",\n",
    "                  font_scale=seaborn_settings[\"theme\"][\"font_scale\"] if \"font_scale\" in seaborn_settings[\"theme\"] else 1.0,\n",
    "                  color_codes=seaborn_settings[\"theme\"][\"color_codes\"] if \"color_codes\" in seaborn_settings[\"theme\"] else True\n",
    "                  )\n",
    "    \n",
    "    sns.set_style(seaborn_settings[\"theme\"][\"style\"], rc=seaborn_settings[\"rc_style\"])\n",
    "    sns.set_context(seaborn_settings[\"theme\"][\"context\"],\n",
    "                    font_scale=seaborn_settings[\"theme\"][\"font_scale\"] if \"font_scale\" in seaborn_settings[\"theme\"] else 1.0)"
   ]
  },
  {
   "cell_type": "markdown",
   "id": "da16f0a6",
   "metadata": {},
   "source": [
    "## Distributions\n",
    "[back to top](#Table-of-contents)"
   ]
  },
  {
   "cell_type": "code",
   "execution_count": null,
   "id": "07645137",
   "metadata": {},
   "outputs": [],
   "source": [
    "max_counts = {}\n",
    "if load_CTAMARS:\n",
    "    for i, camera in enumerate(cameras):\n",
    "        max_counts[camera] = CTAMARS_data[f\"PheOverSize_vs_Size_type{i}\"].to_numpy()[0].max()\n",
    "    else:\n",
    "        max_counts[camera] = 700\n",
    "\n",
    "for i, camera in enumerate(cameras):\n",
    "    \n",
    "    print(f\"Total number of SELECTED {camera} images:\")\n",
    "    print(f\"protopipe = {np.sum(H[camera])}\")\n",
    "    if load_CTAMARS:\n",
    "        print(f\"CTAMARS = {np.sum(CTAMARS_data[f'PheOverSize_vs_Size_type{i}'].to_numpy()[0])}\")\n",
    "    \n",
    "    if not load_CTAMARS:\n",
    "        plt.figure(figsize=(10,6))\n",
    "        plt.title(camera)\n",
    "    else:\n",
    "        plt.figure(figsize=(10,4))\n",
    "        plt.subplots_adjust(hspace=0.4)\n",
    "        plt.subplot(1, 2, 1)\n",
    "        plt.title(f\"protopipe - {camera}\")\n",
    "\n",
    "    plt.pcolormesh(x_bin_edges_counts, \n",
    "                   y_bin_edges_counts, \n",
    "                   H[camera].T,\n",
    "                   norm=LogNorm(vmax=max_counts[camera]),\n",
    "                   cmap=\"viridis\"\n",
    "                   )\n",
    "    cbar = plt.colorbar()\n",
    "    cbar.set_label(\"# images\")\n",
    "\n",
    "    \n",
    "    plt.xlabel(\"log10(intensity) [phe]\")\n",
    "    plt.ylabel(\"tot_true_phe / intensity\")\n",
    "\n",
    "    plt.grid(which=\"both\", axis=\"both\")\n",
    "    \n",
    "    if load_CTAMARS:\n",
    "        plt.subplot(1, 2, 2)\n",
    "        plt.title(f\"CTAMARS - {camera}\")\n",
    "        \n",
    "        plt.pcolormesh(x_bin_edges_counts, \n",
    "                       y_bin_edges_counts, \n",
    "                       CTAMARS_data[f\"PheOverSize_vs_Size_type{i}\"].to_numpy()[0].T,\n",
    "                       norm=LogNorm(vmax=max_counts[camera]),\n",
    "                       cmap=\"viridis\"\n",
    "                       )\n",
    "        \n",
    "        cbar = plt.colorbar()\n",
    "        cbar.set_label(\"# images\")\n",
    "\n",
    "        plt.xlabel(\"log10(intensity) [phe]\")\n",
    "        plt.ylabel(\"tot_true_phe / intensity\")\n",
    "\n",
    "        plt.grid(which=\"both\", axis=\"both\")\n",
    "    \n",
    "    plt.savefig(plots_folder / f\"correlation_intensity_trueCharge_distribution_{camera}_protopipe_{analysis_name}.png\")\n",
    "    \n",
    "    plt.show()"
   ]
  },
  {
   "cell_type": "markdown",
   "id": "02ff835f",
   "metadata": {},
   "source": [
    "## Mean and RMS as error bar of intensity profile\n",
    "[back to top](#Table-of-contents)"
   ]
  },
  {
   "cell_type": "code",
   "execution_count": null,
   "id": "aa0a0344",
   "metadata": {},
   "outputs": [],
   "source": [
    "for camera in cameras:\n",
    "    \n",
    "    plt.figure()\n",
    "    \n",
    "    plt.errorbar(x = stats[camera].bin_centers, \n",
    "                 y = stats[camera].mean, \n",
    "                 yerr=stats[camera].std, \n",
    "                 xerr=stats[camera].bin_width / 2,\n",
    "                 fmt='go',\n",
    "                 ecolor=\"g\",\n",
    "                 markersize=5)\n",
    "    \n",
    "    plt.title(camera)\n",
    "    plt.xlim(np.min(x_bin_edges_counts),np.max(x_bin_edges_counts))\n",
    "    plt.ylim(np.min(y_bin_edges_counts),np.max(y_bin_edges_counts))\n",
    "    plt.xlabel(\"log10(intensity) [phe]\")\n",
    "    plt.ylabel(\"tot_true_phe / intensity\")\n",
    "    \n",
    "    plt.grid(which=\"both\", axis=\"both\")\n",
    "    \n",
    "    plt.savefig(plots_folder / f\"correlation_intensity_trueCharge_mean+RMSerrorbar_{camera}_protopipe_{analysis_name}.png\")\n",
    "    \n",
    "    plt.show()"
   ]
  },
  {
   "cell_type": "markdown",
   "id": "fa0116f4",
   "metadata": {},
   "source": [
    "## RMS/Mean\n",
    "[back to top](#Table-of-contents)"
   ]
  },
  {
   "cell_type": "code",
   "execution_count": null,
   "id": "68be4c45",
   "metadata": {},
   "outputs": [],
   "source": [
    "for i, camera in enumerate(cameras):\n",
    "    \n",
    "    plt.figure(figsize=(12,5))\n",
    "    plt.subplots_adjust(hspace=0.3)\n",
    "    plt.suptitle(camera)\n",
    "    \n",
    "    plt.subplot(1,2,1)\n",
    "    \n",
    "    plt.plot(stats[camera].bin_centers, stats[camera].std/stats[camera].mean, 'o', label=\"protopipe\")\n",
    "    \n",
    "    if load_CTAMARS:\n",
    "        plt.plot(stats[camera].bin_centers, CTAMARS_data[f\"relative_rms_{i}\"].to_numpy()[0], \"o\", label=\"CTAMARS\")\n",
    "    \n",
    "    plt.xlabel(\"log10(intensity) [phe]\")\n",
    "    plt.ylabel(\"Relative RMS of (tot_true_phe / intensity)\")\n",
    "    plt.ylim(0,0.35)\n",
    "    \n",
    "    plt.grid(which=\"both\", axis=\"both\")\n",
    "    \n",
    "    plt.legend()\n",
    "    \n",
    "    plt.subplot(1,2,2)\n",
    "    \n",
    "    ratio = (stats[camera].std/stats[camera].mean) / CTAMARS_data[f\"relative_rms_{i}\"].to_numpy()[0]\n",
    "    plt.plot(stats[camera].bin_centers, ratio)\n",
    "    plt.xlabel(\"log10(intensity) [phe]\")\n",
    "    plt.ylabel(\"Ratio protopipe/CTAMARS\")\n",
    "    plt.ylim(0,2)\n",
    "    plt.xlim(np.min(x_bin_edges_counts),np.max(x_bin_edges_counts))\n",
    "    ax = plt.gca()\n",
    "    xlims = ax.get_xlim()\n",
    "    plt.hlines(1.0, xmin=xlims[0], xmax=xlims[1], ls=\"--\", lw=2, color=\"green\")\n",
    "    \n",
    "    plt.savefig(plots_folder / f\"correlation_intensity_trueCharge_meanRMSratio_{camera}_protopipe_{analysis_name}.png\")\n",
    "    \n",
    "    plt.show()"
   ]
  },
  {
   "cell_type": "code",
   "execution_count": null,
   "id": "3eeefd43",
   "metadata": {},
   "outputs": [],
   "source": []
  }
 ],
 "metadata": {
  "celltoolbar": "Edit Metadata",
  "kernelspec": {
   "display_name": "Python 3 (ipykernel)",
   "language": "python",
   "name": "python3"
  },
  "language_info": {
   "codemirror_mode": {
    "name": "ipython",
    "version": 3
   },
   "file_extension": ".py",
   "mimetype": "text/x-python",
   "name": "python",
   "nbconvert_exporter": "python",
   "pygments_lexer": "ipython3",
   "version": "3.8.12"
  }
 },
 "nbformat": 4,
 "nbformat_minor": 5
}
