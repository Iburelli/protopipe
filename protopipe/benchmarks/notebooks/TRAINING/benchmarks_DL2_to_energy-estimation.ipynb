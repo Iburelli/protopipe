{
 "cells": [
  {
   "cell_type": "code",
   "execution_count": null,
   "metadata": {},
   "outputs": [],
   "source": [
    "# Remove input cells at runtime (nbsphinx)\n",
    "import IPython.core.display as d\n",
    "d.display_html('<script>jQuery(function() {if (jQuery(\"body.notebook_app\").length == 0) { jQuery(\".input_area\").toggle(); jQuery(\".prompt\").toggle();}});</script>', raw=True)"
   ]
  },
  {
   "cell_type": "markdown",
   "metadata": {},
   "source": [
    "# Energy estimation (TRAINING)"
   ]
  },
  {
   "cell_type": "markdown",
   "metadata": {},
   "source": [
    "**Author(s):** Dr. Michele Peresano (CEA-Saclay/IRFU/DAp/LEPCHE), 2020\n",
    "\n",
    "**Recommended datasample(s):** ``gamma1`` (dataset used to build the energy model)\n",
    "\n",
    "**Data level(s):** DL1b (telescope-wise image parameters) + DL2 (only shower geometry)\n",
    "\n",
    "**Description:**\n",
    "\n",
    "This notebook contains benchmarks for the _protopipe_ pipeline regarding information from training data used for the training of the energy model.\n",
    "\n",
    "**Requirements:**\n",
    "\n",
    "To run this notebook you will need a set of TRAINING data produced with ``protopipe-TRAINING``.\n",
    "\n",
    "To get a filled notebook and reproduce these results,\n",
    "\n",
    "- get the necessary input files (see documentation)\n",
    "- execute the notebook with ``protopipe-BENCHMARK``,\n",
    "\n",
    "``protopipe-BENCHMARK launch --config_file configs/benchmarks.yaml -n TRAINING/benchmarks_DL2_to_energy-estimation``\n",
    "\n",
    "To obtain the list of all available parameters add ``--help-notebook``.\n",
    "\n",
    "**Development and testing:**  \n",
    "\n",
    "As with any other part of _protopipe_ and being part of the official repository, this notebook can be further developed by any interested contributor.   \n",
    "The execution of this notebook is not currently automatic, it must be done locally by the user _before_ pushing a pull-request.  \n",
    "Please, strip the output before pushing.\n",
    "\n",
    "**TODO:**  \n",
    "\n",
    "- ..."
   ]
  },
  {
   "cell_type": "markdown",
   "metadata": {},
   "source": [
    "## Table of contents\n",
    "- [Charge profiles](#Charge-profiles)\n",
    "- [Correlation between some parameters in bins of true energy](#Correlation-between-some-parameters-in-bins-of-true-energy)"
   ]
  },
  {
   "cell_type": "markdown",
   "metadata": {
    "nbsphinx": "hidden",
    "tags": [
     "remove_input"
    ]
   },
   "source": [
    "## Imports"
   ]
  },
  {
   "cell_type": "code",
   "execution_count": null,
   "metadata": {},
   "outputs": [],
   "source": [
    "from pathlib import Path\n",
    "\n",
    "import numpy as np\n",
    "import pandas as pd\n",
    "import tables\n",
    "\n",
    "%matplotlib inline\n",
    "import matplotlib.pyplot as plt\n",
    "import matplotlib.colors as colors\n",
    "from matplotlib.colors import LogNorm, PowerNorm\n",
    "from matplotlib.pyplot import rc\n",
    "import matplotlib.style as style\n",
    "from cycler import cycler\n",
    "\n",
    "from protopipe.pipeline.io import load_config\n",
    "from protopipe.pipeline.io import get_camera_names, read_protopipe_TRAINING_per_tel_type\n",
    "from protopipe.benchmarks.utils import string_to_boolean\n",
    "from protopipe.benchmarks.plot import plot_profile"
   ]
  },
  {
   "cell_type": "markdown",
   "metadata": {
    "nbsphinx": "hidden",
    "tags": [
     "remove_input"
    ]
   },
   "source": [
    "## Input data"
   ]
  },
  {
   "cell_type": "code",
   "execution_count": null,
   "metadata": {
    "tags": [
     "parameters"
    ]
   },
   "outputs": [],
   "source": [
    "# Parametrized cell\n",
    "# Modify these variables according to your local setup outside of the container\n",
    "analyses_directory = None  # path to the 'analyses' analyses folder\n",
    "output_directory = Path.cwd() # default output directory for plots\n",
    "analysis_name = None # Name of the analysis stored in 'analyses_folder'\n",
    "input_filename = None # Name of the file produced with protopipe\n",
    "model_configuration_filename = \"RandomForestRegressor.yaml\" # Name of the configuration file for the energy model\n",
    "images_condition = None # Quality cuts as a pandas query (e.g. 'good_image == 1 and is_valid == True and hillas_intensity > 0')\n",
    "selected_parameters = ['hillas_width','concentration_pixel'] # List of selected parameters to plot from the file\n",
    "eval_parameters = {'log10_intensity': 'log10(hillas_intensity)', 'log10_impact_dist': 'log10(impact_dist)'} # Additional DERIVED parameters to plot (dictionary of keys and pandas eval expressions)\n",
    "select_from_model = True # If True read quality cuts and plot selected parameters from model configuration\n",
    "use_seaborn = False\n",
    "plots_scale = None # scale all figure sizes by a multiplicative factor"
   ]
  },
  {
   "cell_type": "code",
   "execution_count": null,
   "metadata": {},
   "outputs": [],
   "source": [
    "# Handle boolean variables (papermill reads them as strings)\n",
    "[select_from_model, use_seaborn] = string_to_boolean([select_from_model, use_seaborn])"
   ]
  },
  {
   "cell_type": "code",
   "execution_count": null,
   "metadata": {},
   "outputs": [],
   "source": [
    "# Read configuration file for energy regression model\n",
    "# This is useful for understanding if the parameters you want to use as features for the model are correlated\n",
    "model_configuration_path = Path(analyses_directory) / analysis_name / \"configs\" / model_configuration_filename\n",
    "model_configuration = load_config(model_configuration_path)\n",
    "\n",
    "# Read feature list from model configutation file\n",
    "features_basic = model_configuration[\"FeatureList\"][\"Basic\"]\n",
    "features_derived = model_configuration[\"FeatureList\"][\"Derived\"]\n",
    "features = features_basic + list(features_derived)"
   ]
  },
  {
   "cell_type": "code",
   "execution_count": null,
   "metadata": {},
   "outputs": [],
   "source": [
    "input_directory = Path(analyses_directory) / analysis_name / Path(\"data/TRAINING/for_energy_estimation/gamma\")\n",
    "\n",
    "if not input_filename:\n",
    "    try:\n",
    "        input_filename = input_filenames[\"TRAINING_energy_gamma\"]\n",
    "    except (NameError, KeyError):\n",
    "        input_filename = \"TRAINING_energy_tail_gamma_merged.h5\"\n",
    "\n",
    "cameras = get_camera_names(input_directory, input_filename)      \n",
    "data = read_protopipe_TRAINING_per_tel_type(input_directory, input_filename, cameras)\n",
    "\n",
    "for camera in cameras:\n",
    "    \n",
    "    print(f\"Number of images for {camera} = {len(data[camera])}\")\n",
    "    \n",
    "    # select data\n",
    "    if images_condition:\n",
    "        data[camera] = data[camera].query(images_condition)\n",
    "    elif (not images_condition) and select_from_model:\n",
    "        images_condition = ' and '.join(model_configuration[\"SigFiducialCuts\"])\n",
    "    else:\n",
    "        pass  \n",
    "    \n",
    "    print(f\"Number of SELECTED images for {camera} = {len(data[camera])}\")"
   ]
  },
  {
   "cell_type": "code",
   "execution_count": null,
   "metadata": {},
   "outputs": [],
   "source": [
    "# Compute derived features and add them to the dataframe\n",
    "for camera in cameras:\n",
    "    if select_from_model:\n",
    "        for key, expression in features_derived.items():\n",
    "            data[camera].eval(f'{key} = {expression}', inplace=True)\n",
    "    else:\n",
    "        for key, expression in eval_parameters.items():\n",
    "            data[camera].eval(f'{key} = {expression}', inplace=True)"
   ]
  },
  {
   "cell_type": "code",
   "execution_count": null,
   "metadata": {},
   "outputs": [],
   "source": [
    "true_energy_bin_edges = np.logspace(np.log10(0.02), np.log10(200), num=4)"
   ]
  },
  {
   "cell_type": "code",
   "execution_count": null,
   "metadata": {},
   "outputs": [],
   "source": [
    "# First we check if a _plots_ folder exists already.  \n",
    "# If not, we create it.\n",
    "plots_folder = Path(output_directory) / \"plots\"\n",
    "plots_folder.mkdir(parents=True, exist_ok=True)"
   ]
  },
  {
   "cell_type": "code",
   "execution_count": null,
   "metadata": {},
   "outputs": [],
   "source": [
    "# Plot aesthetics settings\n",
    "\n",
    "scale = matplotlib_settings[\"scale\"] if plots_scale is None else float(plots_scale)\n",
    "\n",
    "style.use(matplotlib_settings[\"style\"])\n",
    "cmap = matplotlib_settings[\"cmap\"]\n",
    "rc('font', size=matplotlib_settings[\"rc\"][\"font_size\"])\n",
    "\n",
    "if matplotlib_settings[\"style\"] == \"seaborn-colorblind\":\n",
    "    \n",
    "    # Change color order to have first ones more readable\n",
    "    colors_order = ['#0072B2', '#D55E00', '#009E73', '#CC79A7', '#56B4E9', '#F0E442']\n",
    "    rc('axes', prop_cycle=cycler(color=colors_order))\n",
    "\n",
    "if use_seaborn:\n",
    "    import seaborn as sns\n",
    "    \n",
    "    sns.set_theme(context=seaborn_settings[\"theme\"][\"context\"] if \"context\" in seaborn_settings[\"theme\"] else \"talk\",\n",
    "                  style=seaborn_settings[\"theme\"][\"style\"] if \"style\" in seaborn_settings[\"theme\"] else \"whitegrid\",\n",
    "                  palette=seaborn_settings[\"theme\"][\"palette\"] if \"palette\" in seaborn_settings[\"theme\"] else None,\n",
    "                  font=seaborn_settings[\"theme\"][\"font\"] if \"font\" in seaborn_settings[\"theme\"] else \"Fira Sans\",\n",
    "                  font_scale=seaborn_settings[\"theme\"][\"font_scale\"] if \"font_scale\" in seaborn_settings[\"theme\"] else 1.0,\n",
    "                  color_codes=seaborn_settings[\"theme\"][\"color_codes\"] if \"color_codes\" in seaborn_settings[\"theme\"] else True\n",
    "                  )\n",
    "    \n",
    "    sns.set_style(seaborn_settings[\"theme\"][\"style\"], rc=seaborn_settings[\"rc_style\"])\n",
    "    sns.set_context(seaborn_settings[\"theme\"][\"context\"],\n",
    "                    font_scale=seaborn_settings[\"theme\"][\"font_scale\"] if \"font_scale\" in seaborn_settings[\"theme\"] else 1.0)"
   ]
  },
  {
   "cell_type": "markdown",
   "metadata": {},
   "source": [
    "## Charge profiles\n",
    "[back to top](#Table-of-contents)"
   ]
  },
  {
   "cell_type": "code",
   "execution_count": null,
   "metadata": {},
   "outputs": [],
   "source": [
    "energy_range = true_energy_bin_edges\n",
    "\n",
    "for camera in cameras:\n",
    "\n",
    "    fig = plt.figure(figsize=(5,5))\n",
    "    plt.title(camera)\n",
    "    ax = plt.gca()\n",
    "    for jdx in range(0, len(energy_range) - 1):\n",
    "\n",
    "        data_sel = data[camera][(data[camera]['true_energy'] >= true_energy_bin_edges[jdx]) & \n",
    "                            (data[camera]['true_energy'] < true_energy_bin_edges[jdx + 1])]\n",
    "\n",
    "        xbins = 10 + 1\n",
    "        xrange = [10, 2000]\n",
    "        opt = {'xlabel': 'Impact parameter [m]', 'ylabel': 'Charge [p.e.]', 'color': cmap[jdx],\n",
    "               'label': 'E [{:.2f},{:.2f}] TeV'.format(true_energy_bin_edges[jdx], true_energy_bin_edges[jdx+1]),\n",
    "               'ms': 6}\n",
    "        plot_profile(ax, data=data_sel,\n",
    "                     xcol='impact_dist', ycol='hillas_intensity',\n",
    "                     n_xbin=xbins, x_range=xrange, logx=True, **opt)\n",
    "\n",
    "        ax.set_yscale('log')\n",
    "        ax.set_yscale('log')\n",
    "        ax.set_ylim([100, 2. * 100000.])\n",
    "        ax.set_xlim([10, 2000])\n",
    "\n",
    "    ax.grid(which='both')\n",
    "    plt.tight_layout()\n",
    "\n",
    "    fig.savefig(plots_folder / f\"charge_profile_protopipe_{camera}_{analysis_name}.png\")"
   ]
  },
  {
   "cell_type": "markdown",
   "metadata": {},
   "source": [
    "## Correlation between some parameters in bins of true energy\n",
    "[back to top](#Table-of-contents)"
   ]
  },
  {
   "cell_type": "markdown",
   "metadata": {},
   "source": [
    "This is useful for e.g. understanding if the parameters you want to use as features for the model are correlated."
   ]
  },
  {
   "cell_type": "code",
   "execution_count": null,
   "metadata": {},
   "outputs": [],
   "source": [
    "if select_from_model:\n",
    "    parameters_to_plot = features\n",
    "else:\n",
    "    parameters_to_plot = selected_parameters + list(eval_parameters)\n",
    "\n",
    "for i, camera in enumerate(cameras):\n",
    "\n",
    "    #plt.figure()\n",
    "\n",
    "    data[camera][\"binned_true_energy\"] = pd.cut(data[camera][\"true_energy\"], bins=true_energy_bin_edges)\n",
    "    grouped_by_true_energy = data[camera].groupby(['binned_true_energy'])\n",
    "\n",
    "    pairplot = sns.pairplot(data[camera][:5000],\n",
    "                 vars=parameters_to_plot,\n",
    "                 kind=\"hist\",\n",
    "                 hue=\"binned_true_energy\")\n",
    "    \n",
    "    pairplot.fig.suptitle(camera, y=1.01, size=\"xx-large\", weight=\"bold\")\n",
    "    None"
   ]
  },
  {
   "cell_type": "code",
   "execution_count": null,
   "metadata": {},
   "outputs": [],
   "source": []
  }
 ],
 "metadata": {
  "celltoolbar": "Edit Metadata",
  "kernelspec": {
   "display_name": "Python 3 (ipykernel)",
   "language": "python",
   "name": "python3"
  },
  "language_info": {
   "codemirror_mode": {
    "name": "ipython",
    "version": 3
   },
   "file_extension": ".py",
   "mimetype": "text/x-python",
   "name": "python",
   "nbconvert_exporter": "python",
   "pygments_lexer": "ipython3",
   "version": "3.8.12"
  }
 },
 "nbformat": 4,
 "nbformat_minor": 4
}
