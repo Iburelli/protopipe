{
 "cells": [
  {
   "cell_type": "code",
   "execution_count": null,
   "metadata": {},
   "outputs": [],
   "source": [
    "# Remove input cells at runtime (nbsphinx)\n",
    "import IPython.core.display as d\n",
    "d.display_html('<script>jQuery(function() {if (jQuery(\"body.notebook_app\").length == 0) { jQuery(\".input_area\").toggle(); jQuery(\".prompt\").toggle();}});</script>', raw=True)"
   ]
  },
  {
   "cell_type": "markdown",
   "metadata": {},
   "source": [
    "# Energy Look-Up Tables"
   ]
  },
  {
   "cell_type": "markdown",
   "metadata": {},
   "source": [
    "**Author(s):** Dr. Michele Peresano (CEA-Saclay/IRFU/DAp/LEPCHE), 2020\n",
    "\n",
    "**Recommended datasample(s):**\n",
    "- ``gamma-1`` for training (goes into energy training)\n",
    "- ``gamma-2`` for testing (goes into classification training in the reference analysis since we use estimated energy as one of the model's features)\n",
    "\n",
    "**Data level(s):** DL1b (telescope-wise image parameters) + DL2 (only shower geometry)\n",
    "\n",
    "**Description:**\n",
    "\n",
    "An alternative to more complex machine learning approaches, this LUT allows to estimate the energy of a test event by assigning an average value based on true energy of a training event with some of its reconstructed image parameters and shower geometry.\n",
    "\n",
    "Basically, given intensity and impact parameter of every image/shower pair we build a LUT using true energy as a weight.\n",
    "\n",
    "At a fixed true energy we expect that intensity of the image drops down with increasing impact parameter.\n",
    "\n",
    "**Requirements and steps to reproduce:**\n",
    "\n",
    "To run this notebook you will need TRAINING files generated using ``protopipe-TRAINING``.  \n",
    "The data format required to run the notebook is the current one used by _protopipe_.  \n",
    "\n",
    "To get a filled notebook and reproduce these results,\n",
    "\n",
    "- get the necessary input files using ``protopipe-TRAINING`` (see documentation)\n",
    "- execute the notebook with ``protopipe-BENCHMARK``,\n",
    "\n",
    "``protopipe-BENCHMARK launch --config_file configs/benchmarks.yaml -n TRAINING/benchmarks_DL2_EnergyLUT``\n",
    "\n",
    "To obtain the list of all available parameters add ``--help-notebook``.\n",
    "\n",
    "**Development and testing:**  \n",
    "\n",
    "As with any other part of _protopipe_ and being part of the official repository, this notebook can be further developed by any interested contributor.   \n",
    "The execution of this notebook is not currently automatic, it must be done locally by the user _before_ pushing a pull-request.  \n",
    "Please, strip the output before pushing.\n",
    "\n",
    "**Notes:** this could be technically merged into the \"to_energy-estimation\" notebook, since it uses the same (training) data, but it's also a nice check on its own."
   ]
  },
  {
   "cell_type": "markdown",
   "metadata": {},
   "source": [
    "## Table of contents\n",
    "\n",
    "- [LUTs from training sample](#LUTs-from-training-sample)\n",
    "- [Use these LUTs to predict the reconstructed energy](#Use-these-LUTs-to-predict-the-reconstructed-energy)\n",
    "  - [Re-apply them first to the train sample](#Re-apply-them-first-to-the-train-sample)\n",
    "  - [Predict the reconstructed energy of the test sample](#Predict-the-reconstructed-energy-of-the-test-sample)\n",
    "      - [Migration matrix](#Migration-matrix)\n",
    "      - [Energy bias and resolution](#Energy-bias-and-resolution)\n",
    "      - [Dispersion matrix with bias and resolution](#Dispersion-matrix-with-bias-and-resolution)"
   ]
  },
  {
   "cell_type": "markdown",
   "metadata": {
    "nbsphinx": "hidden",
    "tags": [
     "remove_input"
    ]
   },
   "source": [
    "## Imports"
   ]
  },
  {
   "cell_type": "code",
   "execution_count": null,
   "metadata": {},
   "outputs": [],
   "source": [
    "import os\n",
    "from pathlib import Path\n",
    "import numpy as np\n",
    "from scipy.stats import binned_statistic, binned_statistic_2d\n",
    "from scipy.interpolate import RectBivariateSpline\n",
    "import tables\n",
    "import pandas\n",
    "import matplotlib.pyplot as plt\n",
    "from matplotlib.colors import LogNorm\n",
    "\n",
    "# font size\n",
    "font_size = 16\n",
    "\n",
    "# Set general font size\n",
    "plt.rcParams['font.size'] = font_size\n",
    "\n",
    "from protopipe.pipeline.io import get_camera_names, read_protopipe_TRAINING_per_tel_type"
   ]
  },
  {
   "cell_type": "markdown",
   "metadata": {
    "nbsphinx": "hidden",
    "tags": [
     "remove_input"
    ]
   },
   "source": [
    "## Functions"
   ]
  },
  {
   "cell_type": "code",
   "execution_count": null,
   "metadata": {},
   "outputs": [],
   "source": [
    "def create_lookup_function(binned_stat):\n",
    "    \"\"\"\n",
    "    Returns a function f(x,y) that evaluates the lookup at a point.\n",
    "    \"\"\"\n",
    "    cx = 0.5 * (binned_stat.x_edge[0:-1] + binned_stat.x_edge[1:])\n",
    "    cy = 0.5 * (binned_stat.y_edge[0:-1] + binned_stat.y_edge[1:])\n",
    "    z = binned_stat.statistic\n",
    "    z[~np.isfinite(z)] = 0  # make sure there are no infs or nans\n",
    "    interpolator = RectBivariateSpline(x=cx, y=cy, z=z, kx=1, ky=1, s=0)\n",
    "    return lambda x,y : interpolator.ev(x,y) # go back to TeV and evaluate"
   ]
  },
  {
   "cell_type": "markdown",
   "metadata": {
    "nbsphinx": "hidden",
    "tags": [
     "remove_input"
    ]
   },
   "source": [
    "## Input data"
   ]
  },
  {
   "cell_type": "code",
   "execution_count": null,
   "metadata": {
    "tags": [
     "parameters"
    ]
   },
   "outputs": [],
   "source": [
    "# Parametrized cell\n",
    "# Modify these variables according to your local setup outside of the container\n",
    "analyses_directory = \"\" # host directory containing 'shared_folder'\n",
    "output_directory = Path.cwd() # default output directory for plots\n",
    "analysis_name = \"\"# Name of the analysis\n",
    "infile_train = None\n",
    "infile_test = None"
   ]
  },
  {
   "cell_type": "code",
   "execution_count": null,
   "metadata": {},
   "outputs": [],
   "source": [
    "if not infile_train:\n",
    "    try:\n",
    "        infile_train = input_filenames[\"TRAINING_energy_gamma\"]\n",
    "    except (NameError, KeyError):\n",
    "        infile_train = \"TRAINING_energy_tail_gamma_merged.h5\"\n",
    "\n",
    "if not infile_test:\n",
    "    try:\n",
    "        infile_test = input_filenames[\"TRAINING_classification_gamma\"]\n",
    "    except (NameError, KeyError):\n",
    "        infile_test = \"TRAINING_classification_tail_gamma_merged.h5\""
   ]
  },
  {
   "cell_type": "code",
   "execution_count": null,
   "metadata": {},
   "outputs": [],
   "source": [
    "train_path = Path(\"data/TRAINING/for_energy_estimation/gamma\")\n",
    "test_path = Path(\"data/TRAINING/for_particle_classification/gamma\")\n",
    "\n",
    "indir_train = Path(analyses_directory) / analysis_name / train_path\n",
    "indir_test = Path(analyses_directory) / analysis_name / test_path"
   ]
  },
  {
   "cell_type": "code",
   "execution_count": null,
   "metadata": {},
   "outputs": [],
   "source": [
    "cameras = get_camera_names(input_directory = indir_train,\n",
    "                           file_name = infile_train)\n",
    "data_train = read_protopipe_TRAINING_per_tel_type(input_directory = indir_train,\n",
    "                                                  file_name = infile_train,\n",
    "                                                  camera_names=cameras)       "
   ]
  },
  {
   "cell_type": "code",
   "execution_count": null,
   "metadata": {},
   "outputs": [],
   "source": [
    "intensity = {}\n",
    "impact_distance = {}\n",
    "true_energy = {}"
   ]
  },
  {
   "cell_type": "code",
   "execution_count": null,
   "metadata": {},
   "outputs": [],
   "source": [
    "# select only successfully reconstructed showers from good images\n",
    "valid_showers_train = {}\n",
    "for camera in cameras:\n",
    "    valid_showers_train[camera] = data_train[camera][(data_train[camera][\"is_valid\"]==True) \n",
    "                                                     & (data_train[camera][\"good_image\"]==1)]"
   ]
  },
  {
   "cell_type": "code",
   "execution_count": null,
   "metadata": {},
   "outputs": [],
   "source": [
    "for camera in cameras:\n",
    "    \n",
    "    intensity[camera] = valid_showers_train[camera][\"hillas_intensity_reco\"]\n",
    "    impact_distance[camera] = valid_showers_train[camera][\"impact_dist\"]\n",
    "    true_energy[camera] = valid_showers_train[camera][\"true_energy\"]"
   ]
  },
  {
   "cell_type": "code",
   "execution_count": null,
   "metadata": {},
   "outputs": [],
   "source": [
    "# First we check if a _plots_ folder exists already.  \n",
    "# If not, we create it.\n",
    "plots_folder = Path(output_directory) / \"plots\"\n",
    "plots_folder.mkdir(parents=True, exist_ok=True)"
   ]
  },
  {
   "cell_type": "markdown",
   "metadata": {},
   "source": [
    "## LUTs from training sample\n",
    "[back to top](#Table-of-contents)"
   ]
  },
  {
   "cell_type": "markdown",
   "metadata": {},
   "source": [
    "Few things to notice for interpreting these LUTs:\n",
    "\n",
    "- for a fixed intensity, the energy should increase with impact distance because far away showers are fainter,\n",
    "- any tail in the low-intensity-high-impact regime is (at least) a sign of mis-reconstruction of the shower geometry,\n",
    "- in the high-intensity-high-impact regime there should be no data, since it's too below the intensity threshold to be triggered"
   ]
  },
  {
   "cell_type": "code",
   "execution_count": null,
   "metadata": {},
   "outputs": [],
   "source": [
    "fig = plt.figure(figsize=(20, 15))\n",
    "plt.subplots_adjust(hspace=0.25, wspace=0.25)\n",
    "\n",
    "hist_geom = dict(bins=[100, 100],\n",
    "                 range=[[1.5, 5.5],  # log10(intensity)\n",
    "                        [0.0, 800]]) # impact distance\n",
    "energy_LUT = {}\n",
    "energy_LUT_errors = {}\n",
    "\n",
    "for i, camera in enumerate(cameras):\n",
    "    \n",
    "    plt.subplot(2, 2, i*2 + 1)\n",
    "\n",
    "    energy_LUT[camera] = binned_statistic_2d(\n",
    "        x=np.log10(intensity[camera]),\n",
    "        y=impact_distance[camera],\n",
    "        values=true_energy[camera],\n",
    "        statistic=\"mean\",\n",
    "        **hist_geom\n",
    "    )\n",
    "        \n",
    "    plt.pcolormesh(\n",
    "        energy_LUT[camera].x_edge,\n",
    "        energy_LUT[camera].y_edge,\n",
    "        energy_LUT[camera].statistic.T,\n",
    "        norm=LogNorm(),\n",
    "        cmap=\"jet\",\n",
    "        )\n",
    "    plt.title(f\"{camera} - Energy Lookup\")\n",
    "    plt.ylabel(\"Impact distance (m)\")\n",
    "    plt.xlabel(\"log10(intensity)\")\n",
    "    plt.colorbar(label=\"energy (TeV)\")\n",
    "    plt.axhline(150, ls='--', lw=3, color=\"black\", label=\"typical telescope distance\")\n",
    "    plt.legend()\n",
    "        \n",
    "    plt.subplot(2, 2, i*2 + 2)\n",
    "\n",
    "    energy_LUT_errors[camera] = binned_statistic_2d(\n",
    "        x=np.log10(intensity[camera]),\n",
    "        y=impact_distance[camera],\n",
    "        values=true_energy[camera],\n",
    "        statistic=\"std\",\n",
    "        **hist_geom\n",
    "    )\n",
    "        \n",
    "    plt.pcolormesh(\n",
    "        energy_LUT_errors[camera].x_edge,\n",
    "        energy_LUT_errors[camera].y_edge,\n",
    "        energy_LUT_errors[camera].statistic.T,\n",
    "        norm=LogNorm(),\n",
    "        cmap=\"jet\",\n",
    "        )\n",
    "    plt.title(f\"{camera} - Energy Lookup Error\")\n",
    "    plt.ylabel(\"Impact distance (m)\")\n",
    "    plt.xlabel(\"log10(intensity)\")\n",
    "    plt.colorbar(label=\"std( energy ) (TeV)\")\n",
    "    \n",
    "    plt.savefig(plots_folder / f\"EnergyLUT_{camera}_protopipe_{analysis_name}.png\")\n",
    "    \n",
    "plt.show()"
   ]
  },
  {
   "cell_type": "markdown",
   "metadata": {},
   "source": [
    "## Use these LUTs to predict the reconstructed energy\n",
    "[back to top](#Table-of-contents)"
   ]
  },
  {
   "cell_type": "markdown",
   "metadata": {},
   "source": [
    "We should expect that the migration matrix and it's benchmark energy resolution and bias are less then or at least similar to what we get from the ML model."
   ]
  },
  {
   "cell_type": "code",
   "execution_count": null,
   "metadata": {},
   "outputs": [],
   "source": [
    "# Get an energy estimator for each camera\n",
    "\n",
    "energy_estimator = {}\n",
    "\n",
    "for camera in cameras:\n",
    "    \n",
    "    energy_estimator[camera] = create_lookup_function(energy_LUT[camera])"
   ]
  },
  {
   "cell_type": "markdown",
   "metadata": {},
   "source": [
    "### Re-apply them first to the train sample\n",
    "[back to top](#Table-of-contents)"
   ]
  },
  {
   "cell_type": "markdown",
   "metadata": {},
   "source": [
    "The difference between the energy reconstructed with the LUT and the originally binned data should be mostly 0, apart where the error is very high or where relevant DL1 parameters are undefined (but we cut those here)."
   ]
  },
  {
   "cell_type": "code",
   "execution_count": null,
   "metadata": {},
   "outputs": [],
   "source": [
    "fig = plt.figure(figsize=(15, 7))\n",
    "plt.subplots_adjust(hspace=0.25, wspace=0.25)\n",
    "\n",
    "for i, camera in enumerate(cameras):\n",
    "    \n",
    "    plt.subplot(1, 2, i+1)\n",
    "\n",
    "    cx = 0.5*(energy_LUT[camera].x_edge[0:-1] +  energy_LUT[camera].x_edge[1:])\n",
    "    cy = 0.5*(energy_LUT[camera].y_edge[0:-1] +  energy_LUT[camera].y_edge[1:])\n",
    "    mx, my = np.meshgrid(cx,cy)\n",
    "    reco_energy = energy_estimator[camera](mx,my)\n",
    "    plt.pcolormesh(reco_energy - energy_LUT[camera].statistic, cmap='jet')\n",
    "    cb = plt.colorbar()\n",
    "    cb.set_label(\"E_reco TEST - E_reco TRAIN [TeV]\")\n",
    "    plt.title(camera)\n",
    "    plt.xlabel(\"np.log10(intensity) BIN INDEX\")\n",
    "    plt.ylabel(\"Impact distance [m] BIN INDEX\")\n",
    "    \n",
    "    plt.savefig(plots_folder / f\"EnergyLUT_test_on_train_{camera}_protopipe_{analysis_name}.png\")\n",
    "    \n",
    "plt.show()"
   ]
  },
  {
   "cell_type": "markdown",
   "metadata": {},
   "source": [
    "### Predict the reconstructed energy of the test sample\n",
    "[back to top](#Table-of-contents)"
   ]
  },
  {
   "cell_type": "markdown",
   "metadata": {},
   "source": [
    "To be compared with the plots from the DL2 \"to classification\" notebook"
   ]
  },
  {
   "cell_type": "code",
   "execution_count": null,
   "metadata": {},
   "outputs": [],
   "source": [
    "data_test = read_protopipe_TRAINING_per_tel_type(input_directory = indir_test,\n",
    "                                                  file_name = infile_test,\n",
    "                                                  camera_names=cameras) "
   ]
  },
  {
   "cell_type": "code",
   "execution_count": null,
   "metadata": {},
   "outputs": [],
   "source": [
    "# we select also in this case only events which passed the cuts in the pipeline\n",
    "# select only successfully reconstructed showers from good images\n",
    "valid_showers_test = {}\n",
    "for camera in cameras:\n",
    "    valid_showers_test[camera] = data_test[camera][(data_test[camera][\"is_valid\"]==True) \n",
    "                                                     & (data_test[camera][\"good_image\"]==1)].copy()"
   ]
  },
  {
   "cell_type": "code",
   "execution_count": null,
   "metadata": {},
   "outputs": [],
   "source": [
    "for camera in cameras:\n",
    "\n",
    "    valid_showers_test[camera][\"reco_energy_LUT\"] = energy_estimator[camera](np.log10(valid_showers_test[camera][\"hillas_intensity_reco\"]),\n",
    "                                                                             valid_showers_test[camera][\"impact_dist\"])"
   ]
  },
  {
   "cell_type": "markdown",
   "metadata": {},
   "source": [
    "#### Migration matrix\n",
    "[back to top](#Table-of-contents)"
   ]
  },
  {
   "cell_type": "code",
   "execution_count": null,
   "metadata": {},
   "outputs": [],
   "source": [
    "# merge the tables from test data\n",
    "for i, camera in enumerate(cameras):\n",
    "    if i==0:\n",
    "        all_valid_showers_test = valid_showers_test[camera]\n",
    "    else:\n",
    "        all_valid_showers_test = all_valid_showers_test.append(valid_showers_test[camera])\n",
    "# Finally drop duplicate showers (stereo information is the same for each event ID)\n",
    "unique_all_valid_showers_test = all_valid_showers_test.drop_duplicates(subset=['event_id'])\n",
    "\n",
    "x = np.log10(unique_all_valid_showers_test[\"true_energy\"].values)\n",
    "y = np.log10(unique_all_valid_showers_test[\"reco_energy_LUT\"].values)\n",
    "\n",
    "bin_edges = np.arange(-1.9, 2.3, 1/50)\n",
    "\n",
    "plt.figure(figsize=(10,5))\n",
    "\n",
    "plt.hist2d(x, y, bins=[bin_edges, bin_edges], norm=LogNorm())\n",
    "plt.grid(which=\"both\", axis=\"both\")\n",
    "plt.colorbar(label='Counts')\n",
    "plt.xlabel('log10(true energy) [TeV]')\n",
    "plt.ylabel('log10(reco energy) [TeV]')\n",
    "\n",
    "plt.plot(bin_edges, bin_edges, color=\"red\")\n",
    "\n",
    "plt.savefig(plots_folder / f\"EnergyLUT_migration_matrix_{camera}_protopipe_{analysis_name}.png\")\n",
    "    \n",
    "plt.show()\n",
    "\n",
    "None # to remove clutter by mpl objects"
   ]
  },
  {
   "cell_type": "markdown",
   "metadata": {},
   "source": [
    "#### Energy bias and resolution\n",
    "[back to top](#Table-of-contents)"
   ]
  },
  {
   "cell_type": "markdown",
   "metadata": {},
   "source": [
    "Considering the distribution,\n",
    "\n",
    "``x = (E_reco / E_true) - 1``\n",
    "\n",
    "in bins of *true* energy we calculate,\n",
    "\n",
    "- **energy bias** as the _mean_ of x and as the _median_ of x\n",
    "\n",
    "- **energy resolution**:\n",
    "\n",
    "    - as the ``68%-quantile of the distribution of abs(x)``,\n",
    "    - as the ``68%-quantile of the distribution of abs(x -bias)``\n",
    "    \n",
    "    Please, note that by using the first definition, any possible reconstruction bias is \"absorbed\" in the resolution."
   ]
  },
  {
   "cell_type": "code",
   "execution_count": null,
   "metadata": {},
   "outputs": [],
   "source": [
    "reco = unique_all_valid_showers_test[\"reco_energy_LUT\"].values\n",
    "true = unique_all_valid_showers_test[\"true_energy\"].values\n",
    "\n",
    "# from CTAMARS data\n",
    "bin_edges_x = np.array([-1.9, -1.7, -1.5, -1.3, -1.1, -0.9, -0.7, -0.5, -0.3, -0.1,  0.1,\n",
    "        0.3,  0.5,  0.7,  0.9,  1.1,  1.3,  1.5,  1.7,  1.9,  2.1,  2.3])\n",
    "\n",
    "plt.figure(figsize=(15,5))\n",
    "plt.subplots_adjust(wspace = 0.4)\n",
    "font_size = 16\n",
    "\n",
    "# RESOLUTION\n",
    "\n",
    "plt.subplot(1,2,1)\n",
    "\n",
    "# Set tick font size\n",
    "ax = plt.gca()\n",
    "for label in (ax.get_xticklabels() + ax.get_yticklabels()):\n",
    "    label.set_fontsize(font_size)\n",
    "\n",
    "resolution = binned_statistic(np.log10(true),\n",
    "                              reco/true - 1,\n",
    "                              statistic = lambda x: np.percentile(np.abs(x), 68),\n",
    "                              bins=bin_edges_x,)\n",
    "\n",
    "corr_resolution = binned_statistic(np.log10(true),\n",
    "                                  reco/true - 1,\n",
    "                                  statistic = lambda x: np.percentile(np.abs(x-np.mean(x)), 68),\n",
    "                                  bins=bin_edges_x)\n",
    "\n",
    "\n",
    "plt.plot(0.5*(bin_edges_x[:-1]+bin_edges_x[1:]), resolution[0], \"bo\", label=\"protopipe\")\n",
    "plt.plot(0.5*(bin_edges_x[:-1]+bin_edges_x[1:]), corr_resolution[0], \"ro\", label=\"protopipe (bias corrected)\")\n",
    "\n",
    "plt.hlines(0.0, plt.gca().get_xlim()[0], plt.gca().get_xlim()[1], ls=\"--\", color=\"green\")\n",
    "\n",
    "plt.grid(which=\"both\", axis=\"both\")\n",
    "plt.xlabel('log10(true energy) [TeV]')\n",
    "plt.ylabel('abs(reco/true - 1)_68%')\n",
    "plt.xlim(-2.1, 2.1)\n",
    "plt.ylim(-0.5, 2)\n",
    "plt.legend(loc=\"best\")\n",
    "\n",
    "# BIAS\n",
    "\n",
    "plt.subplot(1,2,2)\n",
    "\n",
    "# Set tick font size\n",
    "ax = plt.gca()\n",
    "for label in (ax.get_xticklabels() + ax.get_yticklabels()):\n",
    "    label.set_fontsize(font_size)\n",
    "\n",
    "bias = binned_statistic(np.log10(true), \n",
    "                        reco/true - 1, \n",
    "                        statistic=\"mean\", \n",
    "                        bins=bin_edges_x)\n",
    "\n",
    "\n",
    "plt.plot(0.5*(bin_edges_x[:-1]+bin_edges_x[1:]), bias[0], \"bo\")\n",
    "plt.hlines(0.0, plt.gca().get_xlim()[0], plt.gca().get_xlim()[1], ls=\"--\", color=\"green\")\n",
    "\n",
    "plt.grid(which=\"both\", axis=\"both\")\n",
    "plt.xlabel('log10(true energy) [TeV]')\n",
    "plt.ylabel('mean(reco/true - 1)')\n",
    "plt.xlim(-2.1, 2.1)\n",
    "plt.ylim(-0.5, 2)\n",
    "\n",
    "plt.savefig(plots_folder / f\"EnergyLUT_resolution_bias_{camera}_protopipe_{analysis_name}.png\")\n",
    "    \n",
    "plt.show()\n",
    "\n",
    "None # to remove clutter by mpl objects"
   ]
  },
  {
   "cell_type": "code",
   "execution_count": null,
   "metadata": {},
   "outputs": [],
   "source": [
    "true_energy_bins_edges = bin_edges_x\n",
    "true_energy_bins_centers = 0.5 * (true_energy_bins_edges[1:]+true_energy_bins_edges[:-1])\n",
    "    \n",
    "plt.figure(figsize=(9,7))\n",
    "\n",
    "resolution = binned_statistic(np.log10(true),\n",
    "                          reco/true - 1,\n",
    "                          statistic = lambda x: np.percentile(np.abs(x), 68),\n",
    "                          bins=true_energy_bins_edges)\n",
    "\n",
    "corr_resolution_mean = binned_statistic(np.log10(true),\n",
    "                              reco/true - 1,\n",
    "                              statistic = lambda x: np.percentile(np.abs(x-np.mean(x)), 68),\n",
    "                              bins=true_energy_bins_edges)\n",
    "\n",
    "corr_resolution_median = binned_statistic(np.log10(true),\n",
    "                              reco/true - 1,\n",
    "                              statistic = lambda x: np.percentile(np.abs(x-np.median(x)), 68),\n",
    "                              bins=true_energy_bins_edges)\n",
    "\n",
    "bias_mean = binned_statistic(np.log10(true), \n",
    "                    reco/true - 1, \n",
    "                    statistic=\"mean\", \n",
    "                    bins=true_energy_bins_edges)\n",
    "\n",
    "bias_median = binned_statistic(np.log10(true), \n",
    "                    reco/true - 1, \n",
    "                    statistic=\"median\", \n",
    "                    bins=true_energy_bins_edges)\n",
    "\n",
    "plt.plot(true_energy_bins_centers, resolution[0], label=\"resolution (bias included)\")\n",
    "plt.plot(true_energy_bins_centers, corr_resolution_mean[0], label=\"resolution (bias mean corrected)\")\n",
    "plt.plot(true_energy_bins_centers, corr_resolution_median[0], label=\"resolution (bias median corrected)\")\n",
    "plt.plot(true_energy_bins_centers, bias_mean[0], label=\"bias (mean)\")\n",
    "plt.plot(true_energy_bins_centers, bias_median[0], label=\"bias (median)\")\n",
    "plt.title(camera)\n",
    "plt.legend()\n",
    "plt.grid()\n",
    "plt.ylim(-0.2, 1.2)\n",
    "plt.xlim(np.log10(0.0125), np.log10(125))\n",
    "plt.xlabel('log10(true energy) [TeV]')\n",
    "\n",
    "plt.show()\n",
    "plt.savefig(plots_folder / f\"energy_LUT_resolution_bias_protopipe_{analysis_name}.png\")"
   ]
  },
  {
   "cell_type": "code",
   "execution_count": null,
   "metadata": {},
   "outputs": [],
   "source": []
  },
  {
   "cell_type": "markdown",
   "metadata": {},
   "source": [
    "#### Dispersion matrix with bias and resolution\n",
    "[back to top](#Table-of-contents)"
   ]
  },
  {
   "cell_type": "markdown",
   "metadata": {},
   "source": [
    "Here the error bar is the bias-corrected resolution.  \n",
    "\n",
    "The dispersion matrix has been normalized to ensure that the integral probability of reconstructing a photon with a certain true energy at a certain reconstructed energy is 1.0"
   ]
  },
  {
   "cell_type": "code",
   "execution_count": null,
   "metadata": {},
   "outputs": [],
   "source": [
    "x = np.log10(true)\n",
    "y = reco/true - 1\n",
    "\n",
    "bin_edges_y = np.linspace(-1,3,300)\n",
    "\n",
    "plt.figure(figsize=(10,7))\n",
    "\n",
    "h, _, _ = np.histogram2d(x, y, bins=[bin_edges_x, bin_edges_y])\n",
    "# normalize y-axis so to get a max probability of 1 within 1 bin in true energy\n",
    "h = h/np.sum(h, axis=1)[np.newaxis].T\n",
    "# re-plot\n",
    "plt.pcolormesh(bin_edges_x, bin_edges_y, h.T, cmap=\"rainbow\")\n",
    "\n",
    "\n",
    "corr_resolution = binned_statistic(np.log10(true),\n",
    "                                  reco/true - 1,\n",
    "                                  statistic = lambda x: np.percentile(np.abs(x-np.mean(x)), 68),\n",
    "                                  bins=bin_edges_x)\n",
    "\n",
    "bias = binned_statistic(np.log10(true), \n",
    "                        reco/true -1, \n",
    "                        statistic=\"median\", \n",
    "                        bins=bin_edges_x)\n",
    "\n",
    "plt.errorbar(x = 0.5*(bin_edges_x[:-1]+bin_edges_x[1:]),\n",
    "             y = bias[0],\n",
    "             xerr = np.diff(bin_edges_x)/2,\n",
    "             yerr = corr_resolution[0],\n",
    "             ls=\"none\",\n",
    "             fmt = \"o\",\n",
    "            color=\"black\")\n",
    "\n",
    "plt.vlines(np.log10(0.03), plt.gca().get_ylim()[0], plt.gca().get_ylim()[1], ls=\"--\", lw=2.5, color=\"magenta\", label=\"30 GeV\")\n",
    "\n",
    "plt.grid(which=\"both\", axis=\"both\")\n",
    "plt.colorbar(label='Counts')\n",
    "plt.xlabel('log10(true energy) [TeV]')\n",
    "plt.ylabel('reco / true - 1')\n",
    "plt.legend()\n",
    "\n",
    "plt.savefig(plots_folder / f\"EnergyLUT_Dispersion_resolution_bias_{camera}_protopipe_{analysis_name}.png\")\n",
    "    \n",
    "plt.show()\n",
    "\n",
    "None # to remove clutter by mpl objects"
   ]
  },
  {
   "cell_type": "code",
   "execution_count": null,
   "metadata": {},
   "outputs": [],
   "source": []
  }
 ],
 "metadata": {
  "celltoolbar": "Edit Metadata",
  "kernelspec": {
   "display_name": "Python 3 (ipykernel)",
   "language": "python",
   "name": "python3"
  },
  "language_info": {
   "codemirror_mode": {
    "name": "ipython",
    "version": 3
   },
   "file_extension": ".py",
   "mimetype": "text/x-python",
   "name": "python",
   "nbconvert_exporter": "python",
   "pygments_lexer": "ipython3",
   "version": "3.8.12"
  }
 },
 "nbformat": 4,
 "nbformat_minor": 4
}
