{
 "cells": [
  {
   "cell_type": "code",
   "execution_count": null,
   "metadata": {},
   "outputs": [],
   "source": [
    "# Remove input cells at runtime (nbsphinx)\n",
    "import IPython.core.display as d\n",
    "d.display_html('<script>jQuery(function() {if (jQuery(\"body.notebook_app\").length == 0) { jQuery(\".input_area\").toggle(); jQuery(\".prompt\").toggle();}});</script>', raw=True)"
   ]
  },
  {
   "cell_type": "markdown",
   "metadata": {},
   "source": [
    "# Energy estimation for classification"
   ]
  },
  {
   "cell_type": "markdown",
   "metadata": {},
   "source": [
    "**Author(s):** Dr. Michele Peresano (CEA-Saclay/IRFU/DAp/LEPCHE), 2020\n",
    "\n",
    "**Recommended datasample(s):** ``gamma-2`` (goes into classification training in the reference analysis since we use estimated energy as one of the model's features)\n",
    "\n",
    "**Data level(s):** DL1b (telescope-wise image parameters) + DL2 (shower geometry + estimated energy)\n",
    "\n",
    "**Description:**\n",
    "\n",
    "This notebook contains benchmarks for the _protopipe_ pipeline regarding information from training data used for the training of the classification model.  \n",
    "\n",
    "Only valid showers (meaning reconstructed with success) are considered.\n",
    "\n",
    "**Requirements and steps to reproduce:**\n",
    "\n",
    "This notebook requires a TRAINING file generated using ``protopipe-TRAINING``.  \n",
    "The data format required to run the notebook is the current one used by _protopipe_ .\n",
    "\n",
    "To get a filled notebook and reproduce these results,\n",
    "\n",
    "- get the necessary input files using ``protopipe-TRAINING`` (see documentation)\n",
    "- execute the notebook with ``protopipe-BENCHMARK``,\n",
    "\n",
    "``protopipe-BENCHMARK launch --config_file configs/benchmarks.yaml -n TRAINING/benchmarks_DL2_to_classification``\n",
    "\n",
    "To obtain the list of all available parameters add ``--help-notebook``.\n",
    "\n",
    "**Comparison against CTAMARS:**\n",
    "\n",
    "- the input file needs to be a merged TRAINING file from the gamma2 sample\n",
    "- reference simtel-files, plots, values and settings can be found [here (please, always refer to the latest version)](https://forge.in2p3.fr/projects/benchmarks-reference-analysis/wiki/Comparisons_between_pipelines).\n",
    "\n",
    "**Development and testing:**  \n",
    "\n",
    "As with any other part of _protopipe_ and being part of the official repository, this notebook can be further developed by any interested contributor.   \n",
    "The execution of this notebook is not currently automatic, it must be done locally by the user _before_ pushing a pull-request.  \n",
    "Please, strip the output before pushing."
   ]
  },
  {
   "cell_type": "markdown",
   "metadata": {},
   "source": [
    "## Table of contents\n",
    "- [Energy dispersion](#Energy-dispersion)\n",
    "- [Energy resolution and bias](#Energy-resolution-and-bias)\n",
    "- [Migration energy matrix](#Migration-energy-matrix)"
   ]
  },
  {
   "cell_type": "markdown",
   "metadata": {
    "nbsphinx": "hidden",
    "tags": [
     "remove_input"
    ]
   },
   "source": [
    "## Imports"
   ]
  },
  {
   "cell_type": "code",
   "execution_count": null,
   "metadata": {},
   "outputs": [],
   "source": [
    "from pathlib import Path\n",
    "\n",
    "import tables\n",
    "import astropy.units as u\n",
    "import pandas\n",
    "import numpy as np\n",
    "from scipy.stats import binned_statistic\n",
    "import uproot\n",
    "import matplotlib.pyplot as plt\n",
    "from matplotlib.colors import LogNorm\n",
    "from mpl_toolkits.axes_grid1 import make_axes_locatable\n",
    "from matplotlib.pyplot import rc\n",
    "import matplotlib.style as style\n",
    "from cycler import cycler\n",
    "\n",
    "from protopipe.pipeline.io import get_camera_names, read_protopipe_TRAINING_per_tel_type\n",
    "\n",
    "# font size\n",
    "font_size = 16\n",
    "\n",
    "# Set general font size\n",
    "plt.rcParams['font.size'] = font_size"
   ]
  },
  {
   "cell_type": "markdown",
   "metadata": {},
   "source": [
    "## Functions"
   ]
  },
  {
   "cell_type": "code",
   "execution_count": null,
   "metadata": {},
   "outputs": [],
   "source": [
    "# TODO: move to protopipe.benchmarks.utils\n",
    "def raise_(ex):\n",
    "    \"\"\"Raise an exception as a statement.\n",
    "    \n",
    "    This is a general purpose raiser for cases such as a lambda function.\n",
    "    \n",
    "    Parameters\n",
    "    ----------\n",
    "    ex: exception\n",
    "        Python built-in exception to raise.\n",
    "    \"\"\"\n",
    "    raise ex\n",
    "\n",
    "# TODO: move to protopipe.benchmarks.utils\n",
    "def string_to_boolean(variables):\n",
    "    \"\"\"Convert True/False strings to booleans.\n",
    "    \n",
    "    Useful in case a specific use of the CLI doesn't allow to read booleans as booleans.\n",
    "    \n",
    "    Parameters\n",
    "    ----------\n",
    "    variables: list of str\n",
    "        Variables to check.\n",
    "    \"\"\"\n",
    "    \n",
    "    def check_str(x): return x if type(x) == bool \\\n",
    "        else True if x == \"True\" \\\n",
    "        else False if x == \"False\" \\\n",
    "        else raise_(ValueError(f\"{x} is not a valid boolean.\"))\n",
    "    \n",
    "    return list(map(check_str, variables))\n",
    "\n",
    "# TODO: move to protopipe.benchmarks.utils\n",
    "def get_fig_size(ratio=None, scale=None):\n",
    "    ratio = 4/3. if ratio is None else ratio\n",
    "    scale = 1.0 if scale is None else scale\n",
    "    height = 5\n",
    "    width = height * ratio\n",
    "    return (width*scale, height*scale)"
   ]
  },
  {
   "cell_type": "markdown",
   "metadata": {
    "nbsphinx": "hidden",
    "tags": [
     "remove_input"
    ]
   },
   "source": [
    "## Input data"
   ]
  },
  {
   "cell_type": "code",
   "execution_count": null,
   "metadata": {
    "tags": [
     "parameters"
    ]
   },
   "outputs": [],
   "source": [
    "load_CTAMARS = False  # If True (default), compare to the CTAN analysis done with CTAMARS (Release 2019)\n",
    "output_directory = Path.cwd() # default output directory for plots\n",
    "analyses_directory = \"/Users/michele/Applications/ctasoft/dirac/shared_folder/analyses\" # path to 'analyses' folder inside 'shared_folder'\n",
    "analysis_name = \"v0.5.0a1\" # Name of the analysis stored in 'analyses_folder'\n",
    "input_filename = None # Name of the file produced with protopipe\n",
    "CTAMARS_input_directory = None # Path to DL1 CTAMARS data (if load_CTAMARS_2019 is True)\n",
    "mars_dl2b_energy_fileName = \"CTA_4L15M_check_Erec.root\" # Name of the CTAMARS reference file\n",
    "use_seaborn = True\n",
    "plots_scale = 1.0 # scale all figure sizes by a multiplicative factor"
   ]
  },
  {
   "cell_type": "code",
   "execution_count": null,
   "metadata": {},
   "outputs": [],
   "source": [
    "# Handle boolean variables (papermill reads them as strings)\n",
    "[load_CTAMARS, use_seaborn] = string_to_boolean([load_CTAMARS, use_seaborn])"
   ]
  },
  {
   "cell_type": "code",
   "execution_count": null,
   "metadata": {},
   "outputs": [],
   "source": [
    "# First we check if a _plots_ folder exists already.  \n",
    "# If not, we create it.\n",
    "plots_folder = Path(output_directory) / \"plots\"\n",
    "plots_folder.mkdir(parents=True, exist_ok=True)"
   ]
  },
  {
   "cell_type": "code",
   "execution_count": null,
   "metadata": {},
   "outputs": [],
   "source": [
    "# Plot aesthetics settings\n",
    "\n",
    "scale = matplotlib_settings[\"scale\"] if plots_scale is None else float(plots_scale)\n",
    "\n",
    "style.use(matplotlib_settings[\"style\"])\n",
    "cmap = matplotlib_settings[\"cmap\"]\n",
    "rc('font', size=matplotlib_settings[\"rc\"][\"font_size\"])\n",
    "\n",
    "if matplotlib_settings[\"style\"] == \"seaborn-colorblind\":\n",
    "    \n",
    "    # Change color order to have first ones more readable\n",
    "    colors_order = ['#0072B2', '#D55E00', '#009E73', '#CC79A7', '#56B4E9', '#F0E442']\n",
    "    rc('axes', prop_cycle=cycler(color=colors_order))\n",
    "\n",
    "if use_seaborn:\n",
    "    import seaborn as sns\n",
    "    \n",
    "    sns.set_theme(context=seaborn_settings[\"theme\"][\"context\"] if \"context\" in seaborn_settings[\"theme\"] else \"talk\",\n",
    "                  style=seaborn_settings[\"theme\"][\"style\"] if \"style\" in seaborn_settings[\"theme\"] else \"whitegrid\",\n",
    "                  palette=seaborn_settings[\"theme\"][\"palette\"] if \"palette\" in seaborn_settings[\"theme\"] else None,\n",
    "                  font=seaborn_settings[\"theme\"][\"font\"] if \"font\" in seaborn_settings[\"theme\"] else \"Fira Sans\",\n",
    "                  font_scale=seaborn_settings[\"theme\"][\"font_scale\"] if \"font_scale\" in seaborn_settings[\"theme\"] else 1.0,\n",
    "                  color_codes=seaborn_settings[\"theme\"][\"color_codes\"] if \"color_codes\" in seaborn_settings[\"theme\"] else True\n",
    "                  )\n",
    "    \n",
    "    sns.set_style(seaborn_settings[\"theme\"][\"style\"], rc=seaborn_settings[\"rc_style\"])\n",
    "    sns.set_context(seaborn_settings[\"theme\"][\"context\"],\n",
    "                    font_scale=seaborn_settings[\"theme\"][\"font_scale\"] if \"font_scale\" in seaborn_settings[\"theme\"] else 1.0)"
   ]
  },
  {
   "cell_type": "markdown",
   "metadata": {
    "nbsphinx": "hidden",
    "tags": [
     "remove_input"
    ]
   },
   "source": [
    "### protopipe"
   ]
  },
  {
   "cell_type": "code",
   "execution_count": null,
   "metadata": {},
   "outputs": [],
   "source": [
    "if not input_filename:\n",
    "    try:\n",
    "        input_filename = input_filenames[\"TRAINING_classification_gamma\"]\n",
    "    except (NameError, KeyError):\n",
    "        input_filename = \"TRAINING_classification_tail_gamma_merged.h5\""
   ]
  },
  {
   "cell_type": "code",
   "execution_count": null,
   "metadata": {},
   "outputs": [],
   "source": [
    "input_directory = Path(analyses_directory) / analysis_name / Path(\"data/TRAINING/for_particle_classification/gamma\")\n",
    "cameras = get_camera_names(input_directory = input_directory, file_name = input_filename)\n",
    "data = read_protopipe_TRAINING_per_tel_type(input_directory = input_directory,\n",
    "                                            file_name = input_filename,\n",
    "                                            camera_names=cameras)       "
   ]
  },
  {
   "cell_type": "code",
   "execution_count": null,
   "metadata": {},
   "outputs": [],
   "source": [
    "# select only successfully reconstructed showers\n",
    "valid_showers = {}\n",
    "for camera in cameras:\n",
    "    valid_showers[camera] = data[camera][(data[camera][\"is_valid\"]==True)]"
   ]
  },
  {
   "cell_type": "code",
   "execution_count": null,
   "metadata": {},
   "outputs": [],
   "source": [
    "# then merge the tables\n",
    "for i, camera in enumerate(cameras):\n",
    "    if i==0:\n",
    "        all_valid_showers = valid_showers[camera]\n",
    "    else:\n",
    "        all_valid_showers = all_valid_showers.append(valid_showers[camera])\n",
    "# Finally drop duplicate showers (stereo information is the same for each event ID)\n",
    "unique_all_valid_showers = all_valid_showers.drop_duplicates(subset=['event_id'])"
   ]
  },
  {
   "cell_type": "code",
   "execution_count": null,
   "metadata": {},
   "outputs": [],
   "source": [
    "true_energy = unique_all_valid_showers[\"true_energy\"].values # TeV\n",
    "reco_energy = unique_all_valid_showers[\"reco_energy\"].values # TeV"
   ]
  },
  {
   "cell_type": "markdown",
   "metadata": {
    "nbsphinx": "hidden",
    "tags": [
     "remove_input"
    ]
   },
   "source": [
    "### CTAMARS"
   ]
  },
  {
   "cell_type": "code",
   "execution_count": null,
   "metadata": {},
   "outputs": [],
   "source": [
    "if load_CTAMARS:\n",
    "    \n",
    "    # Get input file path\n",
    "    if not CTAMARS_input_directory:\n",
    "        try:\n",
    "            CTAMARS_input_directory = Path(input_data_CTAMARS[\"parent_directory\"]) / Path(input_data_CTAMARS[\"TRAINING/DL2\"])\n",
    "        except (NameError, KeyError):\n",
    "            print(\"WARNING: CTAMARS data undefined! Please, check the documentation of protopipe-BENCHMARKS.\")\n",
    "    \n",
    "    path_mars_dl2b_energy = CTAMARS_input_directory / Path(mars_dl2b_energy_fileName)\n",
    "\n",
    "    with uproot.open(path_mars_dl2b_energy) as CTAMARS:\n",
    "        CTAMARS_H = CTAMARS[\"Erec_over_E_vs_E\"]\n",
    "        CTAMARS_Eres = CTAMARS[\"Eres\"]\n",
    "\n",
    "    bin_edges_x = CTAMARS_H.member(\"fXaxis\").edges()\n",
    "else:\n",
    "    bin_edges_x = np.arange(-1.9, 2.3 + 0.2, 0.2)\n",
    "\n",
    "bin_edges_y = np.linspace(-1,2,200)\n",
    "bin_centers_x = 0.5 * (bin_edges_x[1:]+bin_edges_x[:-1])"
   ]
  },
  {
   "cell_type": "markdown",
   "metadata": {},
   "source": [
    "## Energy dispersion\n",
    "[back to top](#Table-of-contents)"
   ]
  },
  {
   "cell_type": "code",
   "execution_count": null,
   "metadata": {},
   "outputs": [],
   "source": [
    "plt.figure(figsize=(10,7))\n",
    "\n",
    "plt.hist2d(np.log10(true_energy),\n",
    "           reco_energy/true_energy -1,\n",
    "           bins=[bin_edges_x, bin_edges_y],\n",
    "           cmap=cmap)\n",
    "\n",
    "plt.grid(which=\"both\", axis=\"both\")\n",
    "plt.colorbar(label='Counts')\n",
    "plt.xlabel('log10(true energy) [TeV]')\n",
    "plt.ylabel('reco / true')\n",
    "\n",
    "plt.savefig(plots_folder / f\"energy_dispersion_to_classification_protopipe_{analysis_name}.png\")\n",
    "\n",
    "plt.show()\n",
    "\n",
    "None # to remove clutter by mpl objects"
   ]
  },
  {
   "cell_type": "markdown",
   "metadata": {},
   "source": [
    "Same, but with a Y-axis normalization to ensure that the integral probability of reconstructing a photon with a certain true energy at a certain reconstructed energy is 1.0"
   ]
  },
  {
   "cell_type": "code",
   "execution_count": null,
   "metadata": {},
   "outputs": [],
   "source": [
    "plt.figure(figsize=(10,7))\n",
    "\n",
    "h, _, _ = np.histogram2d(np.log10(true_energy),\n",
    "                         reco_energy/true_energy - 1,\n",
    "                         bins=[bin_edges_x, bin_edges_y])\n",
    "# normalize y-axis so to get a max probability of 1 within 1 bin in true energy\n",
    "h = h/np.sum(h, axis=1)[np.newaxis].T\n",
    "# re-plot\n",
    "plt.pcolormesh(bin_edges_x, bin_edges_y, h.T, cmap=cmap)\n",
    "\n",
    "plt.grid(which=\"both\", axis=\"both\")\n",
    "plt.colorbar(label='Counts')\n",
    "plt.xlabel('log10(true energy) [TeV]')\n",
    "plt.ylabel('reco / true - 1')\n",
    "\n",
    "plt.savefig(plots_folder / f\"energy_dispersion_normalized_to_classification_protopipe_{analysis_name}.png\")\n",
    "\n",
    "plt.show()\n",
    "\n",
    "None # to remove clutter by mpl objects"
   ]
  },
  {
   "cell_type": "markdown",
   "metadata": {},
   "source": [
    "## Energy resolution and bias\n",
    "[back to top](#Table-of-contents)"
   ]
  },
  {
   "cell_type": "markdown",
   "metadata": {},
   "source": [
    "Considering the distribution,\n",
    "\n",
    "``x = (E_reco / E_true) - 1``\n",
    "\n",
    "**Energy bias** as the ``mean of x``, also in bins of true energy.We plot the **bias** as the ``mean of (Erec/Etrue-1)``, also in bins of true energy.\n",
    "\n",
    "**Energy resolution** is here calculated in bins of true energy\n",
    "- as the ``68%-quantile of the distribution of abs(x)``. \n",
    "\n",
    "Note that by using this definition, any possible reconstruction bias is \"absorbed\" in the resolution.\n",
    "\n",
    "- as the same quantity, but bias-corrected as ``68%-quantile of the distribution of abs(x - bias)``"
   ]
  },
  {
   "cell_type": "code",
   "execution_count": null,
   "metadata": {},
   "outputs": [],
   "source": [
    "resolution = binned_statistic(np.log10(true_energy),\n",
    "                          reco_energy/true_energy - 1,\n",
    "                          statistic = lambda x: np.percentile(np.abs(x), 68),\n",
    "                          bins=bin_edges_x)\n",
    "\n",
    "corr_resolution_mean = binned_statistic(np.log10(true_energy),\n",
    "                              reco_energy/true_energy - 1,\n",
    "                              statistic = lambda x: np.percentile(np.abs(x-np.mean(x)), 68),\n",
    "                              bins=bin_edges_x)\n",
    "\n",
    "corr_resolution_median = binned_statistic(np.log10(true_energy),\n",
    "                              reco_energy/true_energy - 1,\n",
    "                              statistic = lambda x: np.percentile(np.abs(x-np.median(x)), 68),\n",
    "                              bins=bin_edges_x)\n",
    "\n",
    "bias_mean = binned_statistic(np.log10(true_energy), \n",
    "                    reco_energy/true_energy - 1, \n",
    "                    statistic=\"mean\", \n",
    "                    bins=bin_edges_x)\n",
    "\n",
    "bias_median = binned_statistic(np.log10(true_energy), \n",
    "                    reco_energy/true_energy - 1, \n",
    "                    statistic=\"median\", \n",
    "                    bins=bin_edges_x)"
   ]
  },
  {
   "cell_type": "code",
   "execution_count": null,
   "metadata": {},
   "outputs": [],
   "source": [
    "fig = plt.figure(figsize=get_fig_size(ratio=4/3., scale=scale))\n",
    "\n",
    "if load_CTAMARS:\n",
    "    \n",
    "    res = plt.plot(bin_centers_x, resolution[0], label=\"protopipe resolution (bias included)\")\n",
    "    resolution_color = res[0].get_color()\n",
    "    plt.plot(bin_centers_x, corr_resolution_mean[0], label=\"protopipe resolution (bias mean corrected)\", color=resolution_color, ls = \"dotted\")\n",
    "    plt.plot(bin_centers_x, corr_resolution_median[0], label=\"protopipe resolution (bias median corrected)\", color=resolution_color, ls=\"dashed\")\n",
    "    \n",
    "    plt.plot(bin_centers_x, CTAMARS_Eres.members[\"fY\"], label=input_data_CTAMARS[\"label\"])\n",
    "    \n",
    "    plt.grid(which=\"both\", axis=\"both\")\n",
    "    plt.xlabel('log10(true energy) [TeV]')\n",
    "    plt.ylabel('Energy resolution')\n",
    "    plt.xlim(-2.1, 2.1)\n",
    "    plt.ylim(-0.2, 1.0)\n",
    "    plt.legend(loc=\"best\")\n",
    "    plt.grid(which=\"both\", visible=True)\n",
    "\n",
    "    plt.savefig(plots_folder / f\"energy_resolution_bias_CTAMARS_comparison_protopipe_{analysis_name}.png\")\n",
    "    None # to remove clutter by mpl objects\n",
    "\n",
    "else:\n",
    "    res = plt.plot(bin_centers_x, resolution[0], label=\"resolution (bias included)\")\n",
    "\n",
    "    resolution_color = res[0].get_color()\n",
    "    plt.plot(bin_centers_x, corr_resolution_mean[0], label=\"resolution (bias mean corrected)\", color=resolution_color, ls = \"dotted\")\n",
    "    plt.plot(bin_centers_x, corr_resolution_median[0], label=\"resolution (bias median corrected)\", color=resolution_color, ls=\"dashed\")\n",
    "\n",
    "plt.legend()\n",
    "plt.grid(which=\"both\", visible=True)\n",
    "plt.ylim(-0.2, 1.0)\n",
    "plt.xlim(np.log10(0.0125), np.log10(125))\n",
    "plt.xlabel('log10(true energy) [TeV]')\n",
    "\n",
    "plt.savefig(plots_folder / f\"energy_resolution_protopipe_{analysis_name}.png\")\n",
    "None # to remove clutter by mpl objects"
   ]
  },
  {
   "cell_type": "code",
   "execution_count": null,
   "metadata": {},
   "outputs": [],
   "source": [
    "fig = plt.figure(figsize=get_fig_size(ratio=4/3., scale=scale))\n",
    "\n",
    "plt.plot(bin_centers_x, bias_mean[0], label=\"bias (mean)\")\n",
    "plt.plot(bin_centers_x, bias_median[0], label=\"bias (median)\")\n",
    "plt.legend()\n",
    "plt.grid(which=\"both\", visible=True)\n",
    "plt.ylim(-0.5, 1.0)\n",
    "plt.xlim(np.log10(0.0125), np.log10(125))\n",
    "plt.xlabel('log10(true energy) [TeV]')\n",
    "\n",
    "plt.savefig(plots_folder / f\"energy_bias_protopipe_{analysis_name}.png\")\n",
    "None # to remove clutter by mpl objects"
   ]
  },
  {
   "cell_type": "markdown",
   "metadata": {},
   "source": [
    "Now we can superimpose these benchmarks to the normalized energy dispersion around 1.  \n",
    "The error bars correspond to the bias-corrected resolution."
   ]
  },
  {
   "cell_type": "code",
   "execution_count": null,
   "metadata": {},
   "outputs": [],
   "source": [
    "plt.figure(figsize=(10,7))\n",
    "\n",
    "h, _, _ = np.histogram2d(np.log10(true_energy),\n",
    "                         (reco_energy/true_energy) -1,\n",
    "                         bins=[bin_edges_x, bin_edges_y])\n",
    "# normalize y-axis so to get a max probability of 1 within 1 bin in true energy\n",
    "h = h/np.sum(h, axis=1)[np.newaxis].T\n",
    "# re-plot\n",
    "plt.pcolormesh(bin_edges_x, bin_edges_y, h.T, cmap=cmap)\n",
    "\n",
    "\n",
    "corr_resolution = binned_statistic(np.log10(true_energy),\n",
    "                                  (reco_energy/true_energy) -1,\n",
    "                                  statistic = lambda x: np.percentile(np.abs(x-np.mean(x)), 68),\n",
    "                                  bins=bin_edges_x)\n",
    "\n",
    "bias = binned_statistic(np.log10(true_energy), \n",
    "                        (reco_energy/true_energy) -1, \n",
    "                        statistic=\"mean\", \n",
    "                        bins=bin_edges_x)\n",
    "\n",
    "plt.errorbar(x = bin_centers_x,\n",
    "             y = bias[0],\n",
    "             xerr = np.diff(bin_edges_x)/2,\n",
    "             yerr = corr_resolution[0],\n",
    "             ls=\"none\",\n",
    "             fmt = \"o\",\n",
    "            color=\"black\")\n",
    "\n",
    "plt.vlines(np.log10(0.03),\n",
    "           plt.gca().get_ylim()[0],\n",
    "           plt.gca().get_ylim()[1],\n",
    "           ls=\"--\",\n",
    "           lw=2.5,\n",
    "           color=\"magenta\",\n",
    "           label=\"30 GeV\")\n",
    "\n",
    "plt.grid(which=\"both\", axis=\"both\")\n",
    "plt.colorbar(label='Counts')\n",
    "plt.xlabel('log10(true energy) [TeV]')\n",
    "plt.ylabel('reco / true - 1')\n",
    "plt.legend()\n",
    "\n",
    "plt.savefig(plots_folder / f\"energy_resolution_bias_over_normalized_dispersion_to_classification_protopipe_{analysis_name}.png\")\n",
    "\n",
    "None # to remove clutter by mpl objects"
   ]
  },
  {
   "cell_type": "markdown",
   "metadata": {},
   "source": [
    "## Migration energy matrix\n",
    "[back to top](#Table-of-contents)"
   ]
  },
  {
   "cell_type": "code",
   "execution_count": null,
   "metadata": {},
   "outputs": [],
   "source": [
    "plt.figure(figsize=(10,8))\n",
    "\n",
    "bin_edges = np.linspace(-2,2,200)\n",
    "\n",
    "plt.hist2d(np.log10(reco_energy),\n",
    "           np.log10(true_energy),\n",
    "           bins=[bin_edges, bin_edges],\n",
    "           norm=LogNorm(),\n",
    "           cmap=cmap)\n",
    "plt.plot(bin_edges, bin_edges, color=\"red\")\n",
    "plt.grid(which=\"both\", axis=\"both\")\n",
    "plt.colorbar(label='Counts', ax=plt.gca())\n",
    "\n",
    "plt.xlabel('log10(true energy) [TeV]')\n",
    "plt.ylabel('log10(reco energy) [TeV]')\n",
    "\n",
    "plt.savefig(plots_folder / f\"migration_energy_matrix_to_classification_protopipe_{analysis_name}.png\")\n",
    "\n",
    "None # to remove clutter by mpl objects"
   ]
  },
  {
   "cell_type": "code",
   "execution_count": null,
   "metadata": {},
   "outputs": [],
   "source": []
  }
 ],
 "metadata": {
  "kernelspec": {
   "display_name": "Python 3 (ipykernel)",
   "language": "python",
   "name": "python3"
  },
  "language_info": {
   "codemirror_mode": {
    "name": "ipython",
    "version": 3
   },
   "file_extension": ".py",
   "mimetype": "text/x-python",
   "name": "python",
   "nbconvert_exporter": "python",
   "pygments_lexer": "ipython3",
   "version": "3.8.12"
  }
 },
 "nbformat": 4,
 "nbformat_minor": 4
}
