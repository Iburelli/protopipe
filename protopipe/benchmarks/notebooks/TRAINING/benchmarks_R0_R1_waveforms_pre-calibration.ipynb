{
 "cells": [
  {
   "cell_type": "markdown",
   "id": "5c7c47de-340d-4ab8-8585-a848d80a4166",
   "metadata": {},
   "source": [
    "# Raw and pre-calibrated data"
   ]
  },
  {
   "cell_type": "markdown",
   "id": "e430339c-88b5-4179-9ff9-22b561476544",
   "metadata": {},
   "source": [
    "**WARNING** work in progress"
   ]
  },
  {
   "cell_type": "markdown",
   "id": "4db6ace9-f19b-4695-acb8-1ea1ee7ca9ae",
   "metadata": {},
   "source": [
    "**Author:** Dr. Michele Peresano (CEA-Saclay/IRFU/DAp/LEPCHE), 2021\n",
    "\n",
    "**Recommended datasample(s):** any simtel file (currently tested on Prod5b)\n",
    "\n",
    "**Data level(s):** R0 and/or R1\n",
    "\n",
    "**Description:**\n",
    "\n",
    "This notebook provides benchmarks for R0 and R1 data levels, meaning waveforms and pre-calibrated, gain-selected waveforms respectively.\n",
    "It also extracts distributions for quantities used in the pre-calibration process, e.g. digital counts to photoelectron factor and pedestals.\n",
    "\n",
    "All benchmarks are shown per-gain-channel.\n",
    "\n",
    "**Requirements and steps to reproduce:**\n",
    "\n",
    "This notebook requires **ctapipe > 0.11.0 (at the time of writing this means the master branch)**.\n",
    "\n",
    "`papermill benchmarks-TRAINING-calibration.ipynb results_benchmarks-TRAINING-calibration.ipynb`\n",
    "\n",
    "adding `-p parameter value` to override any of the available parameters, which can be listed with `--help-notebook`.\n",
    "\n",
    "**Development and testing:**  \n",
    "\n",
    "As with any other part of _protopipe_ and being part of the official repository, this notebook can be further developed by any interested contributor.  \n",
    "The execution of this notebook is not currently automatic, it must be done locally by the user _before_ pushing a pull-request.\n",
    "Please, strip the output before pushing."
   ]
  },
  {
   "cell_type": "markdown",
   "id": "9fb0fc8d-25de-4ef1-93c2-5dcbcb279929",
   "metadata": {},
   "source": [
    "## Table of contents\n",
    "\n",
    "- [DC to PHE](#DC-to-PHE)\n",
    "- [Pedestals](#Pedestals)\n",
    "- [Noise](#Noise)"
   ]
  },
  {
   "cell_type": "markdown",
   "id": "15e40d28-b494-475c-a087-f4600e282dc6",
   "metadata": {
    "nbsphinx": "hidden",
    "tags": [
     "remove_input"
    ]
   },
   "source": [
    "## Imports\n",
    "[back to top](#Table-of-contents)"
   ]
  },
  {
   "cell_type": "code",
   "execution_count": null,
   "id": "8cf39de0-05af-4c42-8a0c-a7d156391a7e",
   "metadata": {},
   "outputs": [],
   "source": [
    "from pathlib import Path\n",
    "\n",
    "import numpy as np\n",
    "import matplotlib.pyplot as plt\n",
    "from matplotlib.pyplot import rc\n",
    "import matplotlib.style as style\n",
    "from cycler import cycler\n",
    "\n",
    "from ctapipe.instrument import SubarrayDescription\n",
    "from ctapipe.io import EventSource\n",
    "\n",
    "from protopipe.benchmarks.utils import add_stats, get_fig_size\n",
    "from protopipe.benchmarks.operations import load_tel_id"
   ]
  },
  {
   "cell_type": "markdown",
   "id": "af42036f-2b15-4896-b50e-a389c417b0c4",
   "metadata": {
    "nbsphinx": "hidden",
    "tags": [
     "remove_input"
    ]
   },
   "source": [
    "## Input data\n",
    "[back to top](#Table-of-contents)"
   ]
  },
  {
   "cell_type": "code",
   "execution_count": null,
   "id": "f5626d02-ba6a-4f6a-b0d9-985e30a260cf",
   "metadata": {
    "tags": [
     "parameters"
    ]
   },
   "outputs": [],
   "source": [
    "# simtel file\n",
    "input_directory_simtel = Path(\"/Users/michele/Applications/ctasoft/dirac/shared_folder/productions/Prod5b/NSB1x/CTAN/az180/zd20\")\n",
    "input_file_name_simtel = \"gamma_20deg_180deg_run100___cta-prod5b-lapalma_desert-2158m-LaPalma-dark.simtel.zst\"\n",
    "# HDF5 file produced with ctapipe-process\n",
    "input_directory_h5 = \"/Users/michele/Applications/ctasoft/dirac/shared_folder/analyses/v0.5.0a1_Prod5b_LaPalma_zd20_az180_NSB1x_point_source/data/DL1a/LocalPeakWindowSum\"\n",
    "input_file_name_h5 = \"1stPass.dl1.h5\"\n",
    "# other\n",
    "max_events = 1 # number of showers to use\n",
    "allowed_telescopes = None # number of telescopes to condider (default: all telescopes)\n",
    "use_seaborn = True # see benchmarks.yaml\n",
    "plots_scale = None\n",
    "output_directory = Path.cwd() # default: current working directory"
   ]
  },
  {
   "cell_type": "code",
   "execution_count": null,
   "id": "a4aa6cae-0ad8-449b-9037-f5aa273c3c98",
   "metadata": {},
   "outputs": [],
   "source": [
    "[use_seaborn] = string_to_boolean([use_seaborn])"
   ]
  },
  {
   "cell_type": "code",
   "execution_count": null,
   "id": "c2fc467c-9cbb-4601-b95c-cbeeb2d290e8",
   "metadata": {},
   "outputs": [],
   "source": [
    "if input_directory_simtel:\n",
    "    input_directory_simtel = Path(input_directory_simtel)\n",
    "input_file_simtel = input_directory_simtel / input_file_name_simtel\n",
    "\n",
    "if input_directory_h5:\n",
    "    input_directory_h5 = Path(input_directory_h5)\n",
    "input_file_h5 = input_directory_h5 / input_file_name_h5"
   ]
  },
  {
   "cell_type": "code",
   "execution_count": null,
   "id": "005aeb30-bf8a-4f3a-89bb-7ec12840b691",
   "metadata": {},
   "outputs": [],
   "source": [
    "# First we check if a _plots_ folder exists already.  \n",
    "# If not, we create it.\n",
    "plots_folder = Path(output_directory) / \"plots\"\n",
    "plots_folder.mkdir(parents=True, exist_ok=True)"
   ]
  },
  {
   "cell_type": "code",
   "execution_count": null,
   "id": "dccb1a1c-22d2-472e-a131-6861dca08e9a",
   "metadata": {},
   "outputs": [],
   "source": [
    "# Plot aesthetics settings\n",
    "\n",
    "scale = matplotlib_settings[\"scale\"] if plots_scale is None else float(plots_scale)\n",
    "\n",
    "style.use(matplotlib_settings[\"style\"])\n",
    "cmap = matplotlib_settings[\"cmap\"]\n",
    "rc('font', size=matplotlib_settings[\"rc\"][\"font_size\"])\n",
    "\n",
    "if matplotlib_settings[\"style\"] == \"seaborn-colorblind\":\n",
    "    \n",
    "    # Change color order to have first ones more readable\n",
    "    colors_order = ['#0072B2', '#D55E00', '#009E73', '#CC79A7', '#56B4E9', '#F0E442']\n",
    "    rc('axes', prop_cycle=cycler(color=colors_order))\n",
    "\n",
    "if use_seaborn:\n",
    "    import seaborn as sns\n",
    "    \n",
    "    sns.set_theme(context=seaborn_settings[\"theme\"][\"context\"] if \"context\" in seaborn_settings[\"theme\"] else \"talk\",\n",
    "                  style=seaborn_settings[\"theme\"][\"style\"] if \"style\" in seaborn_settings[\"theme\"] else \"whitegrid\",\n",
    "                  palette=seaborn_settings[\"theme\"][\"palette\"] if \"palette\" in seaborn_settings[\"theme\"] else None,\n",
    "                  font=seaborn_settings[\"theme\"][\"font\"] if \"font\" in seaborn_settings[\"theme\"] else \"Fira Sans\",\n",
    "                  font_scale=seaborn_settings[\"theme\"][\"font_scale\"] if \"font_scale\" in seaborn_settings[\"theme\"] else 1.0,\n",
    "                  color_codes=seaborn_settings[\"theme\"][\"color_codes\"] if \"color_codes\" in seaborn_settings[\"theme\"] else True\n",
    "                  )\n",
    "    \n",
    "    sns.set_style(seaborn_settings[\"theme\"][\"style\"], rc=seaborn_settings[\"rc_style\"])\n",
    "    sns.set_context(seaborn_settings[\"theme\"][\"context\"],\n",
    "                    font_scale=seaborn_settings[\"theme\"][\"font_scale\"] if \"font_scale\" in seaborn_settings[\"theme\"] else 1.0)"
   ]
  },
  {
   "cell_type": "code",
   "execution_count": null,
   "id": "26a905d8-17c0-4091-af53-e473dbf06dcc",
   "metadata": {},
   "outputs": [],
   "source": [
    "source = EventSource(str(input_file_simtel), max_events=max_events)\n",
    "\n",
    "for event in source:\n",
    "    pass"
   ]
  },
  {
   "cell_type": "code",
   "execution_count": null,
   "id": "cac098c3-0640-4226-9ae1-2c6c3c66f93a",
   "metadata": {},
   "outputs": [],
   "source": [
    "r0_table, r1_table = load_tel_id(file_name = input_file_h5, tel_id = tel_id)"
   ]
  },
  {
   "cell_type": "code",
   "execution_count": null,
   "id": "02818127",
   "metadata": {},
   "outputs": [],
   "source": [
    "subarray = SubarrayDescription.from_hdf(input_file_h5)\n",
    "tel_types = {str(tel): tel.camera.geometry for tel in subarray.telescope_types}.keys()\n",
    "tel_ids_per_tel_type = {tel_type : subarray.get_tel_ids_for_type(tel_type) for tel_type in tel_types}"
   ]
  },
  {
   "cell_type": "markdown",
   "id": "6ed9f0a4-a6f1-4a0a-8d1c-5430f0152cda",
   "metadata": {},
   "source": [
    "## DC to PHE\n",
    "[back to top](#Table-of-contents)"
   ]
  },
  {
   "cell_type": "markdown",
   "id": "fad82ca9",
   "metadata": {},
   "source": [
    "Only the first telescope for each telescope type is considered."
   ]
  },
  {
   "cell_type": "code",
   "execution_count": null,
   "id": "00769ed5-ff13-4a41-a146-add2ace73179",
   "metadata": {},
   "outputs": [],
   "source": [
    "for tel_type in tel_types:\n",
    "    \n",
    "    plt.figure(figsize=get_fig_size(ratio=1., scale=scale)\n",
    "    plt.suptitle(tel_type)\n",
    "    \n",
    "    tel_id = tel_ids_per_tel_type[tel_type][0] # consider only the first telescope\n",
    "    dc_to_pe = source.file_.laser_calibrations[tel_id][\"calib\"]\n",
    "\n",
    "    for channel, dc_to_pe_per_channel in enumerate(dc_to_pe):\n",
    "        plt.subplot(1,2,channel+1)\n",
    "        plt.hist(dc_to_pe_per_channel)\n",
    "        plt.title(f\"channel {channel}\")\n",
    "        plt.xlabel(\"DC to PHE factor\")\n",
    "        plt.ylabel(\"Number of pixels\")\n",
    "        plt.grid(visible=True)\n",
    "        add_stats(dc_to_pe_per_channel, plt.gca(), x=0.62, y=0.90, fontsize=20)\n",
    "    \n",
    "    plt.show()"
   ]
  },
  {
   "cell_type": "markdown",
   "id": "720ff10c-760d-4f2b-9949-3107c96f954d",
   "metadata": {},
   "source": [
    "## Pedestals\n",
    "[back to top](#Table-of-contents)"
   ]
  },
  {
   "cell_type": "code",
   "execution_count": null,
   "id": "1258315e-b121-42ad-b391-572c3456a4d3",
   "metadata": {},
   "outputs": [],
   "source": [
    "for tel_type in tel_types:\n",
    "    \n",
    "    plt.figure(figsize=get_fig_size(ratio=1., scale=scale)\n",
    "    plt.suptitle(tel_type)\n",
    "    \n",
    "    tel_id = tel_ids_per_tel_type[tel_type][0] # consider only the first telescope\n",
    "\n",
    "    pedestals = source.file_.camera_monitorings[tel_id]['pedestal']\n",
    "    \n",
    "    for channel, pedestals_per_channel in enumerate(pedestals):\n",
    "        print(pedestals_per_channel.mean())\n",
    "        plt.subplot(1,2,channel+1)\n",
    "        plt.hist(pedestals_per_channel)\n",
    "        plt.title(f\"channel {channel}\")\n",
    "        plt.xlabel(\"Pedestals\")\n",
    "        plt.ylabel(\"Number of pixels\")\n",
    "        plt.grid(visible=True)\n",
    "        add_stats(pedestals_per_channel, plt.gca(), x=0.01, y=0.90, fontsize=15)\n",
    "    \n",
    "    plt.show()"
   ]
  },
  {
   "cell_type": "markdown",
   "id": "f47f7a29-9d8f-4a57-8552-33f8d3495dc6",
   "metadata": {},
   "source": [
    "## Noise\n",
    "[back to top](#Table-of-contents)"
   ]
  },
  {
   "cell_type": "code",
   "execution_count": null,
   "id": "67a3f3c2-18fc-40ac-ad0b-4d0c03804e15",
   "metadata": {},
   "outputs": [],
   "source": [
    "for tel_type in tel_types:\n",
    "    \n",
    "    tel_id = tel_ids_per_tel_type[tel_type][0] # consider only the first telescope\n",
    "    noise = source.file_.camera_monitorings[tel_id]['noise']\n",
    "\n",
    "    if np.all(noise[0] == noise[0][0]) and np.all(noise[1] == noise[1][0]):\n",
    "        for channel, noise_per_channel in enumerate(noise):\n",
    "            print(f\"Telescope type: {tel_type}, Channel {channel}, Noise: {noise_per_channel[0]} phe\")\n",
    "    else:\n",
    "        plt.figure(figsize=get_fig_size(ratio=1., scale=scale)\n",
    "        plt.suptitle(tel_type)\n",
    "        for channel, noise_per_channel in enumerate(noise):\n",
    "            plt.subplot(1,2,channel+1)\n",
    "            plt.hist(noise_per_channel, bins=100)\n",
    "            plt.title(f\"channel {channel}\")\n",
    "            plt.xlabel(\"Noise\")\n",
    "            plt.ylabel(\"Number of pixels\")\n",
    "            plt.grid(visible=True)\n",
    "        plt.show()"
   ]
  },
  {
   "cell_type": "markdown",
   "id": "8c2c18a3-10de-4ee2-aa6c-432ab51c647b",
   "metadata": {},
   "source": [
    "## Reference pulse shapes"
   ]
  },
  {
   "cell_type": "code",
   "execution_count": null,
   "id": "aa39bd0c-d29c-4d36-b187-dd82ec123d15",
   "metadata": {},
   "outputs": [],
   "source": [
    "for camera_type in subarray.camera_types:\n",
    "    \n",
    "    plt.figure(figsize=get_fig_size(ratio=0.5, scale=scale)\n",
    "    plt.title(camera_type.camera_name)\n",
    "    \n",
    "    reference_pulse_shapes = camera_type.readout.reference_pulse_shape\n",
    "    \n",
    "    for channel, reference_pulse_shape in enumerate(reference_pulse_shapes):\n",
    "        \n",
    "        plt.plot(np.arange(0,len(reference_pulse_shape)), reference_pulse_shape, label=f\"Channel {channel}\")\n",
    "        plt.legend()\n",
    "plt.show()"
   ]
  }
 ],
 "metadata": {
  "kernelspec": {
   "display_name": "Python 3 (ipykernel)",
   "language": "python",
   "name": "python3"
  },
  "language_info": {
   "codemirror_mode": {
    "name": "ipython",
    "version": 3
   },
   "file_extension": ".py",
   "mimetype": "text/x-python",
   "name": "python",
   "nbconvert_exporter": "python",
   "pygments_lexer": "ipython3",
   "version": "3.8.12"
  }
 },
 "nbformat": 4,
 "nbformat_minor": 5
}
