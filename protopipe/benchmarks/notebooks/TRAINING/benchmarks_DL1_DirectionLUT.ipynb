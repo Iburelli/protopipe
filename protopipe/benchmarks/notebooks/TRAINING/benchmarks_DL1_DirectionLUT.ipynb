{
 "cells": [
  {
   "cell_type": "code",
   "execution_count": null,
   "id": "second-ranking",
   "metadata": {},
   "outputs": [],
   "source": [
    "# Remove input cells at runtime (nbsphinx)\n",
    "import IPython.core.display as d\n",
    "d.display_html('<script>jQuery(function() {if (jQuery(\"body.notebook_app\").length == 0) { jQuery(\".input_area\").toggle(); jQuery(\".prompt\").toggle();}});</script>', raw=True)"
   ]
  },
  {
   "cell_type": "markdown",
   "id": "choice-regard",
   "metadata": {},
   "source": [
    "# Direction Look-Up-Tables (LUTs)"
   ]
  },
  {
   "cell_type": "markdown",
   "id": "decimal-wiring",
   "metadata": {},
   "source": [
    "**Recommended datasample(s):** ``gamma-1`` (dataset used to build the energy model)\n",
    "\n",
    "**Data level(s):** DL1b (telescope-wise image parameters)\n",
    "\n",
    "**Description:**\n",
    "\n",
    "To obtain an estimate for an image, given its intensity, width and length, how reliable its axis is as a measure of the shower axis' orientation.  \n",
    "The values from the LUTs can be used to set relative weights for the different telescopes in the stereoscopic reconstruction of events with three or more valid images.\n",
    "\n",
    "The approach used here is the following:\n",
    "\n",
    "- calculate for each image the miss parameter, aka the distance from the image axis to the point on the camera which corresponds to the true gamma-ray direction\n",
    "\n",
    "- build a LUT per telescope type, containing in bins of image intensity and width/length, the square of \\<miss>.\n",
    "\n",
    "**Requirements and steps to reproduce:**\n",
    "\n",
    "This notebook requires a TRAINING file generated using ``protopipe-TRAINING``.  \n",
    "The data format required to run the notebook is the current one used by _protopipe_ .\n",
    "\n",
    "To get a filled notebook and reproduce these results,\n",
    "\n",
    "- get the necessary input files using ``protopipe-TRAINING`` (see documentation)\n",
    "- execute the notebook with ``protopipe-BENCHMARK``,\n",
    "\n",
    "``protopipe-BENCHMARK launch --config_file configs/benchmarks.yaml -n TRAINING/benchmarks_DL1_DirectionLUT``\n",
    "\n",
    "To obtain the list of all available parameters add ``--help-notebook``.\n",
    "\n",
    "**Comparison against CTAMARS:**\n",
    "\n",
    "- the input file needs to be a merged TRAINING file from the ``gamma-1`` sample\n",
    "- reference simtel-files, plots, values and settings can be found [here (please, always refer to the latest version)](https://forge.in2p3.fr/projects/benchmarks-reference-analysis/wiki/Comparisons_between_pipelines).\n",
    "\n",
    "**Development and testing:**  \n",
    "\n",
    "As with any other part of _protopipe_ and being part of the official repository, this notebook can be further developed by any interested contributor.   \n",
    "The execution of this notebook is not currently automatic, it must be done locally by the user _before_ pushing a pull-request.  \n",
    "Please, strip the output before pushing."
   ]
  },
  {
   "cell_type": "markdown",
   "id": "coordinate-optimum",
   "metadata": {},
   "source": [
    "## Table of contents\n",
    "- [Counts](#Counts)\n",
    "- [Counts ratio between protopipe and CTAMARS](#Count-ratio-between-protopipe-and-CTAMARS)\n",
    "- [Direction LUT](#Direction-LUT)\n",
    "- [Direction LUT comparisons between protopipe and CTAMARS](#Direction-LUT-ratio-between-protopipe-and-CTAMARS)\n",
    "  - [Profile along Y-axis (width/length)](#Profile-along-Y-axis-(width/length))\n",
    "  - [Ratio between the LUTs](#Ratio-between-the-LUTs)"
   ]
  },
  {
   "cell_type": "markdown",
   "id": "greater-indian",
   "metadata": {
    "nbsphinx": "hidden",
    "tags": [
     "remove_input"
    ]
   },
   "source": [
    "## Imports"
   ]
  },
  {
   "cell_type": "code",
   "execution_count": null,
   "id": "arranged-filename",
   "metadata": {},
   "outputs": [],
   "source": [
    "from pathlib import Path\n",
    "import warnings\n",
    "\n",
    "def fxn():\n",
    "    warnings.warn(\"runtime\", RuntimeWarning)\n",
    "\n",
    "import numpy as np\n",
    "from scipy.stats import binned_statistic_2d\n",
    "import pandas\n",
    "import tables\n",
    "import uproot\n",
    "import matplotlib.pyplot as plt\n",
    "from matplotlib.colors import LogNorm\n",
    "from matplotlib.pyplot import rc\n",
    "import matplotlib.style as style\n",
    "from cycler import cycler\n",
    "\n",
    "from ctapipe.image import camera_to_shower_coordinates\n",
    "\n",
    "from protopipe.pipeline.io import get_camera_names, read_protopipe_TRAINING_per_tel_type\n",
    "from protopipe.benchmarks.utils import raise_, string_to_boolean"
   ]
  },
  {
   "cell_type": "markdown",
   "id": "mighty-worth",
   "metadata": {
    "nbsphinx": "hidden",
    "tags": [
     "remove_input"
    ]
   },
   "source": [
    "## Input data"
   ]
  },
  {
   "cell_type": "code",
   "execution_count": null,
   "id": "8d451c2b",
   "metadata": {
    "tags": [
     "parameters"
    ]
   },
   "outputs": [],
   "source": [
    "# Parametrized cell\n",
    "# Modify these variables according to your local setup outside of the container\n",
    "analyses_directory = \"/Users/michele/Applications/ctasoft/dirac/shared_folder/analyses\" # path to all analyses \n",
    "output_directory = Path.cwd() # default output directory for plots\n",
    "analysis_name = \"test\"\n",
    "load_CTAMARS = True\n",
    "CTAMARS_input_directory = None # Path to DL1 CTAMARS data (if load_CTAMARS is True)"
   ]
  },
  {
   "cell_type": "code",
   "execution_count": null,
   "id": "022e5d50-9ccd-4187-b8a0-fc312b5ea99d",
   "metadata": {},
   "outputs": [],
   "source": [
    "# Handle boolean variables (papermill reads them as strings)\n",
    "[load_CTAMARS,\n",
    " use_seaborn] = string_to_boolean([load_CTAMARS, \n",
    "                                   use_seaborn])"
   ]
  },
  {
   "cell_type": "code",
   "execution_count": null,
   "id": "7268f56c",
   "metadata": {},
   "outputs": [],
   "source": [
    "# First we check if a _plots_ folder exists already.  \n",
    "# If not, we create it.\n",
    "plots_folder = Path(output_directory) / \"plots\"\n",
    "plots_folder.mkdir(parents=True, exist_ok=True)"
   ]
  },
  {
   "cell_type": "code",
   "execution_count": null,
   "id": "1fba7899-2800-430a-a821-294ce00a0cab",
   "metadata": {},
   "outputs": [],
   "source": [
    "# Plot aesthetics settings\n",
    "\n",
    "scale = matplotlib_settings[\"scale\"] if plots_scale is None else float(plots_scale)\n",
    "\n",
    "style.use(matplotlib_settings[\"style\"])\n",
    "cmap = matplotlib_settings[\"cmap\"]\n",
    "\n",
    "if matplotlib_settings[\"style\"] == \"seaborn-colorblind\":\n",
    "    \n",
    "    colors_order = ['#0072B2', '#D55E00', '#F0E442', '#009E73', '#CC79A7', '#56B4E9']\n",
    "    rc('axes', prop_cycle=cycler(color=colors_order))\n",
    "\n",
    "if use_seaborn:\n",
    "    import seaborn as sns\n",
    "\n",
    "    sns.set_theme(context=seaborn_settings[\"theme\"][\"context\"] if \"context\" in seaborn_settings[\"theme\"] else \"talk\",\n",
    "                  style=seaborn_settings[\"theme\"][\"style\"] if \"style\" in seaborn_settings[\"theme\"] else \"whitegrid\",\n",
    "                  palette=seaborn_settings[\"theme\"][\"palette\"] if \"palette\" in seaborn_settings[\"theme\"] else None,\n",
    "                  font=seaborn_settings[\"theme\"][\"font\"] if \"font\" in seaborn_settings[\"theme\"] else \"Fira Sans\",\n",
    "                  font_scale=seaborn_settings[\"theme\"][\"font_scale\"] if \"font_scale\" in seaborn_settings[\"theme\"] else 1.0,\n",
    "                  color_codes=seaborn_settings[\"theme\"][\"color_codes\"] if \"color_codes\" in seaborn_settings[\"theme\"] else True\n",
    "                  )\n",
    "    \n",
    "    sns.set_style(seaborn_settings[\"theme\"][\"style\"], rc=seaborn_settings[\"rc_style\"])\n",
    "    sns.set_context(seaborn_settings[\"theme\"][\"context\"],\n",
    "                    font_scale=seaborn_settings[\"theme\"][\"font_scale\"] if \"font_scale\" in seaborn_settings[\"theme\"] else 1.0)"
   ]
  },
  {
   "cell_type": "markdown",
   "id": "german-boards",
   "metadata": {
    "nbsphinx": "hidden",
    "tags": [
     "remove_input"
    ]
   },
   "source": [
    "### CTAMARS"
   ]
  },
  {
   "cell_type": "code",
   "execution_count": null,
   "id": "aging-belize",
   "metadata": {},
   "outputs": [],
   "source": [
    "if load_CTAMARS:\n",
    "    # Get input file path\n",
    "    if not CTAMARS_input_directory:\n",
    "        try:\n",
    "            indir_CTAMARS = Path(input_data_CTAMARS[\"parent_directory\"]) / Path(input_data_CTAMARS[\"TRAINING/DL1\"])\n",
    "        except (NameError, KeyError):\n",
    "            print(\"WARNING: CTAMARS data undefined! Please, check the documentation of protopipe-BENCHMARKS.\")\n",
    "\n",
    "    filename_CTAMARS = \"DirLUT.root\"\n",
    "    filepath_CTAMARS = Path(indir_CTAMARS) / filename_CTAMARS\n",
    "\n",
    "    CTAMARS_cameras = [\"LSTCam\", \"NectarCam\"]\n",
    "    CTAMARS_histograms = [\"DirLookupTable\", \"DirLookupTable_degrees\", \"DirEventStatistics\"]\n",
    "\n",
    "    CTAMARS = dict.fromkeys(CTAMARS_cameras)\n",
    "\n",
    "    with uproot.open(filepath_CTAMARS) as infile_CTAMARS:\n",
    "\n",
    "        for camera_index in range(len(CTAMARS_cameras)):\n",
    "\n",
    "            CTAMARS[CTAMARS_cameras[camera_index]] = dict.fromkeys(CTAMARS_histograms)\n",
    "\n",
    "            CTAMARS[CTAMARS_cameras[camera_index]][f\"DirLookupTable\"] = infile_CTAMARS[f\"DirLookupTable_type{camera_index}\"]\n",
    "            CTAMARS[CTAMARS_cameras[camera_index]][f\"DirLookupTable_degrees\"] = infile_CTAMARS[f\"DirLookupTable_degrees_type{camera_index}\"]\n",
    "            CTAMARS[CTAMARS_cameras[camera_index]][f\"DirEventStatistics\"] = infile_CTAMARS[f\"DirEventStatistics_type{camera_index}\"]\n",
    "\n",
    "    CTAMARS_X_edges = CTAMARS[\"LSTCam\"][\"DirLookupTable\"].axes[0].edges()\n",
    "    CTAMARS_Y_edges = CTAMARS[\"LSTCam\"][\"DirLookupTable\"].axes[1].edges()\n",
    "else:\n",
    "    CTAMARS_X_edges = np.linspace(0,6,100)\n",
    "    CTAMARS_Y_edges = np.linspace(0,1,100)"
   ]
  },
  {
   "cell_type": "markdown",
   "id": "canadian-dover",
   "metadata": {
    "nbsphinx": "hidden",
    "tags": [
     "remove_input"
    ]
   },
   "source": [
    "### Protopipe"
   ]
  },
  {
   "cell_type": "code",
   "execution_count": null,
   "id": "available-reserve",
   "metadata": {},
   "outputs": [],
   "source": [
    "input_directory = Path(analyses_directory) / analysis_name / Path(\"data/TRAINING/for_energy_estimation/gamma\")\n",
    "\n",
    "try:\n",
    "    input_filename = input_filenames[\"TRAINING_energy_gamma\"]\n",
    "except (NameError, KeyError):\n",
    "    input_filename = \"TRAINING_energy_tail_gamma_merged.h5\"\n",
    "\n",
    "cameras = get_camera_names(input_directory = input_directory, file_name = input_filename)\n",
    "data = read_protopipe_TRAINING_per_tel_type(input_directory = input_directory, file_name = input_filename, camera_names=cameras) "
   ]
  },
  {
   "cell_type": "code",
   "execution_count": null,
   "id": "965a5a59",
   "metadata": {},
   "outputs": [],
   "source": [
    "PROTOPIPE = {}\n",
    "if load_CTAMARS:\n",
    "    \n",
    "    for camera in cameras:\n",
    "        PROTOPIPE[camera] = data[camera].query(\"image_extraction == 1\").copy()\n",
    "    \n",
    "else:\n",
    "    \n",
    "    for camera in cameras:\n",
    "        PROTOPIPE[camera] = data[camera]"
   ]
  },
  {
   "cell_type": "markdown",
   "id": "white-transcription",
   "metadata": {},
   "source": [
    "- ``miss`` is here defined as the absolute value of the component transverse to the main shower axis of the distance between the true source position (0,0 in case of on-axis simulation) and the COG of the cleaned image,\n",
    "- it is calculated for ALL images of the gamma1 sample and added to the tables for each camera,\n",
    "- then we select only images for which miss < 1.0 deg in each camera"
   ]
  },
  {
   "cell_type": "code",
   "execution_count": null,
   "id": "alleged-lafayette",
   "metadata": {},
   "outputs": [],
   "source": [
    "PROTOPIPE_selected = {}\n",
    "\n",
    "for camera in cameras:\n",
    "    \n",
    "    hillas_x = PROTOPIPE[camera][\"hillas_x\"]\n",
    "    hillas_y = PROTOPIPE[camera][\"hillas_y\"]\n",
    "    hillas_psi = PROTOPIPE[camera][\"hillas_psi\"]\n",
    "    \n",
    "    # Components of the distance between center of the camera (for on-axis simulations) and reconstructed position of the image\n",
    "    longitudinal, transverse = camera_to_shower_coordinates(x     = 0.,\n",
    "                                                            y     = 0., \n",
    "                                                            cog_x = hillas_x, \n",
    "                                                            cog_y = hillas_y, \n",
    "                                                            psi   = np.deg2rad(hillas_psi))\n",
    "    \n",
    "    # Take the absolute value of the transverse component\n",
    "    # Add miss to the dataframe\n",
    "    PROTOPIPE[camera][\"miss\"] = np.abs(transverse)\n",
    "    \n",
    "    # miss < 1 deg\n",
    "    mask = PROTOPIPE[camera][\"miss\"] < 1.0\n",
    "    \n",
    "    # Make a smaller dataframe with just what we actually need and select for miss < 1 deg\n",
    "    PROTOPIPE_selected[camera] = PROTOPIPE[camera][['hillas_intensity', 'hillas_width', 'hillas_length', 'miss']].copy()\n",
    "    PROTOPIPE_selected[camera] = PROTOPIPE_selected[camera][mask]"
   ]
  },
  {
   "cell_type": "markdown",
   "id": "dried-combining",
   "metadata": {},
   "source": [
    "## Counts\n",
    "[back to top](#Table-of-contents)"
   ]
  },
  {
   "cell_type": "markdown",
   "id": "detected-seating",
   "metadata": {},
   "source": [
    "This is just the 2D grid that will host the LUT, showing how many events fall in each bin.\n",
    "\n",
    "In CTAMARS an additional image quality cut for direction reconstruction selects for images that fall in a bin which contains >10 images"
   ]
  },
  {
   "cell_type": "code",
   "execution_count": null,
   "id": "retained-module",
   "metadata": {},
   "outputs": [],
   "source": [
    "fig = plt.figure(figsize=(12, 5))\n",
    "plt.subplots_adjust(wspace = 0.25)\n",
    "\n",
    "PROTOPIPE_COUNTS = {}\n",
    "\n",
    "for i, camera in enumerate(cameras):\n",
    "    \n",
    "    plt.subplot(1, 2, i+1)\n",
    "    \n",
    "    intensity = PROTOPIPE_selected[camera][\"hillas_intensity\"]\n",
    "    width     = PROTOPIPE_selected[camera][\"hillas_width\"]\n",
    "    length    = PROTOPIPE_selected[camera][\"hillas_length\"]\n",
    "\n",
    "    PROTOPIPE_COUNTS[camera], _, _, _ = plt.hist2d(x = np.log10(intensity),\n",
    "                                                   y = width / length,\n",
    "                                                   bins = [CTAMARS_X_edges, CTAMARS_Y_edges],\n",
    "                                                   norm = LogNorm(vmin=1.0, vmax=1.e6),\n",
    "                                                   cmap = \"rainbow\")\n",
    "    \n",
    "    plt.title(camera)\n",
    "    cb = plt.colorbar()\n",
    "    cb.set_label(\"Number of images\")\n",
    "    plt.xlabel(\"log10(intensity) [phe]\")\n",
    "    plt.ylabel(\"width / length\")\n",
    "    \n",
    "    plt.savefig(plots_folder / f\"DirectionLUT_counts_{camera}_protopipe_{analysis_name}.png\")\n",
    "\n",
    "plt.show()    "
   ]
  },
  {
   "cell_type": "markdown",
   "id": "weekly-quality",
   "metadata": {},
   "source": [
    "## Counts ratio between protopipe and CTAMARS\n",
    "[back to top](#Table-of-contents)"
   ]
  },
  {
   "cell_type": "code",
   "execution_count": null,
   "id": "seven-subscription",
   "metadata": {},
   "outputs": [],
   "source": [
    "if load_CTAMARS:\n",
    "\n",
    "    fig = plt.figure(figsize=(15, 7))\n",
    "    plt.subplots_adjust(wspace = 0.4)\n",
    "    font_size = 20\n",
    "\n",
    "    for i, camera in enumerate(cameras):\n",
    "\n",
    "        with warnings.catch_warnings():\n",
    "            warnings.simplefilter(\"ignore\")\n",
    "            fxn()\n",
    "            RATIO = PROTOPIPE_COUNTS[camera]/CTAMARS[camera][\"DirEventStatistics\"].values()\n",
    "\n",
    "        plt.subplot(1, 2, i+1)\n",
    "\n",
    "        with warnings.catch_warnings():\n",
    "            warnings.simplefilter(\"ignore\")\n",
    "            fxn()\n",
    "            plt.pcolormesh(CTAMARS_X_edges,\n",
    "                           CTAMARS_Y_edges,\n",
    "                           np.transpose(PROTOPIPE_COUNTS[camera]/CTAMARS[camera][\"DirEventStatistics\"].values()),\n",
    "                           #norm = LogNorm(vmin=1.e-1, vmax=3)\n",
    "                           vmin=0, vmax=3\n",
    "                           )\n",
    "\n",
    "        # add value labels for better visualization\n",
    "        for i, x in enumerate(CTAMARS[camera][\"DirLookupTable_degrees\"].axes[0].centers()):\n",
    "            for j, y in enumerate(CTAMARS[camera][\"DirLookupTable_degrees\"].axes[1].centers()):\n",
    "                plt.text(x,\n",
    "                         y,\n",
    "                         np.round(RATIO[i][j], 1),\n",
    "                         ha='center',va='center',\n",
    "                         size=10,color='b')\n",
    "\n",
    "        plt.title(camera, fontsize=font_size)\n",
    "        ax = plt.gca()\n",
    "        cb = plt.colorbar()\n",
    "        cb.set_label(\"Counts ratio protopipe/CTAMARS\", fontsize=font_size)\n",
    "        ax.tick_params(axis='both', which='major', labelsize=font_size)\n",
    "        ax.tick_params(axis='both', which='minor', labelsize=font_size)\n",
    "        plt.xlabel(\"log10(intensity) [phe]\", fontsize=font_size)\n",
    "        plt.ylabel(\"width / length\", fontsize=font_size)\n",
    "\n",
    "        plt.savefig(plots_folder / f\"DirectionLUT_counts_ratio_CTAMARS_{camera}_protopipe_{analysis_name}.png\")\n",
    "    plt.show()\n",
    "\n",
    "else:\n",
    "    print(\"CTAMARS reference data not provided.\")"
   ]
  },
  {
   "cell_type": "markdown",
   "id": "chubby-flower",
   "metadata": {},
   "source": [
    "## Direction LUT\n",
    "[back to top](#Table-of-contents)"
   ]
  },
  {
   "cell_type": "code",
   "execution_count": null,
   "id": "collect-figure",
   "metadata": {},
   "outputs": [],
   "source": [
    "# Build the LUT by using,\n",
    "\n",
    "#    - ``np.log10(intensity)`` as ``x`` axis,\n",
    "#    - ``width/length`` as ``y``axis,\n",
    "\n",
    "# For each 2D bin we calculate the ``mean of miss`` for the images which fall into that bin.\n",
    "\n",
    "mean_miss = {}\n",
    "\n",
    "for camera in cameras:\n",
    "    \n",
    "    intensity = PROTOPIPE_selected[camera][\"hillas_intensity\"]\n",
    "    width     = PROTOPIPE_selected[camera][\"hillas_width\"]\n",
    "    length    = PROTOPIPE_selected[camera][\"hillas_length\"]\n",
    "    miss      = PROTOPIPE_selected[camera][\"miss\"]\n",
    "    \n",
    "    mean_miss[camera], _, _, _ = binned_statistic_2d(x = np.log10(intensity), \n",
    "                                                     y = width/length, \n",
    "                                                     values = miss, \n",
    "                                                     statistic='mean', \n",
    "                                                     bins=[CTAMARS_X_edges, CTAMARS_Y_edges]\n",
    "                                                    )"
   ]
  },
  {
   "cell_type": "code",
   "execution_count": null,
   "id": "executed-titanium",
   "metadata": {},
   "outputs": [],
   "source": [
    "# After obtaining such a 2D binned statistic we square the value of each bin.\n",
    "# That is the final LUT\n",
    "\n",
    "LUT = {}\n",
    "\n",
    "for camera in cameras:\n",
    "    \n",
    "    LUT[camera] = np.square(mean_miss[camera])"
   ]
  },
  {
   "cell_type": "code",
   "execution_count": null,
   "id": "intelligent-profession",
   "metadata": {},
   "outputs": [],
   "source": [
    "fig = plt.figure(figsize=(12, 5))\n",
    "plt.subplots_adjust(wspace = 0.4)\n",
    "\n",
    "for i, camera in enumerate(cameras):\n",
    "    \n",
    "    plt.subplot(1, 2, i+1)\n",
    "    \n",
    "    plt.pcolormesh(CTAMARS_X_edges,\n",
    "                   CTAMARS_Y_edges,\n",
    "                   np.transpose( LUT[camera] ),\n",
    "                   norm = LogNorm(vmin = 1.e-4, vmax = 2.e-1),\n",
    "                   cmap = \"rainbow\"\n",
    "                  )\n",
    "    \n",
    "    plt.title(camera)\n",
    "    cb = plt.colorbar()\n",
    "    cb.set_label(\"<miss>**2\")\n",
    "    plt.xlabel(\"log10(intensity [phe])\")\n",
    "    plt.ylabel(\"width / length\")\n",
    "    plt.xlim(CTAMARS_X_edges[1], CTAMARS_X_edges[-2])\n",
    "    \n",
    "    plt.savefig(plots_folder / f\"DirectionLUT_{camera}_protopipe_{analysis_name}.png\")\n",
    "plt.show()"
   ]
  },
  {
   "cell_type": "markdown",
   "id": "integrated-samba",
   "metadata": {},
   "source": [
    "## Direction LUT comparisons between protopipe and CTAMARS\n",
    "[back to top](#Table-of-contents)"
   ]
  },
  {
   "cell_type": "markdown",
   "id": "rational-disposal",
   "metadata": {},
   "source": [
    "### Profile along Y-axis (width/length)\n",
    "[back to top](#Table-of-contents)"
   ]
  },
  {
   "cell_type": "markdown",
   "id": "integrated-mounting",
   "metadata": {},
   "source": [
    "Here we select as an example the bin #9, containing images with 0.45 < width / length < 0.55"
   ]
  },
  {
   "cell_type": "code",
   "execution_count": null,
   "id": "adolescent-access",
   "metadata": {},
   "outputs": [],
   "source": [
    "if load_CTAMARS:\n",
    "\n",
    "    plt.figure(figsize=(15,10))\n",
    "    h_space = 0.4 if use_seaborn else 0.2\n",
    "    plt.subplots_adjust(hspace=h_space, wspace=0.2)\n",
    "\n",
    "    for i, camera in enumerate(cameras):\n",
    "\n",
    "        plt.subplot(2, 2, i*2+1)\n",
    "\n",
    "        H = np.transpose(CTAMARS[camera][\"DirLookupTable_degrees\"].values())\n",
    "\n",
    "        plt.errorbar(x = CTAMARS[camera][\"DirLookupTable_degrees\"].axes[0].centers(),\n",
    "                     y = H[9],\n",
    "                     xerr = np.diff(CTAMARS_X_edges)/2,\n",
    "                     yerr = None,\n",
    "                     fmt=\"o\",\n",
    "                     label=\"CTAMARS\")\n",
    "\n",
    "        plt.errorbar(x = CTAMARS[camera][\"DirLookupTable_degrees\"].axes[0].centers(),\n",
    "                     y = np.transpose(LUT[camera])[9],\n",
    "                     xerr = np.diff(CTAMARS_X_edges)/2,\n",
    "                     yerr = None,\n",
    "                     fmt=\"o\",\n",
    "                     label=\"protopipe\")\n",
    "\n",
    "        plt.xlabel(\"log10(intensity) [phe]\")\n",
    "        plt.ylabel(\"<miss>**2 [deg**2]\")\n",
    "        plt.grid()\n",
    "        plt.yscale(\"log\")\n",
    "        plt.title(camera)\n",
    "        plt.legend()\n",
    "        plt.xlim(CTAMARS_X_edges[1], CTAMARS_X_edges[-1])\n",
    "        plt.ylim(1.e-4, 2.e-1)\n",
    "\n",
    "        plt.subplot(2, 2, i*2+2)\n",
    "\n",
    "        with warnings.catch_warnings():\n",
    "            warnings.simplefilter(\"ignore\")\n",
    "            fxn()\n",
    "            ratio = np.transpose(LUT[camera])[9] / H[9]\n",
    "        plt.errorbar(x = CTAMARS[camera][\"DirLookupTable_degrees\"].axes[0].centers()[1:-1],\n",
    "                     y = np.log10(ratio[1:-1]),\n",
    "                     xerr = np.diff(CTAMARS_X_edges[1:-1])/2,\n",
    "                     yerr = None,\n",
    "                     ls = \"-\",\n",
    "                     fmt=\"o\",)\n",
    "        plt.hlines(0., plt.gca().get_xlim()[0], plt.gca().get_xlim()[1], colors=\"red\", linestyles='solid')\n",
    "\n",
    "        plt.xlabel(\"log10(intensity) [phe]\")\n",
    "        plt.ylabel(\"log10(protopipe / CTAMARS)\")\n",
    "        plt.grid()\n",
    "        plt.title(camera)\n",
    "        plt.xlim(CTAMARS_X_edges[1], CTAMARS_X_edges[-1])\n",
    "        plt.ylim(-1,1.)\n",
    "        \n",
    "        plt.savefig(plots_folder / f\"DirectionLUT_yProfile_CTAMARS_{camera}_protopipe_{analysis_name}.png\")\n",
    "    plt.show()\n",
    "\n",
    "else:\n",
    "    print(\"CTAMARS reference data not provided.\")"
   ]
  },
  {
   "cell_type": "markdown",
   "id": "speaking-scout",
   "metadata": {},
   "source": [
    "### Ratio between the LUTs\n",
    "[back to top](#Table-of-contents)"
   ]
  },
  {
   "cell_type": "code",
   "execution_count": null,
   "id": "outstanding-hostel",
   "metadata": {},
   "outputs": [],
   "source": [
    "if load_CTAMARS:\n",
    "\n",
    "    # we use the same bin edges of CTAMARS reference data\n",
    "\n",
    "    fig = plt.figure(figsize=(12, 5))\n",
    "    plt.subplots_adjust(wspace = 0.25)\n",
    "\n",
    "    for i, camera in enumerate(cameras):\n",
    "\n",
    "        plt.subplot(1, 2, i+1)\n",
    "        \n",
    "        with warnings.catch_warnings():\n",
    "            warnings.simplefilter(\"ignore\")\n",
    "            fxn()\n",
    "            ratio = LUT[camera] / CTAMARS[camera][\"DirLookupTable_degrees\"].values()\n",
    "\n",
    "        plt.pcolormesh(CTAMARS_X_edges,\n",
    "                       CTAMARS_Y_edges,\n",
    "                       np.transpose(ratio),\n",
    "                       norm=LogNorm(vmin=1.e-1, vmax=1.e1),\n",
    "                       cmap = \"viridis\"\n",
    "                       )\n",
    "\n",
    "        plt.title(camera)\n",
    "        cb = plt.colorbar()\n",
    "        cb.set_label(\"<miss>**2 ratio protopipe/CTAMARS\")\n",
    "        plt.xlabel(\"log10(intensity) [phe]\")\n",
    "        plt.ylabel(\"width / length\")\n",
    "        plt.xlim(CTAMARS_X_edges[1], CTAMARS_X_edges[-2])\n",
    "        \n",
    "        plt.savefig(plots_folder / f\"DirectionLUT_ratio_CTAMARS_{camera}_protopipe_{analysis_name}.png\")\n",
    "    plt.show()\n",
    "\n",
    "else:\n",
    "    print(\"CTAMARS reference data not provided.\")"
   ]
  },
  {
   "cell_type": "markdown",
   "id": "missing-constraint",
   "metadata": {},
   "source": [
    "Same, but zomming in the regime of current image quality cuts\n",
    "\n",
    "- 0.1 < width/length < 0.6\n",
    "- intensity > 50 phe"
   ]
  },
  {
   "cell_type": "code",
   "execution_count": null,
   "id": "rental-cream",
   "metadata": {},
   "outputs": [],
   "source": [
    "if load_CTAMARS:\n",
    "    \n",
    "    fig = plt.figure(figsize=(12, 5))\n",
    "    plt.subplots_adjust(wspace = 0.25)\n",
    "\n",
    "    for i, camera in enumerate(cameras):\n",
    "\n",
    "        plt.subplot(1, 2, i+1)\n",
    "        \n",
    "        with warnings.catch_warnings():\n",
    "            warnings.simplefilter(\"ignore\")\n",
    "            fxn()\n",
    "            ratio = LUT[camera] / CTAMARS[camera][\"DirLookupTable_degrees\"].values()\n",
    "\n",
    "        plt.pcolormesh(CTAMARS_X_edges[2:-2],\n",
    "                       CTAMARS_Y_edges[2:13],\n",
    "                       np.transpose(ratio)[2:12,2:-2],\n",
    "                       norm=LogNorm(vmin=1.e-1, vmax=1.e1),\n",
    "                       cmap = \"viridis\"\n",
    "                       )\n",
    "\n",
    "        plt.title(camera)\n",
    "        cb = plt.colorbar()\n",
    "        cb.set_label(\"<miss>**2 ratio protopipe/CTAMARS\")\n",
    "        plt.xlabel(\"log10(intensity) [phe]\")\n",
    "        plt.ylabel(\"width / length\")\n",
    "        \n",
    "        plt.savefig(plots_folder / f\"DirectionLUT_counts_ratio_zoomed_CTAMARS_{camera}_protopipe_{analysis_name}.png\")\n",
    "    plt.show()\n",
    "\n",
    "else:\n",
    "    print(\"CTAMARS reference data not provided.\")"
   ]
  },
  {
   "cell_type": "code",
   "execution_count": null,
   "id": "narrative-norman",
   "metadata": {},
   "outputs": [],
   "source": []
  }
 ],
 "metadata": {
  "kernelspec": {
   "display_name": "Python 3 (ipykernel)",
   "language": "python",
   "name": "python3"
  },
  "language_info": {
   "codemirror_mode": {
    "name": "ipython",
    "version": 3
   },
   "file_extension": ".py",
   "mimetype": "text/x-python",
   "name": "python",
   "nbconvert_exporter": "python",
   "pygments_lexer": "ipython3",
   "version": "3.8.12"
  }
 },
 "nbformat": 4,
 "nbformat_minor": 5
}
