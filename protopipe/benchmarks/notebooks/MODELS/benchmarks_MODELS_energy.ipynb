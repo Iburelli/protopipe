{
 "cells": [
  {
   "cell_type": "code",
   "execution_count": null,
   "metadata": {},
   "outputs": [],
   "source": [
    "# Remove input cells at runtime (nbsphinx)\n",
    "import IPython.core.display as d\n",
    "d.display_html('<script>jQuery(function() {if (jQuery(\"body.notebook_app\").length == 0) { jQuery(\".input_area\").toggle(); jQuery(\".prompt\").toggle();}});</script>', raw=True)"
   ]
  },
  {
   "cell_type": "markdown",
   "metadata": {},
   "source": [
    "# Energy reconstruction (MODEL)"
   ]
  },
  {
   "cell_type": "markdown",
   "metadata": {},
   "source": [
    "**Recommended datasample(s):** model file, train and test data produced with ``protopipe-MODEL``\n",
    "\n",
    "**Data level(s):** DL1b (telescope-wise image parameters) + DL2 (only shower geometry)\n",
    "\n",
    "**Description:**\n",
    "\n",
    "It should be used to test the performance of the trained model **before** use it to estimate the energy of DL2 events.\n",
    "\n",
    "In fact, what happens in a *protopipe* analysis is that part of the TRAINING sample can be used for *testing* the models to get some preliminary diagnostics (i.e. before launching the much heavier DL2 production).\n",
    "\n",
    "This notebook shows a camera-wise preliminary diagnostics.\n",
    "\n",
    "Settings and setup of the plots are done using the same configuration file used for training the model.\n",
    "\n",
    "**Requirements and steps to reproduce:**\n",
    "\n",
    "- produce the model with ``protopipe-MODEL``\n",
    "\n",
    "- Execute the notebook ``protopipe-BENCHMARK``,\n",
    "\n",
    "``protopipe-BENCHMARK launch --config_file configs/benchmarks.yaml -n TRAINING/benchmarks_MODELS_energy``\n",
    "\n",
    "To obtain the list of all available parameters add ``--help-notebook``.\n",
    "\n",
    "**Developers**  \n",
    "\n",
    "Please, if you have any contribution regarding this part, do it here and not in the relevant sections of the main code, which are now discontinued (they could be migrated back into ``protopipe.mva`` or in another place when more stable)."
   ]
  },
  {
   "cell_type": "markdown",
   "metadata": {},
   "source": [
    "## Table of contents"
   ]
  },
  {
   "cell_type": "markdown",
   "metadata": {},
   "source": [
    "* [Feature importance](#Feature-importance)\n",
    "* [Feature distributions](#Feature-distributions)\n",
    "* [Migration distribution](#Migration-distribution)\n",
    "* [Energy resolution and bias](#Energy-resolution-and-bias)"
   ]
  },
  {
   "cell_type": "markdown",
   "metadata": {
    "nbsphinx": "hidden",
    "tags": [
     "remove_input"
    ]
   },
   "source": [
    "## Imports\n",
    "[back to top](#Table-of-contents)"
   ]
  },
  {
   "cell_type": "code",
   "execution_count": null,
   "metadata": {},
   "outputs": [],
   "source": [
    "import gzip\n",
    "import glob\n",
    "from pathlib import Path\n",
    "import pickle\n",
    "import joblib\n",
    "import yaml\n",
    "\n",
    "import numpy as np\n",
    "import pandas as pd\n",
    "import astropy.units as u\n",
    "from scipy.stats import binned_statistic\n",
    "\n",
    "import matplotlib.pyplot as plt\n",
    "import matplotlib.patches as mpatches\n",
    "plt.rcParams.update({'figure.max_open_warning': 0})\n",
    "from matplotlib.pyplot import rc\n",
    "import matplotlib.style as style\n",
    "from cycler import cycler\n",
    "\n",
    "from protopipe.pipeline.io import load_config, load_obj\n",
    "from protopipe.benchmarks.utils import string_to_boolean\n",
    "from protopipe.benchmarks.operations import get_evt_subarray_model_output\n",
    "from protopipe.benchmarks.plot import plot_hist, plot_distributions, RegressorDiagnostic"
   ]
  },
  {
   "cell_type": "markdown",
   "metadata": {
    "nbsphinx": "hidden",
    "tags": [
     "remove_input"
    ]
   },
   "source": [
    "## Load models\n",
    "[back to top](#Table-of-contents)"
   ]
  },
  {
   "cell_type": "code",
   "execution_count": null,
   "metadata": {
    "tags": [
     "parameters"
    ]
   },
   "outputs": [],
   "source": [
    "analyses_directory = None\n",
    "analysis_name = None\n",
    "model_configuration_filename = None # Name of the configuration file of the model\n",
    "output_directory = Path.cwd() # default output directory for plots\n",
    "use_seaborn=False"
   ]
  },
  {
   "cell_type": "code",
   "execution_count": null,
   "metadata": {},
   "outputs": [],
   "source": [
    "# Handle boolean variables (papermill reads them as strings)\n",
    "[use_seaborn] = string_to_boolean([use_seaborn])"
   ]
  },
  {
   "cell_type": "code",
   "execution_count": null,
   "metadata": {},
   "outputs": [],
   "source": [
    "# Check that the model configuration file has been defined\n",
    "# either from the CLI of from the benchmarks configuration file (default)\n",
    "if model_configuration_filename is None:\n",
    "    try:\n",
    "        model_configuration_filename = model_configuration_filenames[\"energy\"]\n",
    "    except KeyError:\n",
    "        raise ValueError(\"The name of the configuration file is undefined.\")"
   ]
  },
  {
   "cell_type": "code",
   "execution_count": null,
   "metadata": {},
   "outputs": [],
   "source": [
    "analysis_configuration_path = Path(analyses_directory) / analysis_name / Path(\"configs/analysis.yaml\")\n",
    "model_configuration_path = Path(analyses_directory) / analysis_name / \"configs\" / model_configuration_filename\n",
    "input_directory = Path(analyses_directory) / analysis_name / Path(\"estimators/energy_regressor\")"
   ]
  },
  {
   "cell_type": "code",
   "execution_count": null,
   "metadata": {},
   "outputs": [],
   "source": [
    "# Load configuration files\n",
    "ana_cfg = load_config(analysis_configuration_path)\n",
    "cfg = load_config(model_configuration_path)\n",
    "\n",
    "# Get info from configs\n",
    "estimation_weight = ana_cfg[\"EnergyRegressor\"][\"estimation_weight\"]\n",
    "model_type = \"regressor\"\n",
    "method_name = cfg[\"Method\"][\"name\"].split(\".\")[-1]\n",
    "is_target_log = cfg[\"Method\"][\"log_10_target\"]"
   ]
  },
  {
   "cell_type": "code",
   "execution_count": null,
   "metadata": {},
   "outputs": [],
   "source": [
    "cameras = [model.split('/')[-1].split('_')[1] for model in glob.glob(f\"{input_directory}/{model_type}*.pkl.gz\")]\n",
    "data = {camera : dict.fromkeys([\"model\", \"data_scikit\", \"data_train\", \"data_test\"]) for camera in cameras} \n",
    "\n",
    "for camera in cameras:\n",
    "\n",
    "    data[camera][\"data_scikit\"] = load_obj(\n",
    "                glob.glob(f\"{input_directory}/data_scikit_{model_type}_{method_name}_{camera}.pkl.gz\")[0]\n",
    "                )\n",
    "    data[camera][\"data_train\"] = pd.read_pickle(\n",
    "        glob.glob(f\"{input_directory}/data_train_{model_type}_{method_name}_{camera}.pkl.gz\")[0]\n",
    "                )\n",
    "    data[camera][\"data_test\"] = pd.read_pickle(\n",
    "        glob.glob(f\"{input_directory}/data_test_{model_type}_{method_name}_{camera}.pkl.gz\")[0]\n",
    "    )\n",
    "    \n",
    "    modelName = f\"{model_type}_*_{camera}_{method_name}.pkl.gz\"\n",
    "    data[camera][\"model\"] = joblib.load(glob.glob(f\"{input_directory}/{model_type}_{camera}_{method_name}.pkl.gz\")[0])"
   ]
  },
  {
   "cell_type": "markdown",
   "metadata": {
    "nbsphinx": "hidden",
    "tags": [
     "remove_input"
    ]
   },
   "source": [
    "## Settings and setup\n",
    "[back to top](#Table-of-contents)"
   ]
  },
  {
   "cell_type": "code",
   "execution_count": null,
   "metadata": {},
   "outputs": [],
   "source": [
    "# Energy (both true and reconstructed)\n",
    "nbins = cfg[\"Diagnostic\"][\"energy\"][\"nbins\"]\n",
    "energy_edges = np.logspace(\n",
    "        np.log10(cfg[\"Diagnostic\"][\"energy\"][\"min\"]),\n",
    "        np.log10(cfg[\"Diagnostic\"][\"energy\"][\"max\"]),\n",
    "        nbins + 1,\n",
    "        True,\n",
    "    )"
   ]
  },
  {
   "cell_type": "code",
   "execution_count": null,
   "metadata": {},
   "outputs": [],
   "source": [
    "features_basic = cfg[\"FeatureList\"][\"Basic\"]\n",
    "features_derived = cfg[\"FeatureList\"][\"Derived\"]\n",
    "features = features_basic + list(features_derived)\n",
    "features = sorted(features)"
   ]
  },
  {
   "cell_type": "code",
   "execution_count": null,
   "metadata": {},
   "outputs": [],
   "source": [
    "diagnostic = dict.fromkeys(cameras)\n",
    "for camera in cameras:\n",
    "    diagnostic[camera] = RegressorDiagnostic(\n",
    "                    model=data[camera][\"model\"],\n",
    "                    feature_name_list=features,\n",
    "                    target_name=\"true_energy\",\n",
    "                    is_target_log=is_target_log,\n",
    "                    data_train=data[camera][\"data_train\"],\n",
    "                    data_test=data[camera][\"data_test\"],\n",
    "                    output_name=\"reco_energy\",\n",
    "                    estimation_weight=estimation_weight\n",
    "                )"
   ]
  },
  {
   "cell_type": "code",
   "execution_count": null,
   "metadata": {},
   "outputs": [],
   "source": [
    "# First we check if a _plots_ folder exists already.  \n",
    "# If not, we create it.\n",
    "plots_folder = Path(output_directory) / \"plots\"\n",
    "plots_folder.mkdir(parents=True, exist_ok=True)\n",
    "\n",
    "# Plot aesthetics settings\n",
    "\n",
    "style.use(matplotlib_settings[\"style\"])\n",
    "cmap = matplotlib_settings[\"cmap\"]\n",
    "\n",
    "if matplotlib_settings[\"style\"] == \"seaborn-colorblind\":\n",
    "    \n",
    "    colors_order = ['#0072B2', '#D55E00', '#F0E442', '#009E73', '#CC79A7', '#56B4E9']\n",
    "    rc('axes', prop_cycle=cycler(color=colors_order))\n",
    "\n",
    "if use_seaborn:\n",
    "    import seaborn as sns\n",
    "\n",
    "    sns.set_theme(context=seaborn_settings[\"theme\"][\"context\"] if \"context\" in seaborn_settings[\"theme\"] else \"talk\",\n",
    "                  style=seaborn_settings[\"theme\"][\"style\"] if \"style\" in seaborn_settings[\"theme\"] else \"whitegrid\",\n",
    "                  palette=seaborn_settings[\"theme\"][\"palette\"] if \"palette\" in seaborn_settings[\"theme\"] else None,\n",
    "                  font=seaborn_settings[\"theme\"][\"font\"] if \"font\" in seaborn_settings[\"theme\"] else \"Fira Sans\",\n",
    "                  font_scale=seaborn_settings[\"theme\"][\"font_scale\"] if \"font_scale\" in seaborn_settings[\"theme\"] else 1.0,\n",
    "                  color_codes=seaborn_settings[\"theme\"][\"color_codes\"] if \"color_codes\" in seaborn_settings[\"theme\"] else True\n",
    "                  )\n",
    "    \n",
    "    sns.set_style(seaborn_settings[\"theme\"][\"style\"], rc=seaborn_settings[\"rc_style\"])\n",
    "    sns.set_context(seaborn_settings[\"theme\"][\"context\"],\n",
    "                    font_scale=seaborn_settings[\"theme\"][\"font_scale\"] if \"font_scale\" in seaborn_settings[\"theme\"] else 1.0)"
   ]
  },
  {
   "cell_type": "markdown",
   "metadata": {},
   "source": [
    "## Feature importance\n",
    "[back to top](#Table-of-contents)"
   ]
  },
  {
   "cell_type": "code",
   "execution_count": null,
   "metadata": {},
   "outputs": [],
   "source": [
    "for camera in cameras:\n",
    "    plt.figure(figsize=(6, 5))\n",
    "    ax = plt.gca()\n",
    "    ax = diagnostic[camera].plot_feature_importance(\n",
    "        ax,\n",
    "        **{\"alpha\": 0.7, \"edgecolor\": \"black\", \"linewidth\": 2, \"color\": \"darkgreen\"}\n",
    "    )\n",
    "    ax.set_ylabel(\"Feature importance\")\n",
    "    ax.grid()\n",
    "    plt.title(camera)\n",
    "    plt.tight_layout()\n",
    "    plt.savefig(plots_folder / f\"energy_model_feature_importance_{camera}_protopipe_{analysis_name}.png\")"
   ]
  },
  {
   "cell_type": "markdown",
   "metadata": {},
   "source": [
    "## Feature distributions\n",
    "[back to top](#Table-of-contents)"
   ]
  },
  {
   "cell_type": "code",
   "execution_count": null,
   "metadata": {},
   "outputs": [],
   "source": [
    "for camera in cameras:\n",
    "\n",
    "    fig, axes = diagnostic[camera].plot_features(\n",
    "        suptitle=camera,\n",
    "        data_list=[data[camera][\"data_train\"], data[camera][\"data_test\"]],\n",
    "        nbin=30,\n",
    "        hist_kwargs_list=[\n",
    "            {\n",
    "                \"edgecolor\": \"blue\",\n",
    "                \"color\": \"blue\",\n",
    "                \"label\": \"Gamma training\",\n",
    "                \"alpha\": 0.2,\n",
    "                \"fill\": True,\n",
    "                \"ls\": \"-\",\n",
    "                \"lw\": 2,\n",
    "            },\n",
    "            {\n",
    "                \"edgecolor\": \"blue\",\n",
    "                \"color\": \"blue\",\n",
    "                \"label\": \"Gamma test\",\n",
    "                \"alpha\": 1,\n",
    "                \"fill\": False,\n",
    "                \"ls\": \"--\",\n",
    "                \"lw\": 2,\n",
    "            },\n",
    "        ],\n",
    "        error_kw_list=[\n",
    "            dict(ecolor=\"blue\", lw=2, capsize=2, capthick=2, alpha=0.2),\n",
    "            dict(ecolor=\"blue\", lw=2, capsize=2, capthick=2, alpha=0.2),\n",
    "        ],\n",
    "        ncols=5,\n",
    "    )\n",
    "    plt.savefig(plots_folder / f\"energy_model_feature_distributions_{camera}_protopipe_{analysis_name}.png\")"
   ]
  },
  {
   "cell_type": "markdown",
   "metadata": {},
   "source": [
    "## Migration distribution\n",
    "[back to top](#Table-of-contents)"
   ]
  },
  {
   "cell_type": "markdown",
   "metadata": {},
   "source": [
    "**WARNING:** here we naively applying a gaussian fit for each slice in true energy, but it is not the best way especially for the lowest and highest bins (because of intrisinc tails in the distributions and lower statistics respectively)."
   ]
  },
  {
   "cell_type": "code",
   "execution_count": null,
   "metadata": {},
   "outputs": [],
   "source": [
    "for camera in cameras:\n",
    "\n",
    "    ncols = 5\n",
    "    nrows = (\n",
    "        int(nbins / ncols) if nbins % ncols == 0 else int((nbins + 1) / ncols)\n",
    "    )\n",
    "    if nrows == 0:\n",
    "        nrows = 1\n",
    "        ncols = 1\n",
    "    fig, axes = plt.subplots(nrows=nrows, ncols=ncols, figsize=(5 * 5, 10))\n",
    "    plt.suptitle(camera)\n",
    "    try:\n",
    "        axes = axes.flatten()\n",
    "    except:\n",
    "        axes = [axes]\n",
    "\n",
    "    bias = []\n",
    "    resolution = []\n",
    "    energy_centres = []\n",
    "\n",
    "    for ibin in range(len(energy_edges) - 1):\n",
    "        ax = axes[ibin]\n",
    "        \n",
    "        test_data = diagnostic[camera].data_test.query(\n",
    "            \"true_energy >= {} and true_energy < {}\".format(\n",
    "                energy_edges[ibin], energy_edges[ibin + 1]\n",
    "            )\n",
    "        )\n",
    "        \n",
    "        # print(\"Estimate energy for {} evts\".format(len(test_data)))\n",
    "\n",
    "        er = test_data[\"reco_energy_tel\"]\n",
    "        emc = test_data[\"true_energy\"]\n",
    "\n",
    "        opt_hist = {\n",
    "            \"edgecolor\": \"black\",\n",
    "            \"color\": \"darkgreen\",\n",
    "            \"label\": \"data\",\n",
    "            \"alpha\": 0.7,\n",
    "            \"fill\": True,\n",
    "        }\n",
    "        opt_fit = {\"c\": \"red\", \"lw\": 2, \"label\": \"Best fit\"}\n",
    "        ax, fit_param, cov = diagnostic[camera].plot_resolution_distribution(\n",
    "            ax=ax,\n",
    "            y_true=emc,\n",
    "            y_reco=er,\n",
    "            nbin=50,\n",
    "            fit_range=[-2, 2],\n",
    "            hist_kwargs=opt_hist,\n",
    "            fit_kwargs=opt_fit,\n",
    "        )\n",
    "        if fit_param[2] < 0:  # negative value are allowed for the fit\n",
    "            fit_param[2] *= -1\n",
    "\n",
    "        label = \"[{:.2f},{:.2f}] TeV\\n#Evts={}\\nmean={:.2f}\\nstd={:.2f}\".format(\n",
    "            energy_edges[ibin],\n",
    "            energy_edges[ibin + 1],\n",
    "            len(er),\n",
    "            fit_param[1],\n",
    "            fit_param[2],\n",
    "        )\n",
    "\n",
    "        ax.set_ylabel(\"# Events\")\n",
    "        ax.set_xlabel(\"(E_reco - E_true) / E_true\")\n",
    "        ax.set_xlim([-2, 2])\n",
    "        ax.grid()\n",
    "\n",
    "        evt_patch = mpatches.Patch(color=\"white\", label=label)\n",
    "        data_patch = mpatches.Patch(color=\"blue\", label=\"data\")\n",
    "        fit_patch = mpatches.Patch(color=\"red\", label=\"best fit\")\n",
    "        ax.legend(loc=\"best\", handles=[evt_patch, data_patch, fit_patch])\n",
    "        plt.tight_layout()\n",
    "\n",
    "        #print(\n",
    "        #    \" Fit results: ({:.3f},{:.3f} TeV)\".format(\n",
    "        #        energy_edges[ibin], energy_edges[ibin + 1]\n",
    "        #    )\n",
    "        #)\n",
    "\n",
    "        #try:\n",
    "        #    print(\" - A    : {:.3f} +/- {:.3f}\".format(fit_param[0], cov[0][0]))\n",
    "        #    print(\" - mean : {:.3f} +/- {:.3f}\".format(fit_param[1], cov[1][1]))\n",
    "        #    print(\" - std  : {:.3f} +/- {:.3f}\".format(fit_param[2], cov[2][2]))\n",
    "        #except:\n",
    "        #    print(\" ==> Problem with fit, no covariance...\".format())\n",
    "        #    continue\n",
    "\n",
    "        bias.append(fit_param[1])\n",
    "        resolution.append(fit_param[2])\n",
    "        energy_centres.append(\n",
    "            (energy_edges[ibin] + energy_edges[ibin + 1]) / 2.0\n",
    "        )\n",
    "\n",
    "    plt.savefig(plots_folder / f\"energy_model_migration_distributions_{camera}_protopipe_{analysis_name}.png\")"
   ]
  },
  {
   "cell_type": "markdown",
   "metadata": {},
   "source": [
    "## Energy resolution and bias\n",
    "[back to top](#Table-of-contents)"
   ]
  },
  {
   "cell_type": "code",
   "execution_count": null,
   "metadata": {},
   "outputs": [],
   "source": [
    "true_energy_bins_edges = np.linspace(\n",
    "        np.log10(cfg[\"Diagnostic\"][\"energy\"][\"min\"]),\n",
    "        np.log10(cfg[\"Diagnostic\"][\"energy\"][\"max\"]),\n",
    "        nbins + 1,\n",
    "    ) * u.TeV\n",
    "\n",
    "true_energy_bins_centers = 0.5 * (true_energy_bins_edges[1:]+true_energy_bins_edges[:-1])\n",
    "\n",
    "for camera in cameras:\n",
    "    \n",
    "    plt.figure(figsize=(9,7))\n",
    "\n",
    "    reco_energy = diagnostic[camera].data_test[diagnostic[camera].output_name_img]\n",
    "    true_energy = diagnostic[camera].data_test[diagnostic[camera].target_estimation_name]\n",
    "    \n",
    "    resolution = binned_statistic(np.log10(true_energy),\n",
    "                              reco_energy/true_energy - 1,\n",
    "                              statistic = lambda x: np.percentile(np.abs(x), 68),\n",
    "                              bins=true_energy_bins_edges)\n",
    "\n",
    "    corr_resolution_mean = binned_statistic(np.log10(true_energy),\n",
    "                                  reco_energy/true_energy - 1,\n",
    "                                  statistic = lambda x: np.percentile(np.abs(x-np.mean(x)), 68),\n",
    "                                  bins=true_energy_bins_edges)\n",
    "    \n",
    "    corr_resolution_median = binned_statistic(np.log10(true_energy),\n",
    "                                  reco_energy/true_energy - 1,\n",
    "                                  statistic = lambda x: np.percentile(np.abs(x-np.median(x)), 68),\n",
    "                                  bins=true_energy_bins_edges)\n",
    "    \n",
    "    bias_mean = binned_statistic(np.log10(true_energy), \n",
    "                        reco_energy/true_energy - 1, \n",
    "                        statistic=\"mean\", \n",
    "                        bins=true_energy_bins_edges)\n",
    "    \n",
    "    bias_median = binned_statistic(np.log10(true_energy), \n",
    "                        reco_energy/true_energy - 1, \n",
    "                        statistic=\"median\", \n",
    "                        bins=true_energy_bins_edges)\n",
    "    \n",
    "    plt.plot(true_energy_bins_centers, resolution[0], label=\"resolution (bias included)\")\n",
    "    plt.plot(true_energy_bins_centers, corr_resolution_mean[0], label=\"resolution (bias mean corrected)\")\n",
    "    plt.plot(true_energy_bins_centers, corr_resolution_median[0], label=\"resolution (bias median corrected)\")\n",
    "    plt.plot(true_energy_bins_centers, bias_mean[0], label=\"bias (mean)\")\n",
    "    plt.plot(true_energy_bins_centers, bias_median[0], label=\"bias (median)\")\n",
    "    plt.title(camera)\n",
    "    plt.legend()\n",
    "    plt.grid()\n",
    "    plt.ylim(-0.2, 1.2)\n",
    "    plt.xlim(true_energy_bins_edges[0].value, true_energy_bins_edges[-1].value)\n",
    "    plt.xlabel('log10(true energy) [TeV]')\n",
    "\n",
    "    plt.savefig(plots_folder / f\"energy_model_resolution_bias_{camera}_protopipe_{analysis_name}.png\")"
   ]
  },
  {
   "cell_type": "code",
   "execution_count": null,
   "metadata": {},
   "outputs": [],
   "source": []
  }
 ],
 "metadata": {
  "kernelspec": {
   "display_name": "Python 3 (ipykernel)",
   "language": "python",
   "name": "python3"
  },
  "language_info": {
   "codemirror_mode": {
    "name": "ipython",
    "version": 3
   },
   "file_extension": ".py",
   "mimetype": "text/x-python",
   "name": "python",
   "nbconvert_exporter": "python",
   "pygments_lexer": "ipython3",
   "version": "3.8.12"
  }
 },
 "nbformat": 4,
 "nbformat_minor": 4
}
