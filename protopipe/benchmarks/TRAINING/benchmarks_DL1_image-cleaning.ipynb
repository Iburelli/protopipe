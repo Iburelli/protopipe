{
 "cells": [
  {
   "cell_type": "code",
   "execution_count": null,
   "metadata": {},
   "outputs": [],
   "source": [
    "# Remove input cells at runtime (nbsphinx)\n",
    "import IPython.core.display as d\n",
    "d.display_html('<script>jQuery(function() {if (jQuery(\"body.notebook_app\").length == 0) { jQuery(\".input_area\").toggle(); jQuery(\".prompt\").toggle();}});</script>', raw=True)"
   ]
  },
  {
   "cell_type": "markdown",
   "metadata": {},
   "source": [
    "# Image cleaning"
   ]
  },
  {
   "cell_type": "markdown",
   "metadata": {},
   "source": [
    "**Author(s):** Dr. Michele Peresano (CEA-Saclay/IRFU/DAp/LEPCHE), 2020\n",
    "\n",
    "**Recommended datasample(s):** ``gamma1`` (dataset used to build the energy model)\n",
    "\n",
    "**Data level(s):** DL1b (telescope-wise image parameters)\n",
    "\n",
    "**Description:**\n",
    "\n",
    "This notebook contains benchmarks and metrics from the _protopipe_ pipeline aimed at the DL1b data level (cleaned and parametrized images).  \n",
    "\n",
    "**Requirements and steps to reproduce:**\n",
    "\n",
    "To run this notebook you will need a TRAINING file generated using ``protopipe-TRAINING`` .\n",
    "\n",
    "To get a filled notebook and reproduce these results,\n",
    "\n",
    "- get the necessary input files using ``protopipe-TRAINING``\n",
    "- execute the notebook with ``protopipe-BENCHMARK``\n",
    "\n",
    "``protopipe-BENCHMARK launch --config_file configs/benchmarks.yaml -n TRAINING/benchmarks_DL1_image-cleaning``\n",
    "\n",
    "To obtain the list of all available parameters add ``--help-notebook``.\n",
    "\n",
    "**Comparison against CTAMARS:**\n",
    "\n",
    "- the input file needs to be a merged TRAINING file from the ``gamma1`` sample,\n",
    "- reference simtel-files, plots, values and settings can be found [here (please, always refer to the latest version)](https://forge.in2p3.fr/projects/benchmarks-reference-analysis/wiki/Comparisons_between_pipelines).\n",
    "\n",
    "**Development and testing:**  \n",
    "\n",
    "As with any other part of _protopipe_ and being part of the official repository, this notebook can be further developed by any interested contributor.  \n",
    "The execution of this notebook is not currently automatic, it must be done locally by the user _before_ pushing a pull-request.\n",
    "Please, strip the output before pushing."
   ]
  },
  {
   "cell_type": "markdown",
   "metadata": {},
   "source": [
    "## Table of contents\n",
    "  - [Fraction of events (relative to telescope triggers) that survive a given intensity cut](#Fraction-of-events-(relative-to-telescope-triggers)-that-survive-a-given-intensity-cut)\n",
    "  - [Image-parameter distributions](#Image-parameter-distributions)\n",
    "      + [LST-1 image intensity](#LST-1-image-intensity)\n",
    "      + [DL1 Parameters used for energy training from all telecopes](#DL1-Parameters-used-for-energy-training-from-all-telecopes)"
   ]
  },
  {
   "cell_type": "markdown",
   "metadata": {
    "nbsphinx": "hidden",
    "tags": [
     "remove_input"
    ]
   },
   "source": [
    "## Imports"
   ]
  },
  {
   "cell_type": "code",
   "execution_count": null,
   "metadata": {},
   "outputs": [],
   "source": [
    "import os\n",
    "from pathlib import Path\n",
    "import warnings\n",
    "\n",
    "def fxn():\n",
    "    warnings.warn(\"runtime\", RuntimeWarning)\n",
    "\n",
    "import tables\n",
    "import numpy as np\n",
    "import pandas\n",
    "import uproot\n",
    "from scipy.stats import binned_statistic, binned_statistic_2d, cumfreq, percentileofscore\n",
    "from astropy import units as u\n",
    "from astropy.table import Table\n",
    "import matplotlib.pyplot as plt\n",
    "from matplotlib.colors import LogNorm\n",
    "from mpl_toolkits.mplot3d import Axes3D\n",
    "\n",
    "from protopipe.pipeline.io import get_camera_names, read_protopipe_TRAINING_per_tel_type\n",
    "from protopipe.pipeline.utils import add_stats, CTAMARS_radii"
   ]
  },
  {
   "cell_type": "markdown",
   "metadata": {
    "nbsphinx": "hidden",
    "tags": [
     "remove_input"
    ]
   },
   "source": [
    "## Input data\n",
    "[back to top](#Table-of-contents)"
   ]
  },
  {
   "cell_type": "markdown",
   "metadata": {
    "nbsphinx": "hidden",
    "tags": [
     "remove_input"
    ]
   },
   "source": [
    "### Protopipe\n",
    "[back to top](#Table-of-contents)"
   ]
  },
  {
   "cell_type": "code",
   "execution_count": null,
   "metadata": {
    "tags": [
     "parameters"
    ]
   },
   "outputs": [],
   "source": [
    "# Parametrized cell\n",
    "# Modify these variables according to your local setup outside of the Vagrant Box\n",
    "analyses_directory = \"/Users/michele/Applications/ctasoft/dirac/shared_folder/analyses/\"  # path to the 'analyses' analyses folder\n",
    "output_directory = Path.cwd() # default output directory for plots\n",
    "analysis_name = \"test_from_docker_2\" # Name of the analysis stored in 'analyses_folder'\n",
    "load_CTAMARS_2019 = True  # If True (default), compare to the CTAN analysis done with CTAMARS (Release 2019)\n",
    "input_filename = None # Name of the file produced with protopipe\n",
    "CTAMARS_put_directory = None # Path to DL1 CTAMARS data (if load_CTAMARS_2019 is True)\n",
    "min_pixels = 3\n",
    "min_ellipticity = 0.1\n",
    "max_ellipticity = 0.6\n",
    "containment_radius = 0.8 # from 0 to 1 (whole camera)\n",
    "protopipe_intensity_cut = 50 # phe"
   ]
  },
  {
   "cell_type": "code",
   "execution_count": null,
   "metadata": {},
   "outputs": [],
   "source": [
    "input_directory = Path(analyses_directory) / analysis_name / Path(\"data/TRAINING/for_energy_estimation\")\n",
    "\n",
    "if not input_filename:\n",
    "    try:\n",
    "        input_filename = input_filenames[\"TRAINING_energy_gamma\"]\n",
    "    except (NameError, KeyError):\n",
    "        input_filename = \"TRAINING_energy_tail_gamma_merged.h5\"\n",
    "\n",
    "cameras = get_camera_names(input_directory = input_directory,\n",
    "                           file_name = input_filename)\n",
    "data = read_protopipe_TRAINING_per_tel_type(input_directory = input_directory,\n",
    "                                            file_name = input_filename,\n",
    "                                            camera_names=cameras)"
   ]
  },
  {
   "cell_type": "code",
   "execution_count": null,
   "metadata": {},
   "outputs": [],
   "source": [
    "selected_data = {}\n",
    "\n",
    "if load_CTAMARS_2019:\n",
    "\n",
    "    # Remove from protopipe's data images that did not survive the preliminary image cleaning\n",
    "    # between the 2 image extraction passes\n",
    "    for camera in cameras:\n",
    "        selected_data[camera] = data[camera].query(\"image_extraction == 1\")\n",
    "        \n",
    "else:\n",
    "    \n",
    "    for camera in cameras:\n",
    "        selected_data[camera] = data[camera]"
   ]
  },
  {
   "cell_type": "markdown",
   "metadata": {
    "nbsphinx": "hidden",
    "tags": [
     "remove_input"
    ]
   },
   "source": [
    "### CTA-MARS\n",
    "[back to top](#Table-of-contents)"
   ]
  },
  {
   "cell_type": "code",
   "execution_count": null,
   "metadata": {},
   "outputs": [],
   "source": [
    "if load_CTAMARS_2019:\n",
    "    \n",
    "    input_directory_CTAMARS = {}\n",
    "    input_directory_CTAMARS[\"parent_directory\"] = \"/Users/michele/Applications/ctasoft/tests/CTAMARS_reference_data\"\n",
    "    input_directory_CTAMARS[\"TRAINING/DL1\"] = \"TRAINING/DL1\"\n",
    "    \n",
    "    # Get input file path\n",
    "    if (input_directory_CTAMARS[\"parent_directory\"] is None) or (input_directory_CTAMARS[\"TRAINING/DL1\"] is None):\n",
    "        raise ValueError(\"ERROR: CTAMARS data undefined. Please, check the documentation of protopipe-BENCHMARKS.\")\n",
    "    else:\n",
    "\n",
    "        # read CTAMARS ROOT files\n",
    "        mars_dl1b_fileName = \"check_dl1b.root\"\n",
    "        path_mars_dl1b = Path(input_directory_CTAMARS[\"parent_directory\"]) / input_directory_CTAMARS[\"TRAINING/DL1\"] / mars_dl1b_fileName\n",
    "        ctamars_dl1b = uproot.open(path_mars_dl1b)\n",
    "\n",
    "        mars_LST1size_fileName = \"LST1_SIZE_distro_gamma1sample.root\"\n",
    "        path_mars_LST1size = Path(input_directory_CTAMARS[\"parent_directory\"]) / input_directory_CTAMARS[\"TRAINING/DL1\"] /  mars_LST1size_fileName\n",
    "        ctamars_LST1size = uproot.open(path_mars_LST1size)\n",
    "\n",
    "        # create histograms\n",
    "        mars_size_npixels_LSTCam = ctamars_dl1b[\"log10Size_type0\"].to_numpy()\n",
    "        mars_size_npixels_NectarCam = ctamars_dl1b[\"log10Size_type1\"].to_numpy()\n",
    "        mars_size_WL_LSTCam = ctamars_dl1b[\"log10Size_WL_type0\"].to_numpy()\n",
    "        mars_size_WL_NectarCam = ctamars_dl1b[\"log10Size_WL_type1\"].to_numpy()\n",
    "        mars_size_d80_LSTCam = ctamars_dl1b[\"log10Size_d80_type0\"].to_numpy()\n",
    "        mars_size_d80_NectarCam = ctamars_dl1b[\"log10Size_d80_type1\"].to_numpy()\n",
    "        mars_size_LST1Cam = ctamars_LST1size[\"h\"].to_numpy()\n",
    "\n",
    "        # fill camera-wise dictionaries\n",
    "        CTAMARS = {}\n",
    "        CTAMARS[\"LSTCam\"] = {\"size_npixels\": mars_size_npixels_LSTCam, \n",
    "                             \"size_WL\" : mars_size_WL_LSTCam, \n",
    "                             \"size_d80\" : mars_size_d80_LSTCam, \n",
    "                             \"size_LST1\" : mars_size_LST1Cam}\n",
    "        CTAMARS[\"NectarCam\"] = {\"size_npixels\": mars_size_npixels_NectarCam, \n",
    "                                \"size_WL\" : mars_size_WL_NectarCam, \n",
    "                                \"size_d80\" : mars_size_d80_NectarCam}"
   ]
  },
  {
   "cell_type": "markdown",
   "metadata": {
    "nbsphinx": "hidden",
    "tags": [
     "remove_input"
    ]
   },
   "source": [
    "## Plots and benchmarks\n",
    "[back to top](#Table-of-contents)"
   ]
  },
  {
   "cell_type": "code",
   "execution_count": null,
   "metadata": {},
   "outputs": [],
   "source": [
    "# First we check if a _plots_ folder exists already.  \n",
    "# If not, we create it.\n",
    "plots_folder = Path(output_directory) / \"plots\"\n",
    "plots_folder.mkdir(parents=True, exist_ok=True)"
   ]
  },
  {
   "cell_type": "markdown",
   "metadata": {},
   "source": [
    "### Fraction of events (relative to telescope triggers) that survive a given intensity cut\n",
    "[back to top](#Table-of-contents)"
   ]
  },
  {
   "cell_type": "markdown",
   "metadata": {},
   "source": [
    "Multi-cluster cleaning"
   ]
  },
  {
   "cell_type": "markdown",
   "metadata": {},
   "source": [
    "If the \"no-cuts\" curve doesn't start at 1, it's because some images were so bad that they couldn't get a valid parametrization and have been recorded with ``hillas_intensity = NaN``."
   ]
  },
  {
   "cell_type": "code",
   "execution_count": null,
   "metadata": {},
   "outputs": [],
   "source": [
    "for camera in cameras:\n",
    "    \n",
    "    fig = plt.figure(figsize=(6, 5), tight_layout=False)\n",
    "    plt.xlabel(\"log10(intensity #p.e)\")\n",
    "    plt.ylabel(\"Telescope triggers fraction with log10(intensity #p.e) > x phe\")\n",
    "    plt.title(camera)\n",
    "\n",
    "    tot_entries = len(data[camera][\"hillas_intensity\"])\n",
    "    \n",
    "    xbins = CTAMARS[camera][\"size_WL\"][1]\n",
    "\n",
    "    # No cuts\n",
    "    selected_images = data[camera]\n",
    "    intensity_hist, xbins = np.histogram(np.log10(selected_images[\"hillas_intensity\"]), bins=xbins)\n",
    "    plt.plot(xbins[:-1], intensity_hist[::-1].cumsum()[::-1]/tot_entries, drawstyle=\"steps-post\", label=\"No cuts\", color=\"steelblue\")\n",
    "    \n",
    "    # Cut in the number of pixels\n",
    "    selected_images = selected_data[camera].query(f\"pixels > {min_pixels}\")\n",
    "    intensity_hist, xbins = np.histogram( np.log10(selected_images[\"hillas_intensity\"]), bins=xbins)\n",
    "    plt.plot(xbins[:-1], intensity_hist[::-1].cumsum()[::-1]/tot_entries, drawstyle=\"steps-post\", label=\"+ n_pixel\", color=\"orange\")\n",
    "    \n",
    "    # Cut in ellipticity\n",
    "    selected_images = selected_data[camera].query(f\"pixels > {min_pixels}\\\n",
    "                                           and hillas_ellipticity > {min_ellipticity}\\\n",
    "                                           and hillas_ellipticity < {max_ellipticity}\")\n",
    "    intensity_hist, xbins = np.histogram( np.log10(selected_images[\"hillas_intensity\"]), bins=xbins)\n",
    "    plt.plot(xbins[:-1], intensity_hist[::-1].cumsum()[::-1]/tot_entries, drawstyle=\"steps-post\", label=\"+ ellipticity\", color=\"green\")\n",
    "    \n",
    "    # Cut in containment radius\n",
    "    selected_images = selected_data[camera].query(f\"pixels > {min_pixels}\\\n",
    "                                           and hillas_ellipticity > {min_ellipticity}\\\n",
    "                                           and hillas_ellipticity < {max_ellipticity}\\\n",
    "                                           and hillas_r < {(CTAMARS_radii(camera)*containment_radius)}\")\n",
    "    intensity_hist, xbins = np.histogram( np.log10(selected_images[\"hillas_intensity\"]), bins=xbins)\n",
    "    plt.plot(xbins[:-1], intensity_hist[::-1].cumsum()[::-1]/tot_entries, drawstyle=\"steps-post\", label=\"+ COG continment\", color=\"red\")\n",
    "    \n",
    "    # Plot CTAMARS data\n",
    "\n",
    "    x = 0.5 * (CTAMARS[camera][\"size_WL\"][1][1:] + CTAMARS[camera][\"size_WL\"][1][:-1])\n",
    "    plt.step(x, CTAMARS[camera][\"size_npixels\"][0], where='mid', label='CTAMARS npixels', color=\"orange\", linestyle=\"--\")\n",
    "    plt.step(x, CTAMARS[camera][\"size_WL\"][0], where='mid', label='+ CTAMARS ellipticity', color=\"green\", linestyle=\"--\")\n",
    "    plt.step(x, CTAMARS[camera][\"size_d80\"][0], where='mid', label='+ CTAMARS COG continment', color=\"red\", linestyle=\"--\")\n",
    "    \n",
    "    plt.ylim([0.,1.05])\n",
    "    ax = plt.gca()\n",
    "    ylims=ax.get_ylim()\n",
    "\n",
    "    CTAMARS_intensity_cut = 50\n",
    "    plt.vlines(np.log10(CTAMARS_intensity_cut),\n",
    "               ymin=min(ylims), ymax=max(ylims),\n",
    "               ls=\"dashed\", lw=2,\n",
    "               color=\"darkorange\",\n",
    "               label=f\"{CTAMARS_intensity_cut} phe (CTAMARS)\")\n",
    "\n",
    "    plt.vlines(np.log10(protopipe_intensity_cut),\n",
    "               ymin=min(ylims), ymax=max(ylims),\n",
    "               ls=\"dashed\", lw=2,\n",
    "               color=\"blue\",\n",
    "               label=f\"{protopipe_intensity_cut} phe (protopipe)\")\n",
    "    \n",
    "    plt.minorticks_on()\n",
    "    plt.grid()\n",
    "    plt.legend()\n",
    "\n",
    "    fig.savefig(plots_folder / f\"image_cleaning_eventsAboveIntensity_{camera}_protopipe_{analysis_name}.png\")\n",
    "    \n",
    "    plt.show()"
   ]
  },
  {
   "cell_type": "markdown",
   "metadata": {},
   "source": [
    "### Image-parameter distributions\n",
    "[back to top](#Table-of-contents)"
   ]
  },
  {
   "cell_type": "markdown",
   "metadata": {},
   "source": [
    "**Notes**  \n",
    " - probably better to make bins in true energy\n",
    " - the parameters should be at least those that enter the estimators training (here only the pure DL1 are listed)"
   ]
  },
  {
   "cell_type": "markdown",
   "metadata": {},
   "source": [
    "#### LST-1 image intensity\n",
    "[back to top](#Table-of-contents)"
   ]
  },
  {
   "cell_type": "markdown",
   "metadata": {},
   "source": [
    "Here we compare the distribution of image insensities from LST-1 from the gamma1 sample.\n",
    "Therefore the key used for intensity is the one used for shower geometry reconstruction."
   ]
  },
  {
   "cell_type": "code",
   "execution_count": null,
   "metadata": {},
   "outputs": [],
   "source": [
    "if load_CTAMARS_2019:\n",
    "    size_LST1 = data[\"LSTCam\"].query(\"tel_id == 1 and image_extraction == 1\")[\"hillas_intensity\"]\n",
    "else:\n",
    "    size_LST1 = data[\"LSTCam\"].query(\"tel_id == 1\")[\"hillas_intensity\"]\n",
    "\n",
    "x_bins_edges = CTAMARS[\"LSTCam\"][\"size_LST1\"][1]\n",
    "CTAMARS_counts = CTAMARS[\"LSTCam\"][\"size_LST1\"][0]\n",
    "\n",
    "fig = plt.figure(figsize=(16, 5), tight_layout=False)\n",
    "\n",
    "plt.subplot(1,2,1)\n",
    "\n",
    "plt.xlabel(f\"log10(hillas_intensity) [#phe]\")\n",
    "plt.ylabel(\"Number of images\")\n",
    "plt.title(\"LST1 - gamma1\")\n",
    "h_protopipe = plt.hist(np.log10(size_LST1),\n",
    "                       bins=x_bins_edges,\n",
    "                       histtype=\"step\",\n",
    "                       label=\"protopipe\", color=\"blue\")\n",
    "\n",
    "print(f\"Total number of images for CTAMARS = {np.sum(CTAMARS_counts)}\")\n",
    "print(f\"Total number of images for protopipe = {np.sum(h_protopipe[0])}\")\n",
    "\n",
    "\n",
    "plt.step(x_bins_edges[:-1], CTAMARS_counts, where='pre', label='CTAMARS', color=\"darkorange\")\n",
    "\n",
    "plt.yscale('log')\n",
    "plt.minorticks_on()\n",
    "plt.grid(which = \"both\")\n",
    "\n",
    "ax = plt.gca()\n",
    "ylims=ax.get_ylim()\n",
    "\n",
    "plt.vlines(np.log10(CTAMARS_intensity_cut),\n",
    "           ymin=min(ylims), ymax=max(ylims),\n",
    "           ls=\"dashed\", lw=2,\n",
    "           color=\"darkorange\",\n",
    "           label=f\"{CTAMARS_intensity_cut} phe (CTAMARS)\")\n",
    "\n",
    "plt.vlines(np.log10(protopipe_intensity_cut),\n",
    "           ymin=min(ylims), ymax=max(ylims),\n",
    "           ls=\"dashed\", lw=2,\n",
    "           color=\"blue\",\n",
    "           label=f\"{protopipe_intensity_cut} phe (protopipe)\")\n",
    "\n",
    "plt.legend()\n",
    "\n",
    "plt.ylim(1, 1.e5)\n",
    "\n",
    "plt.subplot(1,2,2)\n",
    "\n",
    "plt.xlabel(f\"log10(hillas_intensity) [#phe]\")\n",
    "plt.ylabel(f\"Ratio protopipe / CTAMARS\")\n",
    "x = 0.5 * (x_bins_edges[1:] + x_bins_edges[:-1])\n",
    "\n",
    "with warnings.catch_warnings():\n",
    "    warnings.simplefilter(\"ignore\")\n",
    "    fxn()\n",
    "    plt.step(x, h_protopipe[0]/CTAMARS_counts, where='pre')\n",
    "\n",
    "ax = plt.gca()\n",
    "xlims=ax.get_xlim()\n",
    "xlims=[np.min(x_bins_edges),np.max(x_bins_edges)]\n",
    "plt.hlines(1., xlims[0], xlims[1], label=\"expectation\", color='r')\n",
    "plt.grid()\n",
    "plt.legend()\n",
    "plt.ylim(0, 3)\n",
    "\n",
    "fig.savefig(plots_folder / f\"image_cleaning_hillas_intensity_LST1_gamma1_{camera}_protopipe_{analysis_name}.png\")\n",
    "\n",
    "plt.show()"
   ]
  },
  {
   "cell_type": "markdown",
   "metadata": {},
   "source": [
    "#### DL1 Parameters used for direction reconstruction from all telecopes\n",
    "[back to top](#Table-of-contents)"
   ]
  },
  {
   "cell_type": "code",
   "execution_count": null,
   "metadata": {},
   "outputs": [],
   "source": [
    "nbins = 100\n",
    "parameters_to_plot = [\"hillas_intensity\", \"hillas_width\", \"hillas_length\"]\n",
    "\n",
    "fig, axes = plt.subplots(ncols=len(parameters_to_plot), \n",
    "                         nrows=len(cameras), \n",
    "                         constrained_layout=False, \n",
    "                         figsize = (40, 20))\n",
    "plt.subplots_adjust(hspace = 0.5)\n",
    "fontsize=20\n",
    "\n",
    "for i, camera in enumerate(cameras):\n",
    "        \n",
    "    for j, key in enumerate(parameters_to_plot):\n",
    "        \n",
    "        axes[i, j].set_ylabel(\"Number of events\", fontsize=fontsize)\n",
    "        axes[i, j].set_title(camera, fontsize=fontsize)\n",
    "\n",
    "        if \"hillas_intensity\" in key:\n",
    "            axes[i, j].set_xlabel(f\"log10({key}) [#phe]\", fontsize=fontsize)\n",
    "            axes[i, j].hist(np.log10(data[camera][key]), \n",
    "                            bins=nbins, \n",
    "                            range=[1.,6.], \n",
    "                            alpha = 0.5, \n",
    "                            histtype=\"step\",\n",
    "                            linewidth=5)\n",
    "            add_stats(np.log10(data[camera][key]), axes[i, j], x=0.70, y=0.85, fontsize=fontsize)\n",
    "        else:\n",
    "            axes[i, j].set_xlabel(f\"{key} [deg]\", fontsize=fontsize)\n",
    "            axes[i, j].hist(data[camera][key], \n",
    "                            bins=nbins, \n",
    "                            alpha = 0.5, \n",
    "                            histtype=\"step\",\n",
    "                            linewidth=5)\n",
    "            add_stats(data[camera][key], axes[i, j], x=0.70, y=0.85, fontsize=fontsize)\n",
    "            \n",
    "\n",
    "        axes[i, j].set_yscale('log')\n",
    "        axes[i, j].minorticks_on()\n",
    "        axes[i, j].grid(which = \"both\")\n",
    "        \n",
    "        # Save just the portion _inside_ the second axis's boundaries\n",
    "        extent = axes[i, j].get_window_extent().transformed(fig.dpi_scale_trans.inverted())\n",
    "        fig.savefig(plots_folder / f\"image_cleaning_{key}_gamma1_{camera}_protopipe_{analysis_name}.png\", bbox_inches=extent.expanded(1.2, 1.2))\n",
    "\n",
    "fig.savefig(plots_folder / f\"image_cleaning_gamma1_allKeysallCameras_protopipe_{analysis_name}.png\")\n",
    "\n",
    "plt.show()"
   ]
  },
  {
   "cell_type": "code",
   "execution_count": null,
   "metadata": {},
   "outputs": [],
   "source": []
  }
 ],
 "metadata": {
  "celltoolbar": "Edit Metadata",
  "kernelspec": {
   "display_name": "Python 3 (ipykernel)",
   "language": "python",
   "name": "python3"
  },
  "language_info": {
   "codemirror_mode": {
    "name": "ipython",
    "version": 3
   },
   "file_extension": ".py",
   "mimetype": "text/x-python",
   "name": "python",
   "nbconvert_exporter": "python",
   "pygments_lexer": "ipython3",
   "version": "3.8.11"
  }
 },
 "nbformat": 4,
 "nbformat_minor": 4
}
