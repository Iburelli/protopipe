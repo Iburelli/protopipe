{
 "cells": [
  {
   "cell_type": "code",
   "execution_count": null,
   "metadata": {},
   "outputs": [],
   "source": [
    "# Remove input cells at runtime (nbsphinx)\n",
    "import IPython.core.display as d\n",
    "d.display_html('<script>jQuery(function() {if (jQuery(\"body.notebook_app\").length == 0) { jQuery(\".input_area\").toggle(); jQuery(\".prompt\").toggle();}});</script>', raw=True)"
   ]
  },
  {
   "cell_type": "markdown",
   "metadata": {},
   "source": [
    "# Direction reconstruction (TRAINING)"
   ]
  },
  {
   "cell_type": "markdown",
   "metadata": {},
   "source": [
    "**Recommended datasample(s):** ``gamma1`` (dataset used to build the energy model)\n",
    "\n",
    "**Data level(s):** DL1b (telescope-wise image parameters) + DL2 (only shower geometry)\n",
    "\n",
    "**Description:**\n",
    "\n",
    "This notebook contains plots and benchmarks proposals from the _protopipe_ pipeline related to shower geometry reconstruction.\n",
    "\n",
    "**Requirements and steps to reproduce:**\n",
    "\n",
    "- get a TRAINING file generated using ``protopipe-TRAINING`` or the equivalent command from the DIRAC Grid interface\n",
    "- execute the notebook with ``protopipe-BENCHMARK``,\n",
    "\n",
    "``protopipe-BENCHMARK launch --config_file configs/benchmarks.yaml -n TRAINING/benchmarks_DL2_direction-reconstruction``\n",
    "\n",
    "To obtain the list of all available parameters add ``--help-notebook``.\n",
    "\n",
    "**Comparison against CTAMARS:**\n",
    "\n",
    "- the input file needs to be a merged TRAINING file from the gamma1 sample\n",
    "- LST stereo condition needs to have been activated when launching ``protopipe-TRAINING`` for the 4 LSTs + 15 MSTs North baseline\n",
    "- reference simtel-files, plots, values and settings can be found [here (please, always refer to the latest version)](https://forge.in2p3.fr/projects/benchmarks-reference-analysis/wiki/Comparisons_between_pipelines).\n",
    "\n",
    "**Development and testing:**  \n",
    "\n",
    "As with any other part of _protopipe_ and being part of the official repository, this notebook can be further developed by any interested contributor.   \n",
    "The execution of this notebook is not currently automatic, it must be done locally by the user _before_ pushing a pull-request.  \n",
    "Please, strip the output before pushing."
   ]
  },
  {
   "cell_type": "markdown",
   "metadata": {},
   "source": [
    "## Table of contents\n",
    "- [Angular resolution vs true energy](#Angular-resolution-vs-true-energy)\n",
    "- [Reconstruction efficiency relative to the number of stereoscopic triggers](#Reconstruction-efficiency-relative-to-the-number-of-stereoscopic-triggers)\n",
    "- [Distribution of true core positions for reconstructed events](#Distribution-of-true-core-positions-for-reconstructed-events)\n",
    "- [Correlation between H_max and atmospheric depth](#Correlation-between-H_max-and-atmospheric-depth)\n",
    "- [Impact distances](#Impact-distances)"
   ]
  },
  {
   "cell_type": "markdown",
   "metadata": {
    "nbsphinx": "hidden",
    "tags": [
     "remove_input"
    ]
   },
   "source": [
    "## Imports"
   ]
  },
  {
   "cell_type": "code",
   "execution_count": null,
   "metadata": {},
   "outputs": [],
   "source": [
    "import os\n",
    "from pathlib import Path\n",
    "import warnings\n",
    "\n",
    "def fxn():\n",
    "    warnings.warn(\"runtime\", RuntimeWarning)\n",
    "\n",
    "import tables\n",
    "import pandas\n",
    "import seaborn as sns\n",
    "import numpy as np\n",
    "import uproot\n",
    "import matplotlib as mpl\n",
    "import matplotlib.pyplot as plt\n",
    "from matplotlib.colors import LogNorm\n",
    "\n",
    "from protopipe.pipeline.io import get_camera_names, read_protopipe_TRAINING_per_tel_type"
   ]
  },
  {
   "cell_type": "markdown",
   "metadata": {
    "nbsphinx": "hidden",
    "tags": [
     "remove_input"
    ]
   },
   "source": [
    "## Input data\n",
    "[back to top](#Table-of-contents)"
   ]
  },
  {
   "cell_type": "markdown",
   "metadata": {
    "nbsphinx": "hidden",
    "tags": [
     "remove_input"
    ]
   },
   "source": [
    "### Protopipe\n",
    "[back to top](#Table-of-contents)"
   ]
  },
  {
   "cell_type": "code",
   "execution_count": null,
   "metadata": {
    "tags": [
     "parameters"
    ]
   },
   "outputs": [],
   "source": [
    "# Parametrized cell\n",
    "load_CTAMARS = True # Enable to compare the CTAN analysis done with CTAMARS (Release 2019)\n",
    "analyses_directory = None\n",
    "output_directory = Path.cwd() # default output directory for plots\n",
    "analysis_name = None\n",
    "input_filename = None # Name of the file produced with protopipe\n",
    "indir_CTAMARS = None  # Path to CTAMARS data (if load_CTAMARS is True)\n",
    "input_file_name_CTAMARS = \"CTA_check_dl2_4L15M.root\" # Name of the CTAMARS reference file to use (if load_CTAMARS is True)\n",
    "input_simtel_filepath = None # simtel file used to plot telescope positions"
   ]
  },
  {
   "cell_type": "code",
   "execution_count": null,
   "metadata": {},
   "outputs": [],
   "source": [
    "if input_filename is None:\n",
    "    try:\n",
    "        input_filename = input_filenames[\"TRAINING_energy_gamma\"]\n",
    "    except (NameError, KeyError):\n",
    "        raise ValueError(\"The name of the input file is undefined: please use benchmarks.yaml or define it using the CLI.\")\n",
    "\n",
    "if input_simtel_filepath is None:\n",
    "    try:\n",
    "        input_simtel_filepath = Path(input_filenames[\"simtel\"])\n",
    "    except (NameError, KeyError, TypeError):\n",
    "        input_simtel_filepath = None # a warning is print later\n",
    "    finally:\n",
    "        if (input_filenames[\"simtel\"]==\"\"):\n",
    "            input_simtel_filepath = None\n",
    "else:\n",
    "    input_simtel_filepath = Path(input_simtel_filepath)\n",
    "    \n",
    "input_directory = Path(analyses_directory) / analysis_name / Path(\"data/TRAINING/for_energy_estimation/\")\n",
    "cameras = get_camera_names(input_directory, input_filename)\n",
    "data = read_protopipe_TRAINING_per_tel_type(input_directory, input_filename, cameras)"
   ]
  },
  {
   "cell_type": "markdown",
   "metadata": {
    "nbsphinx": "hidden",
    "tags": [
     "remove_input"
    ]
   },
   "source": [
    "### CTA-MARS"
   ]
  },
  {
   "cell_type": "code",
   "execution_count": null,
   "metadata": {},
   "outputs": [],
   "source": [
    "if load_CTAMARS == \"False\":\n",
    "    load_CTAMARS = False\n",
    "elif load_CTAMARS == \"True\":\n",
    "    load_CTAMARS = True\n",
    "\n",
    "if load_CTAMARS:\n",
    "    \n",
    "    if not indir_CTAMARS:\n",
    "        try:\n",
    "            indir_CTAMARS = Path(input_data_CTAMARS[\"parent_directory\"]) / Path(input_data_CTAMARS[\"TRAINING/DL2\"])\n",
    "        except (NameError, KeyError):\n",
    "            print(\"WARNING: CTAMARS data undefined! Please, check the documentation of protopipe-BENCHMARKS.\")\n",
    "\n",
    "    path_mars_dl2a = indir_CTAMARS / input_file_name_CTAMARS\n",
    "\n",
    "    CTAMARS_data = {}\n",
    "    with uproot.open(path_mars_dl2a) as CTAMARS:\n",
    "        for key in CTAMARS.keys():\n",
    "            CTAMARS_data[key.split(\";\")[0]] = CTAMARS[key]"
   ]
  },
  {
   "cell_type": "markdown",
   "metadata": {
    "nbsphinx": "hidden",
    "tags": [
     "remove_input"
    ]
   },
   "source": [
    "## Plots and benchmarks\n",
    "[back to top](#Table-of-contents)"
   ]
  },
  {
   "cell_type": "code",
   "execution_count": null,
   "metadata": {},
   "outputs": [],
   "source": [
    "# First we check if a _plots_ folder exists already.  \n",
    "# If not, we create it.\n",
    "plots_folder = Path(output_directory) / \"plots\"\n",
    "plots_folder.mkdir(parents=True, exist_ok=True)"
   ]
  },
  {
   "cell_type": "code",
   "execution_count": null,
   "metadata": {},
   "outputs": [],
   "source": [
    "if load_CTAMARS:\n",
    "\n",
    "    true_energy_bin_edges = CTAMARS[\"reco_fraction\"].to_numpy()[1]\n",
    "    true_energy_bin_centers = CTAMARS[\"angres\"].member(\"fX\")\n",
    "\n",
    "else:\n",
    "    \n",
    "    true_energy_bin_edges = np.arange(-1.9, 2.5, 0.2) # TeV\n",
    "    true_energy_bin_centers = 0.5 * (true_energy_bin_edges[1:]+true_energy_bin_edges[:-1])"
   ]
  },
  {
   "cell_type": "code",
   "execution_count": null,
   "metadata": {},
   "outputs": [],
   "source": [
    "# first merge cameras\n",
    "for i, camera in enumerate(cameras):\n",
    "    if i==0:\n",
    "        all_showers = data[camera]\n",
    "    else:\n",
    "        all_showers = all_showers.append(data[camera])\n",
    "\n",
    "# then drop duplicate showers (stereo information is the same for each event ID)\n",
    "all_unique_triggered_showers = all_showers.drop_duplicates(subset=['event_id'])\n",
    "\n",
    "# then select only showers with a valid stereoscopic reconstruction (+ LST_stereo condition if any)\n",
    "valid_reconstruction = \"is_valid==True\"\n",
    "all_unique_reconstructed_showers = all_unique_triggered_showers.query(valid_reconstruction)"
   ]
  },
  {
   "cell_type": "markdown",
   "metadata": {},
   "source": [
    "### Angular resolution vs true energy\n",
    "[back to top](#Table-of-contents)"
   ]
  },
  {
   "cell_type": "markdown",
   "metadata": {},
   "source": [
    "**Note**  \n",
    "This benchmark should use events with >=2 valid images, and if using prod3b requiring LST-subarray stereo trigger, i.e. either 0 or >=2 triggered LSTs - since LST-subarray hardware trigger was not required in that simulation"
   ]
  },
  {
   "cell_type": "code",
   "execution_count": null,
   "metadata": {},
   "outputs": [],
   "source": [
    "if load_CTAMARS:\n",
    "    plt.figure(figsize=(14, 7), tight_layout=False)\n",
    "    plt.subplot(1, 2, 1)\n",
    "else:\n",
    "    plt.figure(figsize=(7, 7))\n",
    "\n",
    "plt.xlabel(\"log10(True energy) [TeV]\")\n",
    "plt.ylabel(\"Angular distribution 68% containment [deg]\")\n",
    "\n",
    "# protopipe\n",
    "\n",
    "theta = {}\n",
    "ang_res = np.zeros(len(true_energy_bin_centers))\n",
    "    \n",
    "true_energy = np.log10(all_unique_reconstructed_showers[\"true_energy\"])\n",
    "offset = all_unique_reconstructed_showers[\"offset\"]\n",
    "\n",
    "for i in range(len(true_energy_bin_centers)-1):\n",
    "\n",
    "    mask = (true_energy > true_energy_bin_edges[i]) & (true_energy <= true_energy_bin_edges[i + 1])\n",
    "    selected_offsets = np.sort(offset[mask])\n",
    "    ang_res[i] = np.percentile(selected_offsets, 68.0)\n",
    "\n",
    "plt.plot(true_energy_bin_centers, ang_res, '-', label = \"protopipe\")\n",
    "\n",
    "plt.grid()\n",
    "\n",
    "if load_CTAMARS:\n",
    "    \n",
    "    # CTAMARS\n",
    "    plt.plot(true_energy_bin_centers, CTAMARS[\"angres\"].member(\"fY\"), '-', label = \"CTAMARS\")\n",
    "\n",
    "    plt.grid(which=\"both\")\n",
    "    plt.legend()\n",
    "\n",
    "    plt.ylim(0.,0.35)\n",
    "    \n",
    "    plt.subplot(1,2,2)\n",
    "\n",
    "    plt.xlabel(\"log10(True energy) [TeV]\")\n",
    "    plt.ylabel(\"Ratio protopipe / CTAMARS\")\n",
    "\n",
    "    plt.plot(true_energy_bin_centers, ang_res/CTAMARS[\"angres\"].member(\"fY\"), '-', label = \"CTAMARS\")\n",
    "    plt.hlines(1.0, plt.gca().get_xlim()[0], plt.gca().get_xlim()[1], linestyle= '--', color=\"red\")\n",
    "    plt.ylim(0, 2)\n",
    "    plt.grid()\n",
    "\n",
    "plt.savefig(plots_folder / f\"training_angular_resolution_protopipe_{analysis_name}.png\")\n",
    "plt.show()"
   ]
  },
  {
   "cell_type": "markdown",
   "metadata": {},
   "source": [
    "### Reconstruction efficiency relative to the number of stereoscopic triggers\n",
    "[back to top](#Table-of-contents)"
   ]
  },
  {
   "cell_type": "code",
   "execution_count": null,
   "metadata": {},
   "outputs": [],
   "source": [
    "H_all = np.histogram(np.log10(all_unique_triggered_showers[\"true_energy\"]), bins=true_energy_bin_edges)\n",
    "H_reco = np.histogram(np.log10(all_unique_reconstructed_showers[\"true_energy\"]), bins=true_energy_bin_edges)\n",
    "reconstruction_efficiency = H_reco[0] / H_all[0]\n",
    "\n",
    "if load_CTAMARS:\n",
    "    plt.figure(figsize=(14, 7), tight_layout=False)\n",
    "    plt.subplot(1, 2, 1)\n",
    "else:\n",
    "    plt.figure(figsize=(7, 7))\n",
    "\n",
    "plt.xlabel(\"log10(True energy) [TeV]\")\n",
    "plt.ylabel(\"Reconstruction efficiency relative to the number of stereoscopic triggers\")\n",
    "\n",
    "plt.errorbar(true_energy_bin_centers, \n",
    "             reconstruction_efficiency, \n",
    "             xerr=np.diff(true_energy_bin_edges)/2, \n",
    "             yerr = None, \n",
    "             ls='none', \n",
    "             label = \"protopipe\")\n",
    "\n",
    "if load_CTAMARS:\n",
    "    plt.errorbar(x = true_energy_bin_centers,\n",
    "                 y = CTAMARS[\"reco_fraction\"].to_numpy()[0],\n",
    "                 xerr = np.diff(true_energy_bin_edges)/2,\n",
    "                 yerr = CTAMARS[\"reco_fraction\"].errors(),\n",
    "                 ls='none',\n",
    "                 label = \"CTAMARS\")\n",
    "\n",
    "    plt.legend(loc=\"best\")\n",
    "\n",
    "plt.ylim(0,1)\n",
    "plt.grid(which=\"both\")\n",
    "\n",
    "if load_CTAMARS:\n",
    "    plt.subplot(1,2,2)\n",
    "\n",
    "    plt.xlabel(\"log10(True energy) [TeV]\")\n",
    "    plt.ylabel(\"Ratio protopipe / CTAMARS\")\n",
    "\n",
    "    plt.plot(true_energy_bin_centers,\n",
    "             reconstruction_efficiency/CTAMARS[\"reco_fraction\"].to_numpy()[0],\n",
    "             '-')\n",
    "    plt.hlines(1.0, plt.gca().get_xlim()[0], plt.gca().get_xlim()[1], linestyle= '--', color=\"red\")\n",
    "    plt.ylim(0, 2)\n",
    "\n",
    "\n",
    "plt.savefig(plots_folder / f\"training_reconstruction_efficiency_protopipe_{analysis_name}.png\")\n",
    "plt.show()"
   ]
  },
  {
   "cell_type": "markdown",
   "metadata": {},
   "source": [
    "### Distribution of true core positions for reconstructed events\n",
    "[back to top](#Table-of-contents)"
   ]
  },
  {
   "cell_type": "code",
   "execution_count": null,
   "metadata": {},
   "outputs": [],
   "source": [
    "# Not important which simtel you use, just be sure it is from this simulation\n",
    "# https://forge.in2p3.fr/projects/step-by-step-reference-mars-analysis/wiki#The-MC-sample\n",
    "\n",
    "if (input_simtel_filepath is None) or (str(input_simtel_filepath)==\"\"):\n",
    "    print(\"WARNING: undefined simtel file; telescope positions not available for plotting.\")\n",
    "else:\n",
    "    from ctapipe.io import EventSource\n",
    "    source = EventSource(input_url=Path(input_simtel_filepath), max_events=1)\n",
    "    tel_positions = source.subarray.positions"
   ]
  },
  {
   "cell_type": "code",
   "execution_count": null,
   "metadata": {},
   "outputs": [],
   "source": [
    "if load_CTAMARS:\n",
    "\n",
    "    core_distribution_bin_edges_X = CTAMARS[\"histcore\"].axes[0].edges()\n",
    "    core_distribution_bin_edges_Y = CTAMARS[\"histcore\"].axes[1].edges()\n",
    "\n",
    "else:\n",
    "    \n",
    "    core_distribution_bin_edges_X = np.arange(-1200,1204,4)\n",
    "    core_distribution_bin_edges_Y = np.arange(-1200,1204,4)\n",
    "\n",
    "CMAP = plt.cm.viridis\n",
    "\n",
    "if load_CTAMARS:\n",
    "    plt.figure(figsize=(18, 6))\n",
    "    plt.subplot(1, 2, 1)\n",
    "    plt.title(\"protopipe\")\n",
    "else:\n",
    "    plt.figure(figsize=(7, 7))\n",
    "\n",
    "plt.gca().set_aspect('equal')\n",
    "\n",
    "core_distribution = plt.hist2d(x = -all_unique_reconstructed_showers[\"mc_core_y\"],\n",
    "                               y = all_unique_reconstructed_showers[\"mc_core_x\"],\n",
    "                               bins=[core_distribution_bin_edges_X, core_distribution_bin_edges_Y],\n",
    "                               cmap=CMAP,\n",
    "                               norm=LogNorm(vmin=1,vmax=60)\n",
    "                               )\n",
    "\n",
    "plt.colorbar()\n",
    "\n",
    "# Superimpose telescopes positions if available\n",
    "if (input_simtel_filepath is not None):\n",
    "    for tel_index in tel_positions.keys():\n",
    "        plt.plot(-tel_positions[tel_index].value[1], tel_positions[tel_index].value[0], 'o', color=\"black\")\n",
    "\n",
    "plt.xlabel(\"True core X [m]\")\n",
    "plt.ylabel(\"True core Y [m]\")\n",
    "\n",
    "if load_CTAMARS:\n",
    "    plt.subplot(1, 2, 2)\n",
    "\n",
    "    plt.title(\"CTAMARS\")\n",
    "    P = plt.pcolormesh(CTAMARS[\"histcore\"].axes[0].edges(),\n",
    "                  CTAMARS[\"histcore\"].axes[1].edges(),\n",
    "                  CTAMARS[\"histcore\"].values().T,\n",
    "                   cmap=CMAP,\n",
    "                   norm=LogNorm(vmin=1,vmax=60)\n",
    "                  )\n",
    "    # Superimpose telescopes positions if available\n",
    "    if (input_simtel_filepath is not None):\n",
    "        for tel_index in tel_positions.keys():\n",
    "            plt.plot(-tel_positions[tel_index].value[1], tel_positions[tel_index].value[0], 'o', color=\"black\")\n",
    "    plt.gca().set_aspect('equal')\n",
    "    plt.colorbar()\n",
    "    \n",
    "    plt.xlabel(\"True core X [m]\")\n",
    "    plt.ylabel(\"True core Y [m]\")\n",
    "    \n",
    "plt.savefig(plots_folder / f\"training_true_cores_distro_reco_events_protopipe_{analysis_name}.png\")\n",
    "plt.show()"
   ]
  },
  {
   "cell_type": "markdown",
   "metadata": {},
   "source": [
    "### Shower core reconstruction\n",
    "[back to top](#Table-of-contents)"
   ]
  },
  {
   "cell_type": "markdown",
   "metadata": {},
   "source": [
    "All showers reconstructed by any 2 telescopes"
   ]
  },
  {
   "cell_type": "code",
   "execution_count": null,
   "metadata": {},
   "outputs": [],
   "source": [
    "core_res = np.zeros(len(true_energy_bin_centers))\n",
    "\n",
    "if load_CTAMARS:\n",
    "    plt.figure(figsize=(14, 7), tight_layout=False)\n",
    "    plt.subplot(1, 2, 1)\n",
    "else:\n",
    "    plt.figure(figsize=(7, 7))\n",
    "\n",
    "plt.xlabel(\"log10(True energy) [TeV]\")\n",
    "plt.ylabel(\"Reconstructed cores sigma 68% [m]\")\n",
    "\n",
    "true_energy = np.log10(all_unique_reconstructed_showers[\"true_energy\"])\n",
    "\n",
    "true_core_x = all_unique_reconstructed_showers[\"mc_core_x\"]\n",
    "true_core_y = all_unique_reconstructed_showers[\"mc_core_y\"]\n",
    "reco_core_x = all_unique_reconstructed_showers[\"reco_core_x\"]\n",
    "reco_core_y = all_unique_reconstructed_showers[\"reco_core_y\"]\n",
    "\n",
    "core_distances = np.sqrt((true_core_x - reco_core_x)**2 + (true_core_y - reco_core_y)**2)\n",
    "\n",
    "for i in range(len(true_energy_bin_centers)):\n",
    "\n",
    "    mask = (true_energy > true_energy_bin_edges[i]) & (true_energy <= true_energy_bin_edges[i + 1])\n",
    "    selected_core_distances = np.sort(core_distances[mask])\n",
    "    core_res[i] = np.percentile(selected_core_distances, 68.0)\n",
    "\n",
    "plt.plot(true_energy_bin_centers, core_res, 'o', label = \"protopipe\")\n",
    "\n",
    "plt.ylim(0, 90)\n",
    "\n",
    "if load_CTAMARS:\n",
    "    plt.plot(CTAMARS[\"coreres\"].members[\"fX\"], CTAMARS[\"coreres\"].member(\"fY\"), '-', label = \"CTAMARS\")\n",
    "    plt.legend()\n",
    "\n",
    "plt.grid(which=\"both\")\n",
    "\n",
    "if load_CTAMARS:\n",
    "    plt.subplot(1,2,2)\n",
    "\n",
    "    plt.xlabel(\"log10(True energy) [TeV]\")\n",
    "    plt.ylabel(\"Ratio protopipe / CTAMARS\")\n",
    "\n",
    "    plt.plot(true_energy_bin_centers,\n",
    "             core_res/CTAMARS[\"coreres\"].member(\"fY\"),\n",
    "             '-')\n",
    "    plt.hlines(1.0, plt.gca().get_xlim()[0], plt.gca().get_xlim()[1], linestyle= '--', color=\"red\")\n",
    "    plt.ylim(0, 2)\n",
    "\n",
    "plt.savefig(plots_folder / f\"training_shower_core_reco_protopipe_{analysis_name}.png\")\n",
    "plt.show()"
   ]
  },
  {
   "cell_type": "code",
   "execution_count": null,
   "metadata": {},
   "outputs": [],
   "source": [
    "if load_CTAMARS:\n",
    "\n",
    "    core_distribution_bin_edges_X = CTAMARS[\"histcore\"].axes[0].edges()\n",
    "    core_distribution_bin_edges_Y = CTAMARS[\"histcore\"].axes[1].edges()\n",
    "\n",
    "else:\n",
    "    \n",
    "    core_distribution_bin_edges_X = np.arange(-1200,1204,4)\n",
    "    core_distribution_bin_edges_Y = np.arange(-1200,1204,4)\n",
    "\n",
    "CMAP = plt.cm.viridis\n",
    "\n",
    "plt.figure(figsize=(18, 6))\n",
    "\n",
    "plt.subplot(1, 2, 1)\n",
    "plt.gca().set_aspect('equal')\n",
    "\n",
    "core_distribution = plt.hist2d(x = -all_unique_reconstructed_showers[\"reco_core_y\"],\n",
    "                               y = all_unique_reconstructed_showers[\"reco_core_x\"],\n",
    "                               bins=[core_distribution_bin_edges_X, core_distribution_bin_edges_Y],\n",
    "                               cmap=CMAP,\n",
    "                               norm=LogNorm(vmin=1,vmax=60)\n",
    "                               )\n",
    "\n",
    "plt.colorbar()\n",
    "\n",
    "# Superimpose telescopes positions if available\n",
    "if (input_simtel_filepath is not None):\n",
    "    for tel_index in tel_positions.keys():\n",
    "        plt.plot(-tel_positions[tel_index].value[1], tel_positions[tel_index].value[0], 'o', color=\"black\")\n",
    "\n",
    "plt.xlabel(\"Reconstructed core X [m]\")\n",
    "plt.ylabel(\"Reconstructed core Y [m]\")\n",
    "\n",
    "plt.subplot(1, 2, 2)\n",
    "plt.gca().set_aspect('equal')\n",
    "\n",
    "true_core_distribution = plt.hist2d(x = -all_unique_reconstructed_showers[\"mc_core_y\"],\n",
    "                           y = all_unique_reconstructed_showers[\"mc_core_x\"],\n",
    "                           bins=[core_distribution_bin_edges_X, core_distribution_bin_edges_Y],\n",
    "                           cmap=CMAP,\n",
    "                           norm=LogNorm(vmin=1,vmax=60)\n",
    "                           )\n",
    "# Superimpose telescopes positions if available\n",
    "if (input_simtel_filepath is not None):\n",
    "    for tel_index in tel_positions.keys():\n",
    "        plt.plot(-tel_positions[tel_index].value[1], tel_positions[tel_index].value[0], 'o', color=\"black\")\n",
    "\n",
    "plt.colorbar()\n",
    "\n",
    "plt.xlabel(\"True core X [m]\")\n",
    "plt.ylabel(\"True core Y [m]\")\n",
    "    \n",
    "plt.savefig(plots_folder / f\"training_reco_vs_true_cores_reco_events_protopipe_{analysis_name}.png\")\n",
    "plt.show()"
   ]
  },
  {
   "cell_type": "markdown",
   "metadata": {},
   "source": [
    "### Correlation between H_max and atmospheric depth\n",
    "[back to top](#Table-of-contents)"
   ]
  },
  {
   "cell_type": "markdown",
   "metadata": {},
   "source": [
    "The correlation of the two quantities for the events in the \"gamma-1\" training sample is shown below for different arrays and different cuts in minimum number of valid images (in all cases no energy cut is applied to the events)."
   ]
  },
  {
   "cell_type": "code",
   "execution_count": null,
   "metadata": {},
   "outputs": [],
   "source": [
    "if load_CTAMARS:\n",
    "    \n",
    "    CTAMARS_plot = CTAMARS_data[\"Longitmax_vs_hmax\"].to_numpy()\n",
    "\n",
    "    hmax_xmax_bin_edges_X = CTAMARS_plot[1]\n",
    "    hmax_xmax_bin_edges_Y = CTAMARS_plot[2]\n",
    "\n",
    "else:\n",
    "    \n",
    "    hmax_xmax_bin_edges_X = np.arange(0.2, 1.7+0.0125, 0.0125)\n",
    "    hmax_xmax_bin_edges_Y = np.arange(0, 810, 10)\n",
    "\n",
    "plot_names = ['Longitmax_vs_hmax', 'Longitmax_vs_hmax_Ngt2', 'Longitmax_vs_hmax_Ngt5']\n",
    "\n",
    "CMAP = plt.cm.viridis\n",
    "\n",
    "if load_CTAMARS:\n",
    "    plt.figure(figsize=(15,10), tight_layout=False)\n",
    "    n_rows = 2\n",
    "    n_columns = 3\n",
    "    plt.suptitle(\"Upper panel: protopipe - Lower panel: CTAMARS\")\n",
    "    plt.subplots_adjust(hspace=0.3)\n",
    "else:\n",
    "    plt.figure(figsize=(16, 5))\n",
    "    n_rows = 1\n",
    "    n_columns = 3\n",
    "\n",
    "if load_CTAMARS:\n",
    "    for i, plot_name in enumerate(plot_names):\n",
    "\n",
    "        plt.subplot(n_rows, n_columns, n_columns+i+1)\n",
    "\n",
    "        plt.xlabel(\"Log10(h_max [km])\")\n",
    "        plt.ylabel(\"x_max [g/cm^2]\")\n",
    "        plt.title(plot_name)\n",
    "\n",
    "        CTAMARS_plot = CTAMARS_data[plot_name].to_numpy()\n",
    "\n",
    "        CTAMARS_X_edges = CTAMARS_plot[1]\n",
    "        CTAMARS_Y_edges = CTAMARS_plot[2]\n",
    "        CTAMARS_values = CTAMARS_plot[0]\n",
    "\n",
    "        plt.pcolormesh(CTAMARS_X_edges,\n",
    "                       CTAMARS_Y_edges,\n",
    "                       np.transpose(CTAMARS_values),\n",
    "                       cmap=CMAP,\n",
    "                       norm=LogNorm(vmin=1, vmax=1.e4)\n",
    "                       )\n",
    "        plt.colorbar()\n",
    "\n",
    "for i, n_images_reco in enumerate([2, 3, 6]):\n",
    "    \n",
    "    plt.xlabel(\"Log10(h_max [km])\")\n",
    "    plt.ylabel(\"x_max [g/cm^2]\")\n",
    "    \n",
    "    reco_core_x = all_unique_reconstructed_showers[\"reco_core_x\"]\n",
    "    reco_core_y = all_unique_reconstructed_showers[\"reco_core_y\"]\n",
    "\n",
    "    core_distances = np.sqrt((reco_core_x)**2 + (reco_core_y)**2)\n",
    "    \n",
    "    mask = ((all_unique_reconstructed_showers[\"n_tel_reco\"] >= n_images_reco) & (core_distances < 200.) )\n",
    "    x_max = all_unique_reconstructed_showers[\"mc_x_max\"][mask]\n",
    "    h_max = all_unique_reconstructed_showers[\"h_max\"][mask]/1.e3 # km\n",
    "\n",
    "    plt.subplot(n_rows, n_columns, i+1)\n",
    "    plt.hist2d(np.log10(h_max),\n",
    "               x_max,\n",
    "               bins=[hmax_xmax_bin_edges_X, hmax_xmax_bin_edges_Y],\n",
    "               cmap=CMAP,\n",
    "               norm=LogNorm(vmin=1, vmax=1.e4))\n",
    "    plt.colorbar()\n",
    "    plt.title(f\"Minimum number of valid images = {n_images_reco}\")\n",
    "\n",
    "plt.savefig(plots_folder / f\"correlation_Hmax_atmospheric_depth_protopipe_{analysis_name}.png\")\n",
    "plt.show()"
   ]
  },
  {
   "cell_type": "markdown",
   "metadata": {},
   "source": [
    "### Impact distances\n",
    "[back to top](#Table-of-contents)"
   ]
  },
  {
   "cell_type": "markdown",
   "metadata": {},
   "source": [
    "Cutting at 1km to avoid that the outliers effect dominates the plot"
   ]
  },
  {
   "cell_type": "code",
   "execution_count": null,
   "metadata": {},
   "outputs": [],
   "source": [
    "selection = \"impact_dist < 1.e3\"\n",
    "selected_showers = all_unique_reconstructed_showers.query(selection)"
   ]
  },
  {
   "cell_type": "code",
   "execution_count": null,
   "metadata": {},
   "outputs": [],
   "source": [
    "plt.figure(figsize=(15,5))\n",
    "sns.violinplot(x = \"tel_id\", y = selected_showers[\"impact_dist\"], data=selected_showers)\n",
    "plt.ylabel(\"Impact distance [m]\")\n",
    "plt.xlabel(\"Telescope ID number\")\n",
    "plt.grid(axis=\"y\")\n",
    "None"
   ]
  },
  {
   "cell_type": "code",
   "execution_count": null,
   "metadata": {},
   "outputs": [],
   "source": []
  }
 ],
 "metadata": {
  "celltoolbar": "Edit Metadata",
  "kernelspec": {
   "display_name": "Python 3 (ipykernel)",
   "language": "python",
   "name": "python3"
  },
  "language_info": {
   "codemirror_mode": {
    "name": "ipython",
    "version": 3
   },
   "file_extension": ".py",
   "mimetype": "text/x-python",
   "name": "python",
   "nbconvert_exporter": "python",
   "pygments_lexer": "ipython3",
   "version": "3.8.11"
  }
 },
 "nbformat": 4,
 "nbformat_minor": 4
}
