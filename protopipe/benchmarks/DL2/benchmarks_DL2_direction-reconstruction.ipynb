{
 "cells": [
  {
   "cell_type": "code",
   "execution_count": null,
   "metadata": {},
   "outputs": [],
   "source": [
    "# Remove input cells at runtime (nbsphinx)\n",
    "import IPython.core.display as d\n",
    "d.display_html('<script>jQuery(function() {if (jQuery(\"body.notebook_app\").length == 0) { jQuery(\".input_area\").toggle(); jQuery(\".prompt\").toggle();}});</script>', raw=True)"
   ]
  },
  {
   "cell_type": "markdown",
   "metadata": {},
   "source": [
    "# Direction recontruction (DL2)"
   ]
  },
  {
   "cell_type": "markdown",
   "metadata": {},
   "source": [
    "**Recommended datasample(s):**\n",
    "Datasets of fully-analyzed showers used to obtain Instrument Response Functions, which in the default pipeline workflow are called ``gamma3``, ``proton2`` and ``electron``.\n",
    "\n",
    "**Data level(s):** DL2 (shower geometry + estimated energy + estimated particle classification)\n",
    "\n",
    "**Description:**\n",
    "\n",
    "This notebook contains benchmarks for the _protopipe_ pipeline regarding the shower geometry of events which have been completely analyzed.\n",
    "\n",
    "**Requirements and steps to reproduce:**\n",
    "\n",
    "- get a TRAINING file generated using ``protopipe-DL2`` or the equivalent command from the DIRAC Grid interface\n",
    "\n",
    "- execute the notebook with ``protopipe-BENCHMARK``,\n",
    "\n",
    "``protopipe-BENCHMARK launch --config_file configs/benchmarks.yaml -n DL2/benchmarks_DL2_direction-reconstruction``\n",
    "\n",
    "To obtain the list of all available parameters add ``--help-notebook``.\n",
    "\n",
    "**Development and testing:**  \n",
    "  \n",
    "As with any other part of _protopipe_ and being part of the official repository, this notebook can be further developed by any interested contributor.   \n",
    "The execution of this notebook is not currently automatic, it must be done locally by the user _before_ pushing a pull-request.  \n",
    "Please, strip the output before pushing.\n",
    "\n",
    "**TODO:**\n",
    "\n",
    "* ..."
   ]
  },
  {
   "cell_type": "markdown",
   "metadata": {},
   "source": [
    "## Table of contents\n",
    "   - [Energy-dependent offset distribution](#Energy-dependent-offset-distribution)\n",
    "   - [Angular resolution](#Angular-resolution)\n",
    "   - [PSF asymmetry](#PSF-asymmetry)\n",
    "   - [True energy distributions](#True-energy-distributions)"
   ]
  },
  {
   "cell_type": "markdown",
   "metadata": {
    "nbsphinx": "hidden",
    "tags": [
     "remove_input"
    ]
   },
   "source": [
    "## Imports"
   ]
  },
  {
   "cell_type": "code",
   "execution_count": null,
   "metadata": {},
   "outputs": [],
   "source": [
    "%matplotlib inline\n",
    "import matplotlib.pyplot as plt\n",
    "cmap = dict()\n",
    "import matplotlib.colors as colors\n",
    "from matplotlib.colors import LogNorm, PowerNorm\n",
    "count = 0\n",
    "for key in colors.cnames:\n",
    "    if 'dark' in key:\n",
    "    #if key in key:\n",
    "        cmap[count] = key\n",
    "        count = count + 1\n",
    "cmap = {0: 'black', 1: 'red', 2: 'blue', 3: 'green'}\n",
    "import os\n",
    "from pathlib import Path\n",
    "import numpy as np\n",
    "import pandas as pd\n",
    "\n",
    "import astropy.coordinates as c\n",
    "import astropy.wcs as wcs\n",
    "import astropy.units as u\n",
    "import matplotlib.pyplot as plt"
   ]
  },
  {
   "cell_type": "markdown",
   "metadata": {
    "nbsphinx": "hidden",
    "tags": [
     "remove_input"
    ]
   },
   "source": [
    "## Functions"
   ]
  },
  {
   "cell_type": "code",
   "execution_count": null,
   "metadata": {},
   "outputs": [],
   "source": [
    "def compute_psf(data, ebins, radius):\n",
    "    nbin = len(ebins) - 1\n",
    "    psf = np.zeros(nbin)\n",
    "    psf_err = np.zeros(nbin)\n",
    "    for idx in range(nbin):\n",
    "        emin = ebins[idx]\n",
    "        emax = ebins[idx+1]\n",
    "        sel = data.loc[(data['true_energy'] >= emin) & (data['true_energy'] < emax), ['xi']]\n",
    "        if len(sel) != 0:\n",
    "            psf[idx] = np.percentile(sel['xi'], radius)\n",
    "            psf_err[idx] = psf[idx] / np.sqrt(len(sel))\n",
    "        else:\n",
    "            psf[idx] = 0.\n",
    "            psf_err[idx] = 0.\n",
    "    return psf, psf_err\n",
    "\n",
    "def plot_psf(ax, x, y, err, **kwargs):\n",
    "    color = kwargs.get('color', 'red')\n",
    "    label = kwargs.get('label', '')\n",
    "    xlabel = kwargs.get('xlabel', '')\n",
    "    xlim = kwargs.get('xlim', None)\n",
    "    \n",
    "    ax.errorbar(x, y, yerr=err, fmt='o', label=label, color=color) #, yerr=err, fmt='o') #, color=color, label=label)\n",
    "    ax.set_ylabel('PSF (68% containment)')\n",
    "    ax.set_xlabel('True energy [TeV]')\n",
    "    if xlim is not None:\n",
    "        ax.set_xlim(xlim)\n",
    "    return ax"
   ]
  },
  {
   "cell_type": "markdown",
   "metadata": {
    "nbsphinx": "hidden",
    "tags": [
     "remove_input"
    ]
   },
   "source": [
    "## Load data"
   ]
  },
  {
   "cell_type": "code",
   "execution_count": null,
   "metadata": {
    "tags": [
     "parameters"
    ]
   },
   "outputs": [],
   "source": [
    "# Parametrized cell\n",
    "# Modify these variables according to your local setup outside of the Vagrant Box\n",
    "analyses_directory = \"/Users/michele/Applications/ctasoft/dirac/shared_folder/analyses/\" # path to 'shared_folder'\n",
    "output_directory = Path.cwd() # default output directory for plots\n",
    "analysis_name = \"v0.5.0a1\"\n",
    "gammas_infile_name = \"DL2_tail_gamma_merged.h5\"\n",
    "protons_infile_name = \"DL2_tail_proton_merged.h5\"\n",
    "electrons_infile_name = \"DL2_tail_electron_merged.h5\""
   ]
  },
  {
   "cell_type": "code",
   "execution_count": null,
   "metadata": {},
   "outputs": [],
   "source": [
    "input_directory = Path(analyses_directory) / analysis_name / Path(\"data/DL2\")\n",
    "gammas = pd.read_hdf(os.path.join(input_directory, gammas_infile_name), \"/reco_events\")\n",
    "protons = pd.read_hdf(os.path.join(input_directory, protons_infile_name), \"/reco_events\")\n",
    "electrons = pd.read_hdf(os.path.join(input_directory, electrons_infile_name), \"/reco_events\")"
   ]
  },
  {
   "cell_type": "code",
   "execution_count": null,
   "metadata": {},
   "outputs": [],
   "source": [
    "good_events = gammas[(gammas[\"is_valid\"]==True) & (gammas[\"NTels_reco\"] >= 2) & (gammas[\"gammaness\"] >= 0.75)]"
   ]
  },
  {
   "cell_type": "code",
   "execution_count": null,
   "metadata": {},
   "outputs": [],
   "source": [
    "# First we check if a _plots_ folder exists already.  \n",
    "# If not, we create it.\n",
    "plots_folder = Path(output_directory) / \"plots\"\n",
    "plots_folder.mkdir(parents=True, exist_ok=True)"
   ]
  },
  {
   "cell_type": "markdown",
   "metadata": {
    "nbsphinx": "hidden"
   },
   "source": [
    "## Benchmarks"
   ]
  },
  {
   "cell_type": "markdown",
   "metadata": {},
   "source": [
    "Here we use events with the following cuts:\n",
    "- valid reconstructed events\n",
    "- at least 2 reconstructed images, regardless of the camera (on top of any other hardware trigger)\n",
    "- gammaness > 0.75 (mostly a conservative choice)"
   ]
  },
  {
   "cell_type": "markdown",
   "metadata": {},
   "source": [
    "### Energy-dependent offset distribution\n",
    "[back to top](#Table-of-contents)"
   ]
  },
  {
   "cell_type": "code",
   "execution_count": null,
   "metadata": {},
   "outputs": [],
   "source": [
    "min_true_energy = [0.02, 0.2, 2, 20]\n",
    "max_true_energy = [0.2, 2, 20, 200]\n",
    "\n",
    "plt.figure(figsize=(10,5))\n",
    "plt.xlabel(\"Offset [deg]\")\n",
    "plt.ylabel(\"Number of events\")\n",
    "\n",
    "for low_E, high_E in zip(min_true_energy, max_true_energy):\n",
    "    \n",
    "    selected_events = good_events[(good_events[\"true_energy\"]>low_E) & (good_events[\"true_energy\"]<high_E)]\n",
    "    \n",
    "    plt.hist(selected_events[\"offset\"], \n",
    "             bins=100,\n",
    "             range = [0,10],\n",
    "             label=f\"{low_E} < E_true [TeV] < {high_E}\",\n",
    "             histtype=\"step\",\n",
    "             linewidth=2)\n",
    "\n",
    "plt.yscale(\"log\")\n",
    "plt.legend(loc=\"best\")\n",
    "plt.grid(which=\"both\")\n",
    "\n",
    "plt.savefig(plots_folder / f\"DL2_offsets_{analysis_name}.png\")\n",
    "\n",
    "plt.show()"
   ]
  },
  {
   "cell_type": "markdown",
   "metadata": {},
   "source": [
    "### Angular resolution\n",
    "[back to top](#Table-of-contents)"
   ]
  },
  {
   "cell_type": "markdown",
   "metadata": {},
   "source": [
    "Here we compare how the multiplicity influences the performance of reconstructed events."
   ]
  },
  {
   "cell_type": "code",
   "execution_count": null,
   "metadata": {},
   "outputs": [],
   "source": [
    "r_containment = 68\n",
    "\n",
    "energy_bins = 21\n",
    "max_energy_TeV = 0.0125\n",
    "min_energy_TeV = 200.0\n",
    "energy_edges = np.logspace(np.log10(0.01), np.log10(51), energy_bins + 1, True)\n",
    "energy = np.sqrt(energy_edges[1:] * energy_edges[:-1])\n",
    "multiplicity_cuts = ['NTels_reco == 2 & is_valid==True',\n",
    "                     'NTels_reco == 3 & is_valid==True',\n",
    "                     'NTels_reco == 4 & is_valid==True',\n",
    "                     'NTels_reco >= 2 & is_valid==True']\n",
    "\n",
    "events_selected_multiplicity = [good_events[(good_events[\"NTels_reco\"]==2)],\n",
    "                                good_events[(good_events[\"NTels_reco\"]==3)],\n",
    "                                good_events[(good_events[\"NTels_reco\"]==4)],\n",
    "                                good_events[(good_events[\"NTels_reco\"]>=2)]]\n",
    "\n",
    "fig, axes = plt.subplots(nrows=1, ncols=2, figsize=(20, 10))\n",
    "axes = axes.flatten()\n",
    "\n",
    "cmap = {0: 'black', 1: 'red', 2: 'blue', 3: 'green'}\n",
    "\n",
    "limit = [0.01, 51]\n",
    "for cut_idx, cut in enumerate(multiplicity_cuts):\n",
    "    #data_mult = data_evt.query(cut)\n",
    "    data_mult = events_selected_multiplicity[cut_idx]\n",
    "    psf, err_psf = compute_psf(data_mult, energy_edges, 68)\n",
    "    opt={'color': cmap[cut_idx], 'label': multiplicity_cuts[cut_idx]}\n",
    "    plot_psf(axes[0], energy, psf, err_psf, **opt)\n",
    "    \n",
    "    y, tmp = np.histogram(data_mult['true_energy'], bins=energy_edges)\n",
    "    weights = np.ones_like(y)\n",
    "    #weights = weights / float(np.sum(y))\n",
    "    yerr = np.sqrt(y) * weights\n",
    "    centers = 0.5 * (energy_edges[1:] + energy_edges[:-1])\n",
    "    width = energy_edges[1:] - energy_edges[:-1]\n",
    "    axes[1].bar(centers, y * weights, width=width, yerr=yerr, **{'edgecolor': cmap[cut_idx], 'label': multiplicity_cuts[cut_idx], 'lw': 2, 'fill': False})\n",
    "    axes[1].set_ylabel('Number of events')\n",
    "    \n",
    "for ax in axes:\n",
    "    ax.set_xlim(limit)\n",
    "    ax.set_xscale('log')\n",
    "    ax.legend(loc='best')\n",
    "    ax.grid(which='both')\n",
    "    ax.set_xlabel('True energy [TeV]')\n",
    "\n",
    "plt.tight_layout()\n",
    "\n",
    "fig.savefig(plots_folder / f\"DL2_PSF_{analysis_name}.png\")"
   ]
  },
  {
   "cell_type": "markdown",
   "metadata": {},
   "source": [
    "Apply fixed signal efficiency cut (requires well defined ML separator and ML train-ing)\n",
    "\n",
    "Calculate angular resolution for 68%, 80%, and 95% containment radius."
   ]
  },
  {
   "cell_type": "code",
   "execution_count": null,
   "metadata": {},
   "outputs": [],
   "source": [
    "from pyirf.binning import (\n",
    "    add_overflow_bins,\n",
    "    create_bins_per_decade\n",
    ")"
   ]
  },
  {
   "cell_type": "code",
   "execution_count": null,
   "metadata": {},
   "outputs": [],
   "source": [
    "true_energy_bins = create_bins_per_decade(10**-1.9 * u.TeV, 10**2.31 * u.TeV, 1).value\n",
    "\n",
    "gamma_efficiency = 0.9\n",
    "reconstructed_gammas = gammas.query(\"is_valid == True\")\n",
    "gammaness = reconstructed_gammas[\"gammaness\"]\n",
    "gammaness_cut = np.quantile(gammaness, gamma_efficiency)\n",
    "selected_events = reconstructed_gammas.query(f\"gammaness < {gammaness_cut}\")\n",
    "\n",
    "ang_res_68 = []\n",
    "ang_res_80 = []\n",
    "ang_res_95 = []\n",
    "for i in range(len(true_energy_bins)-1):\n",
    "    true_energy_mask = f\"true_energy > {true_energy_bins[i]} & true_energy < {true_energy_bins[i+1]}\"\n",
    "    selected_offsets = selected_events.query(true_energy_mask)[\"offset\"]\n",
    "    ang_res_68.append(np.quantile(selected_offsets, 0.68))\n",
    "    ang_res_80.append(np.quantile(selected_offsets, 0.80))\n",
    "    ang_res_95.append(np.quantile(selected_offsets, 0.95))\n",
    "\n",
    "plt.errorbar(\n",
    "    0.5 * (true_energy_bins[:-1] + true_energy_bins[1:]),\n",
    "    ang_res_68,\n",
    "    xerr=10 ** ((np.log10(true_energy_bins[:-1]) + np.log10(true_energy_bins[1:])) / 2.),\n",
    "    label='68% containment radius',\n",
    "    fmt='o',\n",
    ")\n",
    "plt.errorbar(\n",
    "    0.5 * (true_energy_bins[:-1] + true_energy_bins[1:]),\n",
    "    ang_res_80,\n",
    "    xerr=10 ** ((np.log10(true_energy_bins[:-1]) + np.log10(true_energy_bins[1:])) / 2.),\n",
    "    label='80% containment radius',\n",
    "    fmt = \"o\"\n",
    ")\n",
    "plt.errorbar(\n",
    "    0.5 * (np.log10(true_energy_bins[:-1]) + np.log10(true_energy_bins[1:])),\n",
    "    ang_res_95,\n",
    "    xerr=10 ** ((np.log10(true_energy_bins[:-1]) - np.log10(true_energy_bins[1:])) / 2.),\n",
    "    label='95% containment radius',\n",
    "    fmt = \"o\"\n",
    ")\n",
    "plt.xlabel(\"True energy [TeV]\")\n",
    "plt.xscale(\"log\")\n",
    "plt.ylabel(\"Angular resolution [deg]\")\n",
    "plt.legend()\n",
    "plt.title(f\"Reconstructed gamma ({gamma_efficiency*100}% signal efficiency)\")\n",
    "plt.grid()"
   ]
  },
  {
   "cell_type": "markdown",
   "metadata": {},
   "source": [
    "### H_max as a function of energy for gammas and protons"
   ]
  },
  {
   "cell_type": "markdown",
   "metadata": {},
   "source": [
    "Fixed gamma efficiency at 90%"
   ]
  },
  {
   "cell_type": "code",
   "execution_count": null,
   "metadata": {},
   "outputs": [],
   "source": [
    "reconstructed_gammas = gammas.query(\"is_valid == True\")\n",
    "reconstructed_protons = protons.query(\"is_valid == True\")\n",
    "\n",
    "plt.figure(figsize=(12,6))\n",
    "\n",
    "mask_gammaness = f\"gammaness < 0.9\"\n",
    "\n",
    "plt.subplot(1, 2, 1)\n",
    "\n",
    "plt.hist2d(reconstructed_gammas.query(mask_gammaness)[\"reco_energy\"],\n",
    "           np.log10(reconstructed_gammas.query(mask_gammaness)[\"h_max\"]),\n",
    "           bins=[100,100],\n",
    "           norm=LogNorm(vmin=1,vmax=1.e6)\n",
    "          )\n",
    "plt.xlabel(\"log10(Reconstructed energy) [TeV]\")\n",
    "plt.ylabel(\"log10(H max)\")\n",
    "plt.colorbar()\n",
    "plt.title(\"DL2 gammas\")\n",
    "\n",
    "plt.subplot(1, 2, 2)\n",
    "\n",
    "plt.hist2d(reconstructed_protons.query(mask_gammaness)[\"reco_energy\"],\n",
    "           #np.log10(reconstructed_gammas[\"true_energy\"]),\n",
    "           np.log10(reconstructed_protons.query(mask_gammaness)[\"h_max\"]),\n",
    "           bins=[100,100],\n",
    "           norm=LogNorm(vmin=1,vmax=1.e6)\n",
    "          )\n",
    "plt.xlabel(\"log10(Reconstructed energy) [TeV]\")\n",
    "plt.ylabel(\"log10(H max)\")\n",
    "plt.colorbar()\n",
    "plt.title(\"DL2 protons\")\n",
    "None"
   ]
  },
  {
   "cell_type": "markdown",
   "metadata": {},
   "source": [
    "### PSF asymmetry\n",
    "[back to top](#Table-of-contents)"
   ]
  },
  {
   "cell_type": "code",
   "execution_count": null,
   "metadata": {},
   "outputs": [],
   "source": [
    "reco_alt = good_events.reco_alt\n",
    "reco_az = good_events.reco_az\n",
    "\n",
    "# right now all reco_az for a 180° deg simualtion turn out to be all around -180°\n",
    "#if ~np.count_nonzero(np.sign(reco_az) + 1):\n",
    "reco_az = np.abs(reco_az)\n",
    "\n",
    "# this is needed for projecting the angle onto the sky\n",
    "reco_az_corr = reco_az * np.cos(np.deg2rad(good_events.reco_alt))\n",
    "\n",
    "true_alt = good_events.iloc[0].true_alt\n",
    "true_az = good_events.iloc[0].true_az\n",
    "\n",
    "daz = reco_az - true_az\n",
    "daz_corr = daz * np.cos(np.deg2rad(reco_alt))\n",
    "dalt = reco_alt - true_alt\n",
    "\n",
    "plt.figure(figsize=(5, 5))\n",
    "\n",
    "plt.xlabel(\"Mis-recontruction [deg]\")\n",
    "plt.ylabel(\"Number of events\")\n",
    "\n",
    "plt.hist(daz_corr, bins=100, alpha=0.5, label = \"azimuth\")\n",
    "plt.hist(dalt, bins=100, alpha=0.5, label = \"altitude\")\n",
    "\n",
    "plt.legend()\n",
    "plt.yscale(\"log\")\n",
    "plt.grid()\n",
    "\n",
    "print(\"Mean and STDs of sky-projected mis-reconstruction axes\")\n",
    "print('daz = {:.4f} +/- {:.4f} deg'.format(daz_corr.mean(), daz_corr.std()))\n",
    "print('dalt = {:.4f} +/- {:.4f} deg'.format(dalt.mean(), dalt.std()))\n",
    "\n",
    "plt.show()"
   ]
  },
  {
   "cell_type": "markdown",
   "metadata": {},
   "source": [
    "2D representation with **orange** events being those with **offset < 1 deg** and **E_true > 20 TeV**"
   ]
  },
  {
   "cell_type": "code",
   "execution_count": null,
   "metadata": {},
   "outputs": [],
   "source": [
    "angcut = (good_events['offset'] < 1) & (good_events['true_energy'] > 20)\n",
    "\n",
    "plt.figure(figsize=(5,5))\n",
    "ax = plt.gca()\n",
    "FOV_size = 2.5 # deg\n",
    "\n",
    "ax.scatter(daz_corr, dalt, alpha=0.1, s=1, label='no angular cut')\n",
    "ax.scatter(daz_corr[angcut], dalt[angcut], alpha=0.05, s=1, label='offset < 1 deg & E_true > 20 TeV')\n",
    "\n",
    "ax.set_aspect('equal')\n",
    "ax.set_xlabel('cent. Az [deg]')\n",
    "ax.set_ylabel('cent. Alt [deg]')\n",
    "ax.set_xlim(-FOV_size,FOV_size)\n",
    "ax.set_ylim(-FOV_size,FOV_size)\n",
    "plt.tight_layout()\n",
    "plt.grid(which=\"both\")\n",
    "\n",
    "fig.savefig(plots_folder / f\"PSFasymmetry_2D_altaz_{analysis_name}.png\")"
   ]
  },
  {
   "cell_type": "markdown",
   "metadata": {},
   "source": [
    "### True energy distributions\n",
    "[back to top](#Table-of-contents)"
   ]
  },
  {
   "cell_type": "code",
   "execution_count": null,
   "metadata": {},
   "outputs": [],
   "source": [
    "plt.figure(figsize=(10,10))\n",
    "plt.subplots_adjust(hspace=0.25)\n",
    "true_energy_bin_edges = np.logspace(np.log10(0.003), np.log10(300), 5)\n",
    "nbins = 200\n",
    "\n",
    "for i in range(len(true_energy_bin_edges)-1):\n",
    "    \n",
    "    plt.subplot(2, 2, i+1)\n",
    "    \n",
    "    mask = (good_events[\"true_energy\"]>true_energy_bin_edges[i]) & (good_events[\"true_energy\"]<true_energy_bin_edges[i+1])\n",
    "    \n",
    "    plt.hist2d(daz_corr[mask], dalt[mask], bins=[nbins,nbins], norm=LogNorm())\n",
    "    plt.gca().set_aspect('equal')\n",
    "    plt.colorbar()\n",
    "    plt.xlim(-FOV_size, FOV_size)\n",
    "    plt.ylim(-FOV_size, FOV_size)\n",
    "    plt.title(f\"{true_energy_bin_edges[i]:.2f} < E_true [TeV] < {true_energy_bin_edges[i+1]:.2f}\")\n",
    "    plt.xlabel('cent. Az [deg]')\n",
    "    plt.ylabel('cent. Alt [deg]')"
   ]
  },
  {
   "cell_type": "code",
   "execution_count": null,
   "metadata": {},
   "outputs": [],
   "source": []
  }
 ],
 "metadata": {
  "celltoolbar": "Edit Metadata",
  "kernelspec": {
   "display_name": "Python 3 (ipykernel)",
   "language": "python",
   "name": "python3"
  },
  "language_info": {
   "codemirror_mode": {
    "name": "ipython",
    "version": 3
   },
   "file_extension": ".py",
   "mimetype": "text/x-python",
   "name": "python",
   "nbconvert_exporter": "python",
   "pygments_lexer": "ipython3",
   "version": "3.8.11"
  }
 },
 "nbformat": 4,
 "nbformat_minor": 4
}
